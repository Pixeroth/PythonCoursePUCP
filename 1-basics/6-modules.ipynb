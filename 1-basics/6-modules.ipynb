{
 "cells": [
  {
   "cell_type": "markdown",
   "metadata": {},
   "source": [
    "# Modules"
   ]
  },
  {
   "cell_type": "markdown",
   "metadata": {},
   "source": [
    "#### Loading modules"
   ]
  },
  {
   "cell_type": "code",
   "execution_count": 1,
   "metadata": {},
   "outputs": [
    {
     "name": "stdout",
     "output_type": "stream",
     "text": [
      "3.141592653589793\n"
     ]
    }
   ],
   "source": [
    "# Import cmath library\n",
    "import cmath\n",
    "print (cmath.pi)"
   ]
  },
  {
   "cell_type": "code",
   "execution_count": null,
   "metadata": {},
   "outputs": [],
   "source": [
    "# Import all functions from cmath\n",
    "# Not recommended\n",
    "# from cmath import *\n",
    "# print (cos(pi))"
   ]
  },
  {
   "cell_type": "code",
   "execution_count": 2,
   "metadata": {},
   "outputs": [
    {
     "name": "stdout",
     "output_type": "stream",
     "text": [
      "3.141592653589793\n",
      "(1.2246467991473532e-16-0j)\n"
     ]
    }
   ],
   "source": [
    "# Import cmath with a different namespace\n",
    "import cmath as cm\n",
    "print (cm.pi)\n",
    "print (cm.sin(cm.pi))"
   ]
  },
  {
   "cell_type": "code",
   "execution_count": 3,
   "metadata": {},
   "outputs": [
    {
     "name": "stdout",
     "output_type": "stream",
     "text": [
      "3.141592653589793\n",
      "(1.2246467991473532e-16-0j)\n"
     ]
    }
   ],
   "source": [
    "# Import specific functions from cmath\n",
    "from cmath import pi, sin\n",
    "print (pi)\n",
    "print (sin(pi))"
   ]
  },
  {
   "cell_type": "code",
   "execution_count": 5,
   "metadata": {},
   "outputs": [
    {
     "name": "stdout",
     "output_type": "stream",
     "text": [
      "3.141592653589793\n",
      "(1.2246467991473532e-16-0j)\n",
      "1.2246467991473532e-16\n"
     ]
    }
   ],
   "source": [
    "# Import specific functions from cmath\n",
    "from cmath import pi as pi1, sin as sin1\n",
    "from math import pi, sin\n",
    "\n",
    "print (pi1)\n",
    "print (sin1(pi1))\n",
    "print (sin(pi))"
   ]
  },
  {
   "cell_type": "markdown",
   "metadata": {},
   "source": [
    "#### Unified treatment of complex and real functions"
   ]
  },
  {
   "cell_type": "code",
   "execution_count": 6,
   "metadata": {},
   "outputs": [
    {
     "name": "stdout",
     "output_type": "stream",
     "text": [
      "2.0\n"
     ]
    },
    {
     "ename": "ValueError",
     "evalue": "math domain error",
     "output_type": "error",
     "traceback": [
      "\u001b[1;31m---------------------------------------------------------------------------\u001b[0m",
      "\u001b[1;31mValueError\u001b[0m                                Traceback (most recent call last)",
      "\u001b[1;32m~\\AppData\\Local\\Temp/ipykernel_17976/820579945.py\u001b[0m in \u001b[0;36m<module>\u001b[1;34m\u001b[0m\n\u001b[0;32m      1\u001b[0m \u001b[1;32mfrom\u001b[0m \u001b[0mmath\u001b[0m \u001b[1;32mimport\u001b[0m \u001b[0msqrt\u001b[0m \u001b[1;32mas\u001b[0m \u001b[0msqrt1\u001b[0m\u001b[1;33m\u001b[0m\u001b[1;33m\u001b[0m\u001b[0m\n\u001b[0;32m      2\u001b[0m \u001b[0mprint\u001b[0m\u001b[1;33m(\u001b[0m\u001b[0msqrt1\u001b[0m\u001b[1;33m(\u001b[0m\u001b[1;36m4\u001b[0m\u001b[1;33m)\u001b[0m\u001b[1;33m)\u001b[0m\u001b[1;33m\u001b[0m\u001b[1;33m\u001b[0m\u001b[0m\n\u001b[1;32m----> 3\u001b[1;33m \u001b[0mprint\u001b[0m\u001b[1;33m(\u001b[0m\u001b[0msqrt1\u001b[0m\u001b[1;33m(\u001b[0m\u001b[1;33m-\u001b[0m\u001b[1;36m1\u001b[0m\u001b[1;33m)\u001b[0m\u001b[1;33m)\u001b[0m\u001b[1;33m\u001b[0m\u001b[1;33m\u001b[0m\u001b[0m\n\u001b[0m",
      "\u001b[1;31mValueError\u001b[0m: math domain error"
     ]
    }
   ],
   "source": [
    "from math import sqrt as sqrt1\n",
    "print(sqrt1(4))\n",
    "print(sqrt1(-1))"
   ]
  },
  {
   "cell_type": "code",
   "execution_count": 7,
   "metadata": {},
   "outputs": [
    {
     "name": "stdout",
     "output_type": "stream",
     "text": [
      "(2+0j)\n",
      "1j\n"
     ]
    }
   ],
   "source": [
    "from cmath import sqrt as sqrt2\n",
    "print(sqrt2(4))\n",
    "print(sqrt2(-1))  "
   ]
  },
  {
   "cell_type": "code",
   "execution_count": 8,
   "metadata": {},
   "outputs": [
    {
     "name": "stdout",
     "output_type": "stream",
     "text": [
      "2.0\n",
      "1j\n"
     ]
    }
   ],
   "source": [
    "# Mathematical functions with automatic domain\n",
    "# numpy.sqrt returns NaN for negative numbers\n",
    "from numpy.lib.scimath import sqrt as sqrt3\n",
    "print(sqrt3(4))\n",
    "print(sqrt3(-1))  "
   ]
  },
  {
   "cell_type": "code",
   "execution_count": 9,
   "metadata": {},
   "outputs": [
    {
     "name": "stdout",
     "output_type": "stream",
     "text": [
      "2.0\n",
      "1j\n"
     ]
    },
    {
     "name": "stderr",
     "output_type": "stream",
     "text": [
      "C:\\Users\\cague\\AppData\\Local\\Temp/ipykernel_17976/4029706402.py:3: DeprecationWarning: scipy.sqrt is deprecated and will be removed in SciPy 2.0.0, use numpy.lib.scimath.sqrt instead\n",
      "  print(sqrt4(4))\n",
      "C:\\Users\\cague\\AppData\\Local\\Temp/ipykernel_17976/4029706402.py:4: DeprecationWarning: scipy.sqrt is deprecated and will be removed in SciPy 2.0.0, use numpy.lib.scimath.sqrt instead\n",
      "  print(sqrt4(-1))\n"
     ]
    }
   ],
   "source": [
    "# Equivalent functions in scipy\n",
    "from scipy import sqrt as sqrt4\n",
    "print(sqrt4(4))\n",
    "print(sqrt4(-1))  "
   ]
  },
  {
   "cell_type": "code",
   "execution_count": 11,
   "metadata": {},
   "outputs": [
    {
     "name": "stdout",
     "output_type": "stream",
     "text": [
      "(-1+9.9498743710662j) (-1-9.9498743710662j)\n"
     ]
    }
   ],
   "source": [
    "# Example: the quadratic formula\n",
    "a = 1; b = 2; c = 100 # polynomial coefficients\n",
    "r1 = (-b + sqrt3(b**2 - 4*a*c))/(2*a)\n",
    "r2 = (-b - sqrt3(b**2 - 4*a*c))/(2*a)\n",
    "print(r1, r2)"
   ]
  },
  {
   "cell_type": "code",
   "execution_count": 12,
   "metadata": {},
   "outputs": [
    {
     "name": "stdout",
     "output_type": "stream",
     "text": [
      "-0.2679491924311228 -3.732050807568877\n"
     ]
    }
   ],
   "source": [
    "a = 1; b = 4; c = 1 # polynomial coefficients\n",
    "r1 = (-b + sqrt3(b**2 - 4*a*c))/(2*a)\n",
    "r2 = (-b - sqrt3(b**2 - 4*a*c))/(2*a)\n",
    "print(r1, r2)\n",
    "# print('r1 = {:.10f}  \\nr2 = {:.10f}'.format(r1,r2))"
   ]
  },
  {
   "cell_type": "code",
   "execution_count": null,
   "metadata": {},
   "outputs": [],
   "source": []
  }
 ],
 "metadata": {
  "kernelspec": {
   "display_name": "Python 3 (ipykernel)",
   "language": "python",
   "name": "python3"
  },
  "language_info": {
   "codemirror_mode": {
    "name": "ipython",
    "version": 3
   },
   "file_extension": ".py",
   "mimetype": "text/x-python",
   "name": "python",
   "nbconvert_exporter": "python",
   "pygments_lexer": "ipython3",
   "version": "3.9.6"
  }
 },
 "nbformat": 4,
 "nbformat_minor": 4
}
