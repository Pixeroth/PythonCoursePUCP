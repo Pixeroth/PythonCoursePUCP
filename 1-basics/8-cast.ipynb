{
 "cells": [
  {
   "cell_type": "markdown",
   "metadata": {},
   "source": [
    "# Casting between data types"
   ]
  },
  {
   "cell_type": "raw",
   "metadata": {},
   "source": [
    "# Function\t              Description\n",
    "#===============================================================\n",
    "# int(x)\tConverts x to an integer\n",
    "# long(x)\tConverts x to a long integer\n",
    "# float(x)\tConverts x to a floating point number\n",
    "# str(x)\tConverts x to an string. x can be of the type float, \n",
    "#           integer or long.\n",
    "# hex(x)\tConverts x integer to a hexadecimal string\n",
    "# chr(x)\tConverts x integer to a character\n",
    "# ord(x)\tConverts character x to an integer"
   ]
  },
  {
   "cell_type": "code",
   "execution_count": 1,
   "metadata": {},
   "outputs": [
    {
     "name": "stdout",
     "output_type": "stream",
     "text": [
      "10.9 <class 'float'> 10.9 <class 'str'>\n"
     ]
    }
   ],
   "source": [
    "# casting to integer\n",
    "a = 10.9\n",
    "a1 = '10.9'\n",
    "print(a, type(a), a1, type(a1))"
   ]
  },
  {
   "cell_type": "code",
   "execution_count": 2,
   "metadata": {},
   "outputs": [
    {
     "name": "stdout",
     "output_type": "stream",
     "text": [
      "10 <class 'int'> 10 <class 'int'>\n"
     ]
    }
   ],
   "source": [
    "b = int(a)\n",
    "b1 = int(float(a1))\n",
    "print(b, type(b), b1, type(b1))"
   ]
  },
  {
   "cell_type": "code",
   "execution_count": 3,
   "metadata": {},
   "outputs": [
    {
     "name": "stdout",
     "output_type": "stream",
     "text": [
      "20 <class 'int'> 20 <class 'str'>\n",
      "20.0 <class 'float'> 20.0 <class 'float'>\n"
     ]
    }
   ],
   "source": [
    "# casting to float\n",
    "c = 20\n",
    "c2 = '20'\n",
    "print(c, type(c), c2, type(c2))\n",
    "\n",
    "d = float(c)\n",
    "d2 = float(d)\n",
    "print(d,type(d), d2, type(d2))"
   ]
  },
  {
   "cell_type": "code",
   "execution_count": 4,
   "metadata": {},
   "outputs": [
    {
     "name": "stdout",
     "output_type": "stream",
     "text": [
      "Congratulations, cesar! You just wrote 37 lines of code.\n"
     ]
    }
   ],
   "source": [
    "# casting to string\n",
    "user = \"cesar\"\n",
    "lines = 37\n",
    "\n",
    "print(\"Congratulations, \" + user + \"! You just wrote \" + \\\n",
    "\tstr(lines) + \" lines of code.\")"
   ]
  },
  {
   "cell_type": "code",
   "execution_count": 6,
   "metadata": {},
   "outputs": [
    {
     "name": "stdout",
     "output_type": "stream",
     "text": [
      "Congratulations, cesar ! You just wrote 37 lines of code.\n"
     ]
    }
   ],
   "source": [
    "print(\"Congratulations, %s ! You just wrote %d lines of code.\"%(user, lines))"
   ]
  },
  {
   "cell_type": "code",
   "execution_count": 7,
   "metadata": {},
   "outputs": [
    {
     "name": "stdout",
     "output_type": "stream",
     "text": [
      "Congratulations, cesar ! You just wrote 37 lines of code.\n"
     ]
    }
   ],
   "source": [
    "print(\"Congratulations, {} ! You just wrote {} lines of code.\".format(user, lines))"
   ]
  },
  {
   "cell_type": "code",
   "execution_count": null,
   "metadata": {},
   "outputs": [],
   "source": []
  }
 ],
 "metadata": {
  "kernelspec": {
   "display_name": "Python 3 (ipykernel)",
   "language": "python",
   "name": "python3"
  },
  "language_info": {
   "codemirror_mode": {
    "name": "ipython",
    "version": 3
   },
   "file_extension": ".py",
   "mimetype": "text/x-python",
   "name": "python",
   "nbconvert_exporter": "python",
   "pygments_lexer": "ipython3",
   "version": "3.9.6"
  }
 },
 "nbformat": 4,
 "nbformat_minor": 4
}
