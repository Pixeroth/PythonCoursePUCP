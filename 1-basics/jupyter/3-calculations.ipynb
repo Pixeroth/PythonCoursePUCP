{
 "cells": [
  {
   "cell_type": "markdown",
   "metadata": {},
   "source": [
    "# Exact and long calculations"
   ]
  },
  {
   "cell_type": "markdown",
   "metadata": {},
   "source": [
    "#### Exact computation"
   ]
  },
  {
   "cell_type": "code",
   "execution_count": 3,
   "metadata": {},
   "outputs": [
    {
     "name": "stdout",
     "output_type": "stream",
     "text": [
      "12.0\n"
     ]
    }
   ],
   "source": [
    "x = 4\n",
    "y = 2\n",
    "print ( (x*y + x**y) * y/x )"
   ]
  },
  {
   "cell_type": "markdown",
   "metadata": {},
   "source": [
    "#### Long integer calculation"
   ]
  },
  {
   "cell_type": "markdown",
   "metadata": {},
   "source": [
    "$x^{y^x} = x^{(y^x)}$"
   ]
  },
  {
   "cell_type": "code",
   "execution_count": 4,
   "metadata": {},
   "outputs": [
    {
     "name": "stdout",
     "output_type": "stream",
     "text": [
      "4294967296\n",
      "4294967296\n",
      "65536\n"
     ]
    }
   ],
   "source": [
    "print (x**y**x)\n",
    "print (x**(y**x))\n",
    "print ((x**y)**x)"
   ]
  },
  {
   "cell_type": "code",
   "execution_count": null,
   "metadata": {},
   "outputs": [],
   "source": [
    "# TODO\n",
    "# * Change x and y to reals"
   ]
  },
  {
   "cell_type": "markdown",
   "metadata": {},
   "source": [
    "#### Using the Math library"
   ]
  },
  {
   "cell_type": "code",
   "execution_count": 6,
   "metadata": {},
   "outputs": [],
   "source": [
    "# import math\n",
    "# In ipython try: math.<TAB>\n",
    "import math"
   ]
  },
  {
   "cell_type": "code",
   "execution_count": 7,
   "metadata": {},
   "outputs": [
    {
     "name": "stdout",
     "output_type": "stream",
     "text": [
      "     pi =  3.141592653589793\n",
      "      e =  2.718281828459045\n"
     ]
    }
   ],
   "source": [
    "# Example 1: \n",
    "# important constants\n",
    "print ('     pi = ', math.pi)\n",
    "print ('      e = ', math.e)"
   ]
  },
  {
   "cell_type": "code",
   "execution_count": 8,
   "metadata": {},
   "outputs": [
    {
     "name": "stdout",
     "output_type": "stream",
     "text": [
      "density =  9.549296585513721 g/cm**3\n"
     ]
    }
   ],
   "source": [
    "# Example 2\n",
    "# Density of sphere\n",
    "d = 1   # diameter (cm)\n",
    "m = 5   # mass (g)\n",
    "v = (4/3.)*math.pi*(0.5*d)**3 # volume (cm**3)\n",
    "\n",
    "print (\"density = \", m/v, \"g/cm**3\")"
   ]
  },
  {
   "cell_type": "markdown",
   "metadata": {},
   "source": [
    "### Appendix: The math library"
   ]
  },
  {
   "cell_type": "markdown",
   "metadata": {},
   "source": [
    "##### Basic functions"
   ]
  },
  {
   "cell_type": "raw",
   "metadata": {},
   "source": [
    "1\tabs(x)              The absolute value of x: the (positive) distance between x and zero.\n",
    "2\tceil(x)             The ceiling of x: the smallest integer not less than x\n",
    "3\tcmp(x, y)           -1 if x < y, 0 if x == y, or 1 if x > y\n",
    "4\texp(x)              The exponential of x: ex\n",
    "5\tfabs(x)             The absolute value of x.\n",
    "6\tfloor(x)            The floor of x: the largest integer not greater than x\n",
    "7\tlog(x)              The natural logarithm of x, for x> 0\n",
    "8\tlog10(x)            The base-10 logarithm of x for x> 0.\n",
    "9\tmax(x1, x2,...)     The largest of its arguments: the value closest to positive infinity\n",
    "10\tmin(x1, x2,...)     The smallest of its arguments: the value closest to negative infinity\n",
    "11\tmodf(x)             The fractional and integer parts of x in a two-item tuple. Both parts \n",
    "                            have the same sign as x. The integer part is returned as a float\n",
    "12\tpow(x, y)           The value of x**y.\n",
    "13\tround(x [,n])       x rounded to n digits from the decimal point. Python rounds away \n",
    "                            from zero as a tie-breaker: round(0.5) is 1.0 and round(-0.5) is -1.0.\n",
    "14\tsqrt(x)             The square root of x for x > 0"
   ]
  },
  {
   "cell_type": "markdown",
   "metadata": {},
   "source": [
    "##### Trigonometric functions"
   ]
  },
  {
   "cell_type": "raw",
   "metadata": {},
   "source": [
    "1\tacos(x)             Return the arc cosine of x, in radians.\n",
    "2\tasin(x)             Return the arc sine of x, in radians.\n",
    "3\tatan(x)             Return the arc tangent of x, in radians.\n",
    "4\tatan2(y, x)         Return atan(y / x), in radians.\n",
    "5\tcos(x)              Return the cosine of x radians.\n",
    "6\thypot(x, y)         Return the Euclidean norm, sqrt(x*x + y*y).\n",
    "7\tsin(x)              Return the sine of x radians.\n",
    "8\ttan(x)              Return the tangent of x radians.\n",
    "9\tdegrees(x)          Converts angle x from radians to degrees.\n",
    "10\tradians(x)          Converts angle x from degrees to radians."
   ]
  }
 ],
 "metadata": {
  "kernelspec": {
   "display_name": "Python 3 (ipykernel)",
   "language": "python",
   "name": "python3"
  },
  "language_info": {
   "codemirror_mode": {
    "name": "ipython",
    "version": 3
   },
   "file_extension": ".py",
   "mimetype": "text/x-python",
   "name": "python",
   "nbconvert_exporter": "python",
   "pygments_lexer": "ipython3",
   "version": "3.9.6"
  }
 },
 "nbformat": 4,
 "nbformat_minor": 4
}
