{
 "cells": [
  {
   "cell_type": "markdown",
   "metadata": {},
   "source": [
    "# Requesting input from the user"
   ]
  },
  {
   "cell_type": "markdown",
   "metadata": {},
   "source": [
    "**input**: input any expression from the user (returns a string)"
   ]
  },
  {
   "cell_type": "code",
   "execution_count": null,
   "metadata": {},
   "outputs": [],
   "source": [
    "# Example 1: parse input using cast\n",
    "# input always return a string\n",
    "name = input(\"what is your name: \")\n",
    "\n",
    "# the string can be parsed using casting\n",
    "num_str = input(\"give me an integer number: \")\n",
    "num = float(num_str) #eval(number)\n",
    "\n",
    "# The difference between types are memory managment and operations\n",
    "# that can be performed with them:\n",
    "print ( \"hi\", name, \"your number repeated is: \", num_str*2, \\\n",
    "\t    \"and your number duplicated is: \", num*2)"
   ]
  },
  {
   "cell_type": "markdown",
   "metadata": {},
   "source": [
    "**eval**: evaluates any python string code"
   ]
  },
  {
   "cell_type": "code",
   "execution_count": 3,
   "metadata": {},
   "outputs": [
    {
     "name": "stdin",
     "output_type": "stream",
     "text": [
      "give a complex number:  2+3j\n"
     ]
    },
    {
     "name": "stdout",
     "output_type": "stream",
     "text": [
      "real part:  2.0\n",
      "imaginary part:  3.0\n",
      "abs:  3.605551275463989\n"
     ]
    }
   ],
   "source": [
    "# Example 2    \n",
    "# Example 2: The command eval can be used instead of cast\n",
    "# eval interprets the python code given as a string    \n",
    "c = eval(input(\"give a complex number: \"))  # try 1+1j\n",
    "\n",
    "print(\"real part: \", c.real)\n",
    "print(\"imaginary part: \", c.imag)\n",
    "print(\"abs: \", abs(c))"
   ]
  },
  {
   "cell_type": "markdown",
   "metadata": {},
   "source": [
    "#### Multiple queries"
   ]
  },
  {
   "cell_type": "code",
   "execution_count": 5,
   "metadata": {},
   "outputs": [
    {
     "name": "stdin",
     "output_type": "stream",
     "text": [
      "Enter integer a:  2\n",
      "Enter integer b:  4\n",
      "Enter integer c:  6\n"
     ]
    },
    {
     "name": "stdout",
     "output_type": "stream",
     "text": [
      "2.0 4.0 6.0 12.0\n"
     ]
    }
   ],
   "source": [
    "# Example3: Multiple queries\n",
    "# Alternative 1\n",
    "#   Make the queries separately\n",
    "a = float(input(\"Enter integer a: \"))\n",
    "b = float(input(\"Enter integer b: \"))\n",
    "c = float(input(\"Enter integer c: \"))\n",
    "print(a, b, c, a + b + c)"
   ]
  },
  {
   "cell_type": "code",
   "execution_count": 7,
   "metadata": {},
   "outputs": [
    {
     "name": "stdin",
     "output_type": "stream",
     "text": [
      "Enter three integers (separated by commas):  5,10,15\n"
     ]
    },
    {
     "name": "stdout",
     "output_type": "stream",
     "text": [
      "5 10 15 30\n"
     ]
    }
   ],
   "source": [
    "# Alternative 2\n",
    "#   Use eval to interprete the sequence of inputs (tuple), the input\n",
    "#   data need to be separated by commmas\n",
    "input_string = input( \"Enter three integers (separated by commas): \")\n",
    "a, b, c = eval(input_string)\n",
    "print(a, b, c, a + b + c)"
   ]
  },
  {
   "cell_type": "code",
   "execution_count": 10,
   "metadata": {},
   "outputs": [
    {
     "name": "stdin",
     "output_type": "stream",
     "text": [
      "Enter three integers (separated by spaces):  10 20 30\n"
     ]
    },
    {
     "name": "stdout",
     "output_type": "stream",
     "text": [
      "10 20 30 60\n"
     ]
    }
   ],
   "source": [
    "# Alternative 3\n",
    "#   Split the input by spaces, and cast each of the results using the\n",
    "#   float command. \n",
    "input_string = input( \"Enter three integers (separated by spaces): \")\n",
    "a, b, c = map(int, input_string.split())\n",
    "print(a, b, c, a + b + c)"
   ]
  },
  {
   "cell_type": "code",
   "execution_count": null,
   "metadata": {},
   "outputs": [],
   "source": []
  }
 ],
 "metadata": {
  "kernelspec": {
   "display_name": "Python 3 (ipykernel)",
   "language": "python",
   "name": "python3"
  },
  "language_info": {
   "codemirror_mode": {
    "name": "ipython",
    "version": 3
   },
   "file_extension": ".py",
   "mimetype": "text/x-python",
   "name": "python",
   "nbconvert_exporter": "python",
   "pygments_lexer": "ipython3",
   "version": "3.9.6"
  }
 },
 "nbformat": 4,
 "nbformat_minor": 4
}
