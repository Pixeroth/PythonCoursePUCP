{
 "cells": [
  {
   "cell_type": "markdown",
   "metadata": {},
   "source": [
    "# Working with complexes"
   ]
  },
  {
   "cell_type": "code",
   "execution_count": 1,
   "metadata": {},
   "outputs": [],
   "source": [
    "# Define complexes\n",
    "x = 2. + 3.j\n",
    "y = 2. - 3.j"
   ]
  },
  {
   "cell_type": "code",
   "execution_count": 2,
   "metadata": {},
   "outputs": [
    {
     "name": "stdout",
     "output_type": "stream",
     "text": [
      "(4+0j)\n",
      "6j\n",
      "(13+0j)\n",
      "(-0.38461538461538464+0.9230769230769231j)\n",
      "(-75.89273435375345-236.07670859463374j)\n"
     ]
    }
   ],
   "source": [
    "# Basic operations\n",
    "print(x + y)\n",
    "print(x - y)\n",
    "print(x * y)\n",
    "print(x / y)\n",
    "print(x ** y)"
   ]
  },
  {
   "cell_type": "code",
   "execution_count": 3,
   "metadata": {},
   "outputs": [
    {
     "name": "stdout",
     "output_type": "stream",
     "text": [
      "-1.0\n",
      "3.605551275463989\n"
     ]
    }
   ],
   "source": [
    "# Real, imag and abs\n",
    "print (x.real + y.imag)\n",
    "print (abs(y))"
   ]
  },
  {
   "cell_type": "code",
   "execution_count": 4,
   "metadata": {},
   "outputs": [],
   "source": [
    "# using the cmath\n",
    "# In ipython try: cmath.<TAB>\n",
    "import cmath"
   ]
  },
  {
   "cell_type": "code",
   "execution_count": 5,
   "metadata": {},
   "outputs": [
    {
     "name": "stdout",
     "output_type": "stream",
     "text": [
      "(9.15449914691143-4.168906959966565j)\n",
      "0.0\n"
     ]
    }
   ],
   "source": [
    "# Example 1\n",
    "print (cmath.sin(x))\n",
    "print (cmath.phase(x*y))"
   ]
  },
  {
   "cell_type": "code",
   "execution_count": 6,
   "metadata": {},
   "outputs": [],
   "source": [
    "# Example 2: \n",
    "# Adding two phasors\n",
    "v1 = cmath.exp(cmath.pi*1j)           # (-1,0)\n",
    "v2 = cmath.exp((3/2.)*cmath.pi*1j)    # (0,-1)\n",
    "v3 = v1 + v2                          # (-1,-1)"
   ]
  },
  {
   "cell_type": "code",
   "execution_count": 7,
   "metadata": {},
   "outputs": [
    {
     "name": "stdout",
     "output_type": "stream",
     "text": [
      "1.4142135623730951\n",
      "-135.00000000000003\n"
     ]
    }
   ],
   "source": [
    "print(abs(v3))\n",
    "print(cmath.phase(v3)*180/cmath.pi) # in degrees"
   ]
  }
 ],
 "metadata": {
  "kernelspec": {
   "display_name": "Python 3 (ipykernel)",
   "language": "python",
   "name": "python3"
  },
  "language_info": {
   "codemirror_mode": {
    "name": "ipython",
    "version": 3
   },
   "file_extension": ".py",
   "mimetype": "text/x-python",
   "name": "python",
   "nbconvert_exporter": "python",
   "pygments_lexer": "ipython3",
   "version": "3.9.6"
  }
 },
 "nbformat": 4,
 "nbformat_minor": 4
}
