{
 "cells": [
  {
   "cell_type": "markdown",
   "metadata": {},
   "source": [
    "# Formating strings"
   ]
  },
  {
   "cell_type": "markdown",
   "metadata": {},
   "source": [
    "### Argument specifiers"
   ]
  },
  {
   "cell_type": "raw",
   "metadata": {},
   "source": [
    "%c\t  character\n",
    "%s\t  string (conversion any object via str() prior to formatting)\n",
    "%d\t  signed decimal integer\n",
    "%u\t  unsigned decimal integer\n",
    "%e\t  exponential notation (with lowercase 'e')\n",
    "%E\t  exponential notation (with UPPERcase 'E')\n",
    "%f\t  floating point real number\n",
    "%g\t  the shorter of %f and %e\n",
    "%G\t  the shorter of %f and %E\n",
    "\n",
    "Let:\n",
    "- z is some specifier: c, s, d, u,...\n",
    "- x, y are integer numbers \n",
    "\n",
    "%xz   format z right-adjusted in a field of width x\n",
    "%-xz  format z left-adjusted in a field of width x\n",
    "\n",
    "%xs   String of characters, total width x (optional).\n",
    "%xd   Signed decimal integer, total width x (optional).\n",
    "%xf   Print a float with x decimal places. \n",
    "%x.yf Floating Point value, x wide with y decimal places. Note \n",
    "      that the output will contain more than x characters if \n",
    "\t  necessary to show y decimal places plus the decimal point.\n",
    "%x.ye Scientific notation, x wide with y decimal places.\n",
    "%x.yg General notation: switches between floating point and\n",
    "      scientific as appropriate."
   ]
  },
  {
   "cell_type": "markdown",
   "metadata": {},
   "source": [
    "### Using the format string operator %"
   ]
  },
  {
   "cell_type": "code",
   "execution_count": 5,
   "metadata": {},
   "outputs": [
    {
     "name": "stdout",
     "output_type": "stream",
     "text": [
      "Student cesar scored 19.433 on the final exam, for a grade of 5.\n"
     ]
    }
   ],
   "source": [
    "# Example 1\n",
    "name = \"cesar\"\n",
    "FinalExamScore = 19.43289\n",
    "FinalGrade = 5\n",
    "\n",
    "longString =  \"Student %s scored %.3f on the final exam, for a grade of %d.\" % (name, FinalExamScore, FinalGrade )\n",
    "print(longString)"
   ]
  },
  {
   "cell_type": "code",
   "execution_count": null,
   "metadata": {},
   "outputs": [],
   "source": [
    "# Example 2\n",
    "from math import pi, e\n",
    "sum = pi + e\n",
    "\n",
    "print (\"Decimal to int: %d\" % pi)\n",
    "print (\"Floating Point, two decimal places: %0.2f \" % pi)\n",
    "print (\"Scientific, two D.P, total width 10: %10.2e\" % pi)\n",
    "print (\"The sum of %5.3f and %5.3f is %5.3f.\" % (pi, e, sum))"
   ]
  },
  {
   "cell_type": "markdown",
   "metadata": {},
   "source": [
    "### Using the format() method of strings"
   ]
  },
  {
   "cell_type": "code",
   "execution_count": null,
   "metadata": {},
   "outputs": [],
   "source": [
    "t = 5.\n",
    "g = 9.81\n",
    "v0 = 0.6\n",
    "y = v0*t - 0.5*g*t**2\n",
    "u_v = 'm/s'"
   ]
  },
  {
   "cell_type": "code",
   "execution_count": null,
   "metadata": {},
   "outputs": [],
   "source": [
    "print('''\\nAt t={} s, a ball with initial velocity v0={} m/s\n",
    "is located at the height {} m.'''.format(t, v0, y))"
   ]
  },
  {
   "cell_type": "code",
   "execution_count": null,
   "metadata": {},
   "outputs": [],
   "source": [
    "print('''\\nAt t={time} s, a ball with initial velocity v0={speed} m/s\n",
    "is located at the height {height} m.'''.format(time=t, speed=v0, height=y))"
   ]
  },
  {
   "cell_type": "code",
   "execution_count": null,
   "metadata": {},
   "outputs": [],
   "source": [
    "print('''\\nAt t={time:f} s, a ball with initial velocity v0={speed:.3E} m/s\n",
    "is located at the height {height:.2f} m.'''.format(time=t, speed=v0, height=y))"
   ]
  },
  {
   "cell_type": "code",
   "execution_count": null,
   "metadata": {},
   "outputs": [],
   "source": [
    "print(\"\"\"\\nAt t={time:f} s, a ball with initial velocity v0={speed:.3E} in {unit}\n",
    "is located at the height {height:.2f} m.\"\"\".format(speed=v0, height=y, time=t, \n",
    "unit=u_v))"
   ]
  },
  {
   "cell_type": "markdown",
   "metadata": {},
   "source": [
    "### Escape sequences "
   ]
  },
  {
   "cell_type": "raw",
   "metadata": {},
   "source": [
    "\\       Break a line into multiple lines while ensuring the continuation of the line\n",
    "\\\\\t    Insert a Backslash character in the string\n",
    "\\’\t    Inserts a Single quote character in the string\n",
    "\\”\t    Inserts a Double Quote character in the string\n",
    "\\n\t    Insert a new line in the string\n",
    "\\t\t    Insert a Tab in the string\n",
    "\\r\t    Insert a Carriage return in the string\n",
    "\\b\t    Insert a backspace in the string\n",
    "\\u\t    Insert a Unicode character in the string\n",
    "\\000\tInsert a character in the string based on its octal value\n",
    "\\xhh\tInsert a character in the string based on its hex value "
   ]
  }
 ],
 "metadata": {
  "kernelspec": {
   "display_name": "Python 3 (ipykernel)",
   "language": "python",
   "name": "python3"
  },
  "language_info": {
   "codemirror_mode": {
    "name": "ipython",
    "version": 3
   },
   "file_extension": ".py",
   "mimetype": "text/x-python",
   "name": "python",
   "nbconvert_exporter": "python",
   "pygments_lexer": "ipython3",
   "version": "3.9.6"
  }
 },
 "nbformat": 4,
 "nbformat_minor": 4
}
