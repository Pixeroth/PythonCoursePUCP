{
 "cells": [
  {
   "cell_type": "markdown",
   "metadata": {},
   "source": [
    "# Using matplotlib"
   ]
  },
  {
   "cell_type": "markdown",
   "metadata": {},
   "source": [
    "### Some plotting options"
   ]
  },
  {
   "cell_type": "raw",
   "metadata": {},
   "source": [
    "Line types:\n",
    "'-' solid line\n",
    "'--' dashed line\n",
    "':' dotted line\n",
    "'-.' dash-dot line\n",
    "\n",
    "Data point markers:\n",
    "'o' circle\n",
    "'^' upward-pointing triangle\n",
    "'s' square\n",
    "'+' plus\n",
    "'x' cross\n",
    "'D' diamond\n",
    "\n",
    "Colors:\n",
    "'b' blue\n",
    "'c' cyan\n",
    "'g' green\n",
    "'k' black\n",
    "'m' magenta\n",
    "'r' red\n",
    "'w' white\n",
    "'y' yellow\n",
    "\n",
    "lw = value      # line width\n",
    "ms = value:     # marker size\n",
    "color = value:  # color\n",
    "\n",
    "RGB Colors\n",
    "https://www.rapidtables.com/web/color/RGB_Color.html"
   ]
  },
  {
   "cell_type": "markdown",
   "metadata": {},
   "source": [
    "### Old pyplot lib"
   ]
  },
  {
   "cell_type": "markdown",
   "metadata": {
    "tags": []
   },
   "source": [
    "Namespaces populated:\n",
    "* from numpy import *\n",
    "* from matplotlib import *"
   ]
  },
  {
   "cell_type": "markdown",
   "metadata": {},
   "source": [
    "##### Run pylab scripts from the command line"
   ]
  },
  {
   "cell_type": "code",
   "execution_count": null,
   "metadata": {},
   "outputs": [],
   "source": [
    "# > ipython 1-pylabplot.py --pylab (use --pylab)\n",
    "# > ipython 1-pylabplot.py --pylab qt (use --pylab)"
   ]
  },
  {
   "cell_type": "markdown",
   "metadata": {},
   "source": [
    "##### Using pylab interactively"
   ]
  },
  {
   "cell_type": "code",
   "execution_count": null,
   "metadata": {},
   "outputs": [],
   "source": [
    "# from pylab import * \n",
    "# or use magic:\n",
    "%pylab inline"
   ]
  },
  {
   "cell_type": "code",
   "execution_count": null,
   "metadata": {},
   "outputs": [],
   "source": [
    "# Generate data\n",
    "x = array(linspace(0, pi, 10))\n",
    "y = sin(x)\n",
    "\n",
    "# basic plotting\n",
    "plot(x, y, 'bo-')  \n",
    "show()"
   ]
  },
  {
   "cell_type": "markdown",
   "metadata": {},
   "source": [
    "##### Run pylab scripts from ipython"
   ]
  },
  {
   "cell_type": "code",
   "execution_count": null,
   "metadata": {},
   "outputs": [],
   "source": [
    "# pylab imported inside the module: \n",
    "# >> from pylab import * \n",
    "\n",
    "%run ./scripts/2-pylabplot.py"
   ]
  },
  {
   "cell_type": "markdown",
   "metadata": {},
   "source": [
    "### Standard way to load matplotlib"
   ]
  },
  {
   "cell_type": "code",
   "execution_count": null,
   "metadata": {},
   "outputs": [],
   "source": [
    "# Running matplotlib from a script\n",
    "\n",
    "%run ./scripts/3-matplotlib.py"
   ]
  },
  {
   "cell_type": "code",
   "execution_count": null,
   "metadata": {},
   "outputs": [],
   "source": [
    "# Load matplotlib interactively\n",
    "\n",
    "import numpy as np\n",
    "import matplotlib.pyplot as plt\n",
    "\n",
    "# try: qt\n",
    "%matplotlib inline \n",
    "\n",
    "time = np.linspace(0.0, 10.0, 100)\n",
    "height = np.exp(-time/3.0)*np.sin(time*3)\n",
    "\n",
    "plt.figure(figsize=(18, 8))  # inches\n",
    "\n",
    "plt.plot(time, height, 'b--o', ms=6, lw=3)\n",
    "plt.plot(time, 0.3*np.sin(time*3), '-', color='chocolate')\n",
    "\n",
    "plt.legend(['damped oscillator', 'free oscillator'], loc='upper right', fontsize=14)\n",
    "\n",
    "plt.title('Theory vs experiment', fontsize=28)\n",
    "plt.xlabel('Time (s)', fontsize=14)\n",
    "plt.ylabel('Amplitude (m)', fontsize=14)\n",
    "\n",
    "plt.tick_params(labelsize=20)\n",
    "\n",
    "plt.grid()\n",
    "\n",
    "plt.show()"
   ]
  },
  {
   "cell_type": "markdown",
   "metadata": {},
   "source": [
    "### Saving plots"
   ]
  },
  {
   "cell_type": "code",
   "execution_count": null,
   "metadata": {
    "collapsed": false,
    "jupyter": {
     "outputs_hidden": false
    }
   },
   "outputs": [],
   "source": [
    "import numpy as np\n",
    "import matplotlib.pyplot as plt\n",
    "\n",
    "x = np.arange(-np.pi, np.pi, np.pi/100)\n",
    "\n",
    "cm = 1/2.54\n",
    "plt.figure(figsize=(20*cm, 15*cm), dpi=150)\n",
    "\n",
    "plt.plot(x, np.sin(x), 'b-', label='sine')\n",
    "plt.plot(x, np.cos(x), 'g--', label='cosine')\n",
    "plt.plot(x, np.tan(x), 'ro:', label='tan')\n",
    "\n",
    "plt.xlabel('xvalue')\n",
    "plt.ylabel('trig function value')\n",
    "plt.xlim(-np.pi, np.pi)\n",
    "plt.ylim(-3, 3)\n",
    "plt.legend (loc='upper left') # also: 0, 1, ...\n",
    "\n",
    "plt.savefig('./img/plot1.png')\n",
    "plt.close()"
   ]
  },
  {
   "cell_type": "code",
   "execution_count": null,
   "metadata": {
    "collapsed": false,
    "jupyter": {
     "outputs_hidden": false
    }
   },
   "outputs": [],
   "source": [
    "import numpy as np\n",
    "import matplotlib.pyplot as plt\n",
    "\n",
    "x = np.arange(-np.pi, np.pi, np.pi/100)\n",
    "\n",
    "plt.figure()\n",
    "\n",
    "plt.plot(x, np.sin(x), 'b-', label='sine')\n",
    "plt.plot(x, np.cos(x), 'g--', label='cosine')\n",
    "plt.plot(x, np.tan(x), 'ro:', label='tan')\n",
    "\n",
    "plt.xlabel('xvalue')\n",
    "plt.ylabel('trig function value')\n",
    "plt.xlim(-np.pi,np.pi)\n",
    "plt.ylim(-3,3)\n",
    "plt.legend (loc='upper left')\n",
    "\n",
    "cm = 1/2.54\n",
    "figH = plt.gcf()   # gcf: get current figure\n",
    "figH.set_size_inches(20*cm, 15*cm)\n",
    "\n",
    "plt.savefig('./img/plot2.png', dpi=150)\n",
    "plt.close()"
   ]
  },
  {
   "cell_type": "markdown",
   "metadata": {},
   "source": [
    "### Plotting from a file"
   ]
  },
  {
   "cell_type": "code",
   "execution_count": null,
   "metadata": {
    "collapsed": false,
    "jupyter": {
     "outputs_hidden": false
    }
   },
   "outputs": [],
   "source": [
    "import numpy as np\n",
    "import matplotlib.pyplot as plt\n",
    "\n",
    "x, y1, y2 = np.loadtxt('./data/data-3-col.dat', unpack = True)\n",
    "\n",
    "plt.figure()\n",
    "plt.plot(x, y1, 'r-', x, y2, 'b-')\n",
    "plt.xlabel('Frequency (Hz)')\n",
    "plt.ylabel('Amplitude (arbitrary units)')\n",
    "plt.legend(['serie 1', 'serie 2'])\n",
    "plt.show()"
   ]
  },
  {
   "cell_type": "markdown",
   "metadata": {},
   "source": [
    "### Plots several functions "
   ]
  },
  {
   "cell_type": "code",
   "execution_count": null,
   "metadata": {
    "collapsed": false,
    "jupyter": {
     "outputs_hidden": false
    }
   },
   "outputs": [],
   "source": [
    "# Plotting several trig functions\n",
    "import numpy as np\n",
    "import matplotlib.pyplot as plt\n",
    "\n",
    "%matplotlib inline\n",
    "\n",
    "def plottrig(f, legend=None):\n",
    "    xvalues = np.linspace(-np.pi, np.pi, 100)\n",
    "    \n",
    "    plt.plot(xvalues, f(xvalues))\n",
    "    plt.xlim(-np.pi, np.pi)\n",
    "    plt.ylim(-2, 2)\n",
    "    \n",
    "    if legend != None:\n",
    "        plt.legend([legend])"
   ]
  },
  {
   "cell_type": "code",
   "execution_count": null,
   "metadata": {
    "collapsed": false,
    "jupyter": {
     "outputs_hidden": false
    }
   },
   "outputs": [],
   "source": [
    "plt.figure(0)   \n",
    "plottrig(np.sin, legend=\"sin(x)\")"
   ]
  },
  {
   "cell_type": "code",
   "execution_count": null,
   "metadata": {
    "collapsed": false,
    "jupyter": {
     "outputs_hidden": false
    }
   },
   "outputs": [],
   "source": [
    "# generate data\n",
    "trig_functions = [np.sin, np.cos, np.tan]\n",
    "trig_legends = ['sin', 'cos', 'tan']\n",
    "trig_data = list(zip(trig_functions, trig_legends))  # zip can only be iterated once"
   ]
  },
  {
   "cell_type": "code",
   "execution_count": null,
   "metadata": {
    "collapsed": false,
    "jupyter": {
     "outputs_hidden": false
    }
   },
   "outputs": [],
   "source": [
    "plt.figure(1)\n",
    "for func in trig_functions :\n",
    "    plottrig(func)"
   ]
  },
  {
   "cell_type": "code",
   "execution_count": null,
   "metadata": {
    "collapsed": false,
    "jupyter": {
     "outputs_hidden": false
    }
   },
   "outputs": [],
   "source": [
    "i = 2\n",
    "for (function, legend) in trig_data:\n",
    "    plt.figure(i)\n",
    "    plottrig(function, legend) \n",
    "    i = i + 1"
   ]
  },
  {
   "cell_type": "code",
   "execution_count": null,
   "metadata": {
    "collapsed": false,
    "jupyter": {
     "outputs_hidden": false
    }
   },
   "outputs": [],
   "source": [
    "plt.figure(5)\n",
    "for func in trig_functions:\n",
    "    plottrig(func)\n",
    "    \n",
    "plt.legend(trig_legends)"
   ]
  },
  {
   "cell_type": "code",
   "execution_count": null,
   "metadata": {
    "collapsed": false,
    "jupyter": {
     "outputs_hidden": false
    }
   },
   "outputs": [],
   "source": [
    "plt.figure(2)\n",
    "plt.title(\"SIN\")\n",
    "plt.show()"
   ]
  },
  {
   "cell_type": "markdown",
   "metadata": {
    "jupyter": {
     "outputs_hidden": false
    }
   },
   "source": [
    "### Manipulate figures"
   ]
  },
  {
   "cell_type": "code",
   "execution_count": null,
   "metadata": {
    "collapsed": false,
    "jupyter": {
     "outputs_hidden": false
    }
   },
   "outputs": [],
   "source": [
    "fig, ax = plt.subplots(1, 1, figsize=(10, 6)) \n",
    "\n",
    "x = np.linspace(0.0, 10.0, 100)\n",
    "y = np.exp(-x/3.0)*np.sin(x*3)\n",
    "\n",
    "ax.plot(x, y, 'o--')\n",
    "ax.set_xlabel('time', fontsize=14)\n",
    "ax.set_ylabel('amplitude', fontsize=14)\n",
    "plt.grid()"
   ]
  },
  {
   "cell_type": "code",
   "execution_count": null,
   "metadata": {
    "collapsed": false,
    "jupyter": {
     "outputs_hidden": false
    }
   },
   "outputs": [],
   "source": [
    "fig, ax = plt.subplots(2, 3, figsize=(10, 6)) \n",
    "\n",
    "x = np.linspace(0.0, 10.0, 150)\n",
    "y = np.exp(-x/2.0)*np.sin(x*3)\n",
    "\n",
    "ax[0,0].plot(x, y, 'o--')\n",
    "ax[0,0].set_xlabel('time', fontsize=14)\n",
    "ax[0,0].set_ylabel('amplitude', fontsize=14)\n",
    "ax[0,0].grid()"
   ]
  },
  {
   "cell_type": "code",
   "execution_count": null,
   "metadata": {
    "collapsed": false,
    "jupyter": {
     "outputs_hidden": false
    }
   },
   "outputs": [],
   "source": [
    "fig, axes = plt.subplots(2, 3, figsize=(20, 8)) \n",
    "plt.subplots_adjust(wspace=0.3, hspace=0.4)\n",
    "\n",
    "ax = axes[0,0]\n",
    "ax.plot(x, y, 'o--')\n",
    "ax.set_xlabel('time')\n",
    "ax.set_ylabel('amplitude')\n",
    "ax.set_title('sin function')\n",
    "ax.grid()\n",
    "\n",
    "ax = axes[0,2]\n",
    "ax.plot(x, y, 'mo--', label='series 1')\n",
    "ax.set_xlabel('time')\n",
    "ax.set_ylabel('amplitude')\n",
    "ax.tick_params(axis='x', labelsize=6)\n",
    "ax.legend()\n",
    "ax.grid()\n",
    "\n",
    "ax = axes[1,1]\n",
    "ax.plot(x, y, 'o--', label='series 1')\n",
    "ax.text(6, 0.4, 'sin function')\n",
    "ax.set_xlabel('time')\n",
    "ax.set_ylabel('amplitude')\n",
    "ax.legend(loc='upper right')\n",
    "ax.grid()\n",
    "\n",
    "ax = axes[1,2]\n",
    "ax.plot(x, y, 'o--', label='series 1')\n",
    "ax.text(0.5, 0.5, '${mean}_{y}$ = %0.2f' % np.mean(y), bbox = {'edgecolor':'red', 'facecolor':'white'}, \n",
    "        fontsize=14, transform=ax.transAxes, ha='center') # transform=ax.transAxes: scaled coords\n",
    "ax.set_title('sin function')\n",
    "ax.set_xlabel('time')\n",
    "ax.set_ylabel('amplitude')\n",
    "ax.legend(loc='upper right', edgecolor='red')\n",
    "ax.grid()\n",
    "\n",
    "fig.text(0.5, -0.005, 'Different views of sin function', fontsize=20, ha='center') # transform=ax.transAxes: scaled coords\n",
    "plt.show()"
   ]
  },
  {
   "cell_type": "markdown",
   "metadata": {
    "jupyter": {
     "outputs_hidden": false
    }
   },
   "source": [
    "### Other type of plots"
   ]
  },
  {
   "cell_type": "markdown",
   "metadata": {
    "jupyter": {
     "outputs_hidden": false
    }
   },
   "source": [
    "##### Histograms"
   ]
  },
  {
   "cell_type": "code",
   "execution_count": null,
   "metadata": {},
   "outputs": [],
   "source": [
    "values = np.loadtxt(\"./data/normal.dat\")"
   ]
  },
  {
   "cell_type": "code",
   "execution_count": null,
   "metadata": {},
   "outputs": [],
   "source": [
    "# bins: number of bins\n",
    "# density: normalized to 1\n",
    "# histtype: 'bar', 'barstacked', 'step', 'stepfilled'\n",
    "val_hist = plt.hist(values, bins=25, density=True, histtype='step')\n",
    "plt.grid()"
   ]
  },
  {
   "cell_type": "code",
   "execution_count": null,
   "metadata": {},
   "outputs": [],
   "source": [
    "val_hist"
   ]
  },
  {
   "cell_type": "markdown",
   "metadata": {},
   "source": [
    "##### Surfaces and contours"
   ]
  },
  {
   "cell_type": "code",
   "execution_count": null,
   "metadata": {},
   "outputs": [],
   "source": [
    "ls = np.linspace(-1, 1, 100)\n",
    "x, y = np.meshgrid(ls, ls)\n",
    "z = x**2 + y**2"
   ]
  },
  {
   "cell_type": "code",
   "execution_count": null,
   "metadata": {},
   "outputs": [],
   "source": [
    "plt.figure(figsize=(6, 6))\n",
    "plt.contourf(x, y, z, levels=80, vmax=1.4, cmap='cividis')\n",
    "plt.axis('square') # plt.gca().set_aspect('equal')\n",
    "plt.colorbar(fraction=0.046, pad=0.04)\n",
    "plt.show()"
   ]
  },
  {
   "cell_type": "code",
   "execution_count": null,
   "metadata": {},
   "outputs": [],
   "source": [
    "plt.figure(figsize=(6, 6))\n",
    "cp = plt.contour(x, y, z, levels=10, cmap='cividis')\n",
    "plt.clabel(cp, fontsize=10)\n",
    "plt.axis('square') # plt.gca().set_aspect('equal')\n",
    "plt.show()"
   ]
  },
  {
   "cell_type": "code",
   "execution_count": null,
   "metadata": {},
   "outputs": [],
   "source": [
    "fig = plt.figure(figsize=(14, 8))\n",
    "ax = plt.axes(projection='3d')\n",
    "\n",
    "ax.plot_surface(x, y, z, edgecolor='black', vmax=1.5, cmap='coolwarm')\n",
    "ax.set_title('Surface plot')\n",
    "plt.show()"
   ]
  },
  {
   "cell_type": "markdown",
   "metadata": {},
   "source": [
    "# Links of interest\n",
    "\n",
    "* Matplotlib documentation\n",
    "    \n",
    "    https://matplotlib.org/3.5.1/index.html \\\n",
    "    https://matplotlib.org/3.5.1/users/index.html \\\n",
    "    https://matplotlib.org/3.5.1/tutorials/index.html\n",
    "\n",
    "* Scientific plots\n",
    "\n",
    "    https://github.com/garrettj403/SciencePlots\n",
    "\n",
    "* colormaps\n",
    "\n",
    "    https://matplotlib.org/3.5.0/tutorials/colors/colormaps.html\n"
   ]
  }
 ],
 "metadata": {
  "kernelspec": {
   "display_name": "Python 3 (ipykernel)",
   "language": "python",
   "name": "python3"
  },
  "language_info": {
   "codemirror_mode": {
    "name": "ipython",
    "version": 3
   },
   "file_extension": ".py",
   "mimetype": "text/x-python",
   "name": "python",
   "nbconvert_exporter": "python",
   "pygments_lexer": "ipython3",
   "version": "3.9.6"
  }
 },
 "nbformat": 4,
 "nbformat_minor": 4
}
