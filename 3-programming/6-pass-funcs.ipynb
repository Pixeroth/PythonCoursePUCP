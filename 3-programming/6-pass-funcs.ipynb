{
 "cells": [
  {
   "cell_type": "markdown",
   "id": "28769b66-94b0-4205-b43d-74e5bca02f90",
   "metadata": {},
   "source": [
    "# Passing functions"
   ]
  },
  {
   "cell_type": "markdown",
   "id": "a9f0f890-31de-4e8e-aede-95dd9a36aeab",
   "metadata": {},
   "source": [
    "Any function defined with the def construction can be passed as argument of other functions"
   ]
  },
  {
   "cell_type": "markdown",
   "id": "1e4793e7-8db6-4e59-a9b7-cde8e58270bc",
   "metadata": {},
   "source": [
    "### def functions"
   ]
  },
  {
   "cell_type": "code",
   "execution_count": 1,
   "id": "9cc1d277-dcc5-4a05-b10a-4b81b34a639b",
   "metadata": {},
   "outputs": [],
   "source": [
    "def diff2nd(f, x, h=1E-6):\n",
    "    '''diff2nd: computes second derivative of f in x'''\n",
    "    return (f(x - h) - 2*f(x) + f(x + h)) / h**2"
   ]
  },
  {
   "cell_type": "code",
   "execution_count": 2,
   "id": "25b34351-53ec-49f0-afa7-b7eecf0dff4c",
   "metadata": {},
   "outputs": [],
   "source": [
    "import math\n",
    "\n",
    "def g(t):\n",
    "    return math.exp(t)*t**(-6)"
   ]
  },
  {
   "cell_type": "code",
   "execution_count": 3,
   "id": "49eb535c-617d-4e63-8697-f6f4eecdae76",
   "metadata": {},
   "outputs": [
    {
     "name": "stdout",
     "output_type": "stream",
     "text": [
      "g’’(1.300000) = 12.635337\n"
     ]
    }
   ],
   "source": [
    "t = 1.3\n",
    "d2a = diff2nd(g, t)\n",
    "print(\"g’’(%f) = %f\" % (t, d2a))"
   ]
  },
  {
   "cell_type": "markdown",
   "id": "6db06464-1dac-4d76-bb85-126bf2218a62",
   "metadata": {},
   "source": [
    "### Lambda functions"
   ]
  },
  {
   "cell_type": "markdown",
   "id": "9b3c1923-91bc-4ecd-9b24-05ebdf99e815",
   "metadata": {},
   "source": [
    "* Sintaxis\n",
    "\n",
    "```Python\n",
    "    g = lambda arg1, arg2, arg3, ...: expression\n",
    "```\n",
    "\n",
    "* Lambda functions are usually used to quickly define a function \n",
    "  as argument to another function.\n",
    "* Lambda functions may also take keyword arguments."
   ]
  },
  {
   "cell_type": "markdown",
   "id": "35c8aa18-9dee-4c2a-9cf4-b3f5908b2751",
   "metadata": {},
   "source": [
    "##### Example: Named lambda function"
   ]
  },
  {
   "cell_type": "code",
   "execution_count": 4,
   "id": "b3d74519-bbde-4ee8-9cd6-a55001762517",
   "metadata": {},
   "outputs": [
    {
     "name": "stdout",
     "output_type": "stream",
     "text": [
      "30.000000306174\n"
     ]
    }
   ],
   "source": [
    "g2 = lambda t: t**(6)\n",
    "d2b = diff2nd(g2, 1.0, h=1E-4)\n",
    "print(d2b)"
   ]
  },
  {
   "cell_type": "markdown",
   "id": "f999fc0b-0ad0-4e0b-ab53-db3dbd500304",
   "metadata": {},
   "source": [
    "##### Example: Unnamed lambda function"
   ]
  },
  {
   "cell_type": "code",
   "execution_count": 6,
   "id": "3d4c1eb1-247b-4ec5-9af6-61a7e47de149",
   "metadata": {},
   "outputs": [
    {
     "name": "stdout",
     "output_type": "stream",
     "text": [
      "30.064839506849243\n"
     ]
    }
   ],
   "source": [
    "d2c = diff2nd(lambda t: t**(6), 1., h=1E-7)\n",
    "print(d2c)"
   ]
  },
  {
   "cell_type": "markdown",
   "id": "e0544ee1-1296-49dc-8ec6-9daa0861433e",
   "metadata": {},
   "source": [
    "##### Example: acceleration of the damped oscillator "
   ]
  },
  {
   "cell_type": "code",
   "execution_count": 8,
   "id": "f1f11fca-081c-44b0-bd64-47a7da4674cb",
   "metadata": {},
   "outputs": [
    {
     "name": "stdout",
     "output_type": "stream",
     "text": [
      "-0.7499556531342932\n"
     ]
    }
   ],
   "source": [
    "from math import exp, cos\n",
    "\n",
    "# x(t) = A*exp(-b*t)*cos(w*t)\n",
    "\n",
    "d2d = diff2nd(lambda t, A=1, w=1, b=0.5: A*exp(-b*t)*cos(w*t), 0)\n",
    "print(d2d)"
   ]
  }
 ],
 "metadata": {
  "kernelspec": {
   "display_name": "Python 3 (ipykernel)",
   "language": "python",
   "name": "python3"
  },
  "language_info": {
   "codemirror_mode": {
    "name": "ipython",
    "version": 3
   },
   "file_extension": ".py",
   "mimetype": "text/x-python",
   "name": "python",
   "nbconvert_exporter": "python",
   "pygments_lexer": "ipython3",
   "version": "3.9.6"
  }
 },
 "nbformat": 4,
 "nbformat_minor": 5
}
