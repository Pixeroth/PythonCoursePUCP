{
 "cells": [
  {
   "cell_type": "markdown",
   "id": "2ec2ae6a-f3a3-4371-8805-8052e566b6ed",
   "metadata": {},
   "source": [
    "# Functions"
   ]
  },
  {
   "cell_type": "markdown",
   "id": "f0cd4da5-f16e-4170-8e54-0ff1e550e429",
   "metadata": {},
   "source": [
    "* Sintaxis\n",
    "\n",
    "```Python\n",
    "    def function_name(arg1, arg2, ...):\n",
    "        body_of_function\n",
    "```\n",
    "\n",
    "* Functions can have any number of arguments.\n",
    "\n",
    "* The statement `return [expression]` exits a function, optionally passing back an expression to the caller.\n",
    "\n",
    "* Functions can return any number of expressions: `return expr1, expr2 ...`\n",
    "\n",
    "* Functions can return any values at all. In this case just avoid the `return` statement, put a `return` statement with no arguments or equivalently `return None`\n",
    "\n",
    "* The first statement of a function can be an optional statement - the documentation string of the function or docstring.\n",
    "\n",
    "* Positional arguments vs keyword arguments:  \n",
    "\n",
    "```Python\n",
    "    def somefunc(arg1, arg2, kwarg1=val1, kwarg2=val2):\n",
    "        body_of_function\n",
    "```\n",
    "      \n",
    "  * arg1, arg2 are positional arguments\n",
    "  \n",
    "  * kwarg1, kwarg2 are keyword or named arguments\n",
    "  \n",
    "  * The keyword arguments must always be listed after the positional arguments in the function definition.\n",
    "    \n",
    "  * Keyword arguments that do not appear in the call get their values from the specified default values."
   ]
  },
  {
   "cell_type": "markdown",
   "id": "6e842c6b-2739-493d-a450-639e037dd496",
   "metadata": {},
   "source": [
    "### sign function"
   ]
  },
  {
   "cell_type": "code",
   "execution_count": 3,
   "id": "c0a4da62-b321-4486-a74b-4103c107c980",
   "metadata": {},
   "outputs": [],
   "source": [
    "def signf(x):\n",
    "    if x >= 0:\n",
    "        return 1\n",
    "    else:\n",
    "        return -1"
   ]
  },
  {
   "cell_type": "code",
   "execution_count": 5,
   "id": "ae0ac280-9e3b-4f55-9ce6-5be7ecd064be",
   "metadata": {},
   "outputs": [
    {
     "name": "stdout",
     "output_type": "stream",
     "text": [
      "1\n",
      "-1\n",
      "1\n"
     ]
    }
   ],
   "source": [
    "print(signf(5))\n",
    "print(signf(-5))\n",
    "print(signf(0))"
   ]
  },
  {
   "cell_type": "markdown",
   "id": "f9027ebb-4711-4218-888a-09ebc9e3f75f",
   "metadata": {},
   "source": [
    "### factorial function"
   ]
  },
  {
   "cell_type": "code",
   "execution_count": 19,
   "id": "0c23b31b-a60f-49bb-8ea4-0e19f750c1e6",
   "metadata": {},
   "outputs": [],
   "source": [
    "def factorial(n):\n",
    "    ''' \n",
    "    factorial(n):\n",
    "        This function calculates n!, \n",
    "        for n integer.\n",
    "    '''\n",
    "    f = 1\n",
    "    for i in range(2, n + 1):\n",
    "        # print('---->', i)\n",
    "        f = f * i\n",
    "        \n",
    "    return f"
   ]
  },
  {
   "cell_type": "code",
   "execution_count": 11,
   "id": "c0dcfda7-c77d-4559-9b2d-b977a1c0c5d9",
   "metadata": {},
   "outputs": [
    {
     "name": "stdout",
     "output_type": "stream",
     "text": [
      "Help on function factorial in module __main__:\n",
      "\n",
      "factorial(n)\n",
      "    factorial(n):\n",
      "        This function calculates n!, \n",
      "        for n integer.\n",
      "\n"
     ]
    }
   ],
   "source": [
    "help(factorial)"
   ]
  },
  {
   "cell_type": "code",
   "execution_count": 13,
   "id": "ec063976-6fdf-4a89-8ed0-d398cc1743d0",
   "metadata": {},
   "outputs": [
    {
     "name": "stdout",
     "output_type": "stream",
     "text": [
      " \n",
      "    factorial(n):\n",
      "        This function calculates n!, \n",
      "        for n integer.\n",
      "    \n"
     ]
    }
   ],
   "source": [
    "print(factorial.__doc__)"
   ]
  },
  {
   "cell_type": "code",
   "execution_count": 14,
   "id": "48ce7a98-085a-48d5-9313-7496d81f3579",
   "metadata": {},
   "outputs": [
    {
     "name": "stdout",
     "output_type": "stream",
     "text": [
      "\n",
      "         n         n!\n",
      "         0          1\n",
      "         1          1\n",
      "         2          2\n",
      "         3          6\n",
      "         4         24\n",
      "         5        120\n",
      "         6        720\n",
      "         7       5040\n",
      "         8      40320\n",
      "         9     362880\n"
     ]
    }
   ],
   "source": [
    "print ('\\n%10s %10s' % ('n', 'n!'))\n",
    "\n",
    "for j in range (10) :\n",
    "    print ('%10d %10d' % (j, factorial(j)))"
   ]
  },
  {
   "cell_type": "markdown",
   "id": "22b39414-7c7e-4209-a53f-a29e43008904",
   "metadata": {},
   "source": [
    "### Pass by Object Reference"
   ]
  },
  {
   "cell_type": "markdown",
   "id": "ab3824f2-06c6-4990-acf4-b04b6c8dd059",
   "metadata": {},
   "source": [
    "##### Inmutable objects"
   ]
  },
  {
   "cell_type": "markdown",
   "id": "0505971b-ba35-49a8-829a-0ff2f55e1bfe",
   "metadata": {},
   "source": [
    "If you pass immutable arguments like integers, strings or tuples to a function, the passing acts like call-by-value.\n",
    "\n",
    "They can't be changed within the function, because they can't be changed at all, i.e. they are immutable."
   ]
  },
  {
   "cell_type": "code",
   "execution_count": 26,
   "id": "145c6fb5-953c-4af9-b56a-50e8de2fa4bd",
   "metadata": {},
   "outputs": [],
   "source": [
    " def foo(a):\n",
    "    a = 4\n",
    "    print(a) "
   ]
  },
  {
   "cell_type": "code",
   "execution_count": 27,
   "id": "48a4ee7e-d1d9-4f0d-a220-c90b73b8eb26",
   "metadata": {},
   "outputs": [
    {
     "name": "stdout",
     "output_type": "stream",
     "text": [
      "4\n",
      "2\n"
     ]
    }
   ],
   "source": [
    "a = 2\n",
    "foo(a)\n",
    "print(a)"
   ]
  },
  {
   "cell_type": "markdown",
   "id": "4bedd099-a584-470a-9a7a-962053d841fe",
   "metadata": {},
   "source": [
    "##### Mutable objects"
   ]
  },
  {
   "cell_type": "markdown",
   "id": "901144bc-8c86-4f60-8b5d-59167e31eca2",
   "metadata": {},
   "source": [
    "If we pass mutable arguments, they are also passed by object reference, but they can be changed in place within the function."
   ]
  },
  {
   "cell_type": "code",
   "execution_count": 32,
   "id": "d7977292-386e-42bd-b8c9-3f7bb1abbf5a",
   "metadata": {},
   "outputs": [],
   "source": [
    "# Elements of a list can be changed in place\n",
    "def bar(b):\n",
    "    b[1] = -2\n",
    "    print(b)"
   ]
  },
  {
   "cell_type": "code",
   "execution_count": 33,
   "id": "d415b876-f264-46a5-b265-f80fe4a49589",
   "metadata": {},
   "outputs": [
    {
     "name": "stdout",
     "output_type": "stream",
     "text": [
      "[2, 4, 5]\n",
      "[2, -2, 5]\n",
      "[2, -2, 5]\n"
     ]
    }
   ],
   "source": [
    "a = [2, 4, 5]\n",
    "print(a)\n",
    "bar(a)\n",
    "print(a)"
   ]
  },
  {
   "cell_type": "code",
   "execution_count": 2,
   "id": "46120018-6c13-407f-97b8-bcafec9f8238",
   "metadata": {},
   "outputs": [],
   "source": [
    "# We can make a shallow copy to avoid it\n",
    "def bar(b):\n",
    "    a = b[:]\n",
    "    a[1] = -2\n",
    "    print(a)"
   ]
  },
  {
   "cell_type": "code",
   "execution_count": 4,
   "id": "a7ed43f5-755f-47fd-a72d-0cbc7cb85d90",
   "metadata": {},
   "outputs": [
    {
     "name": "stdout",
     "output_type": "stream",
     "text": [
      "[2, 4, 5]\n",
      "[2, -2, 5]\n",
      "[2, 4, 5]\n"
     ]
    }
   ],
   "source": [
    "a = [2, 4, 5]\n",
    "print(a)\n",
    "bar(a)\n",
    "print(a)"
   ]
  },
  {
   "cell_type": "code",
   "execution_count": 7,
   "id": "3652d7cd-2908-439f-85ef-212b5a02ee60",
   "metadata": {},
   "outputs": [
    {
     "name": "stdout",
     "output_type": "stream",
     "text": [
      "[2, 4, 5]\n",
      "[7, 8, 9]\n",
      "[2, 4, 5]\n"
     ]
    }
   ],
   "source": [
    "# Assigning a new list don't change the passed value \n",
    "def bar(b):\n",
    "    b = [7, 8, 9]\n",
    "    print(b)\n",
    "    \n",
    "a = [2, 4, 5]\n",
    "print(a)\n",
    "bar(a)\n",
    "print(a)"
   ]
  },
  {
   "cell_type": "markdown",
   "id": "b4fc4254-dd5b-4fa4-92f6-a9083ec6da77",
   "metadata": {},
   "source": [
    "### isprime function"
   ]
  },
  {
   "cell_type": "code",
   "execution_count": 1,
   "id": "75ccda47-c428-4b46-bedd-7ca6f1625507",
   "metadata": {},
   "outputs": [],
   "source": [
    "# Example: define isPrime(n) that returns true if n is a prime. \n",
    "\n",
    "def isPrime(n):\n",
    "    '''\n",
    "    Gives true if n is a prime number and false otherwise.\n",
    "    '''\n",
    "    if n == 2 or n == 3: return True\n",
    "    if n%2 == 0 or n<2: return False\n",
    "    for i in range(3, int(n**0.5) + 1, 2):   # only odd numbers\n",
    "        if n%i == 0:\n",
    "            return False    \n",
    "    return True"
   ]
  },
  {
   "cell_type": "code",
   "execution_count": 40,
   "id": "f3ecc43c-aa99-4be0-b763-d826353ac58f",
   "metadata": {},
   "outputs": [
    {
     "data": {
      "text/plain": [
       "False"
      ]
     },
     "execution_count": 40,
     "metadata": {},
     "output_type": "execute_result"
    }
   ],
   "source": [
    "isPrime(3731)"
   ]
  },
  {
   "cell_type": "code",
   "execution_count": 41,
   "id": "2bdd9941-2f84-4635-b62a-9bb2498a2855",
   "metadata": {},
   "outputs": [],
   "source": [
    "# Make a list of the first 100 primes\n",
    "\n",
    "count = 0\n",
    "number = 2\n",
    "NMAX = 100\n",
    "primes = []\n",
    "\n",
    "while count < NMAX :\n",
    "    if isPrime(number) : \n",
    "        primes.append(number)\n",
    "        count = count + 1\n",
    "    number = number + 1\n",
    "print(primes)"
   ]
  },
  {
   "cell_type": "markdown",
   "id": "5f63d535-f8b4-4ffc-b8f4-b3f2065ed638",
   "metadata": {},
   "source": [
    "### Optional arguments"
   ]
  },
  {
   "cell_type": "code",
   "execution_count": 42,
   "id": "4e29deef-7b11-479b-ac69-288a472b056d",
   "metadata": {},
   "outputs": [],
   "source": [
    "# Example: The damped oscillator formula\n",
    "from math import pi, exp, sin\n",
    "\n",
    "# A, beta and omega are optional\n",
    "def f(t, A=1, beta=1, omega=2*pi):\n",
    "    return A*exp(-beta*t)*sin(omega*t)"
   ]
  },
  {
   "cell_type": "code",
   "execution_count": 43,
   "id": "0d566e72-19af-4dd7-ae79-bd0fc7a117b4",
   "metadata": {},
   "outputs": [
    {
     "name": "stdout",
     "output_type": "stream",
     "text": [
      "0.778659217806053\n",
      "0.16265669081533915\n",
      "3.167131721310066e-20\n",
      "0.00490099254970159\n",
      "0.08132834540766957\n"
     ]
    }
   ],
   "source": [
    "# Tests\n",
    "v1 = f(0.2)\n",
    "v2 = f(0.2, omega=1)\n",
    "v3 = f(1, A=5, omega=pi, beta=pi**2)\n",
    "v4 = f(A=5, beta=2, t=0.01, omega=0.1) # all with keywords\n",
    "v5 = f(0.2, 0.5, 1, 1)                 # all positional\n",
    "\n",
    "print(v1, v2, v3, v4, v5, sep=\"\\n\")"
   ]
  },
  {
   "cell_type": "code",
   "execution_count": null,
   "id": "372a365b-fde8-49b6-8fbf-8e6578159a92",
   "metadata": {},
   "outputs": [],
   "source": []
  }
 ],
 "metadata": {
  "kernelspec": {
   "display_name": "Python 3 (ipykernel)",
   "language": "python",
   "name": "python3"
  },
  "language_info": {
   "codemirror_mode": {
    "name": "ipython",
    "version": 3
   },
   "file_extension": ".py",
   "mimetype": "text/x-python",
   "name": "python",
   "nbconvert_exporter": "python",
   "pygments_lexer": "ipython3",
   "version": "3.9.6"
  }
 },
 "nbformat": 4,
 "nbformat_minor": 5
}
