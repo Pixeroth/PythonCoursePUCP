{
 "cells": [
  {
   "cell_type": "markdown",
   "id": "ba21ece8",
   "metadata": {},
   "source": [
    "# Conditionals"
   ]
  },
  {
   "cell_type": "markdown",
   "id": "f443bf49-afa9-4102-8e88-50a4b5a7e1da",
   "metadata": {},
   "source": [
    "### Boolean type"
   ]
  },
  {
   "cell_type": "raw",
   "id": "38ae932e-1e61-4a06-bac2-39c5d56d6c49",
   "metadata": {},
   "source": [
    "* Boolean type values: True, False\n",
    "    * Values that behaves as False:\n",
    "        * 0 or 0.0\n",
    "        * \"\" or '' (an empty string)\n",
    "        * (), [], {} (The empty tuple, list, or dictionary)\n",
    "    * Other values behaves as True\n",
    "  \n",
    "* Order relations: <, <=, >, >=, ==, !=\n",
    "\n",
    "* Logical operators: and, or, not "
   ]
  },
  {
   "cell_type": "code",
   "execution_count": 1,
   "id": "cc96c326",
   "metadata": {},
   "outputs": [
    {
     "name": "stdout",
     "output_type": "stream",
     "text": [
      "False\n",
      "True\n"
     ]
    }
   ],
   "source": [
    "# bool function\n",
    "print(bool([]))\n",
    "print(bool(1.0))"
   ]
  },
  {
   "cell_type": "code",
   "execution_count": 2,
   "id": "6460056f-81d2-403c-a6fd-ea53bc14e717",
   "metadata": {},
   "outputs": [
    {
     "name": "stdout",
     "output_type": "stream",
     "text": [
      "1: False\n",
      "2: True\n"
     ]
    }
   ],
   "source": [
    "# boolean expressions\n",
    "print( \"1:\", not (3 > 2) and (5 < 1) )   # => (not (3 > 2)) and (5 < 1)\n",
    "print( \"2:\", not ((3 > 2) and (5 < 1)) )"
   ]
  },
  {
   "cell_type": "code",
   "execution_count": 3,
   "id": "d3617118-9d91-4239-bf5f-c7acd40a0b4e",
   "metadata": {},
   "outputs": [
    {
     "name": "stdout",
     "output_type": "stream",
     "text": [
      "3: 1.2\n",
      "4: []\n"
     ]
    }
   ],
   "source": [
    "print( \"3:\", 1.2 or [] ) \n",
    "print( \"4:\", 1.2 and [] )"
   ]
  },
  {
   "cell_type": "code",
   "execution_count": 4,
   "id": "d804e98a-ec4e-4a4b-a9b5-35f5e03debbc",
   "metadata": {},
   "outputs": [
    {
     "name": "stdout",
     "output_type": "stream",
     "text": [
      "5: False\n",
      "6: True\n"
     ]
    }
   ],
   "source": [
    "print( \"5:\", 2 in [3, 4, 5, 6])\n",
    "print( \"6:\", 5 in [3, 4, 5, 6])"
   ]
  },
  {
   "cell_type": "markdown",
   "id": "bbe8dcf1",
   "metadata": {},
   "source": [
    "### The if-else control structure"
   ]
  },
  {
   "cell_type": "code",
   "execution_count": 9,
   "id": "7d967e62",
   "metadata": {},
   "outputs": [
    {
     "name": "stdin",
     "output_type": "stream",
     "text": [
      "Search user in database. Enter name:  Terry\n"
     ]
    },
    {
     "name": "stdout",
     "output_type": "stream",
     "text": [
      "===>\n",
      "Yes Terry is a member of our database\n",
      "\n"
     ]
    }
   ],
   "source": [
    "database = ( 'John', 'Eric', 'Albert', 'Graham', 'Terry', 'Michael' )\n",
    "\n",
    "name = input('Search user in database. Enter name: ')\n",
    "\n",
    "if name in database:\n",
    "    print(\"===>\")\n",
    "    print( 'Yes' , name , \"is a member of our database\", end='\\n\\n')\n",
    "else:\n",
    "    print(\"===>\")\n",
    "    print ('unknown user',end=\"\\n\\n\")\n",
    "\n",
    "print(\"=== END ===\")    "
   ]
  },
  {
   "cell_type": "markdown",
   "id": "981ca224",
   "metadata": {},
   "source": [
    "### The if-elif-else control structure"
   ]
  },
  {
   "cell_type": "code",
   "execution_count": 2,
   "id": "fcebe35e-6dc1-4e8c-92dd-7e860c1e6529",
   "metadata": {},
   "outputs": [],
   "source": [
    "# Nesting control structures\n",
    "# Example: conversion between qualifications\n",
    "# https://es.wikipedia.org/wiki/Calificaci%C3%B3n_escolar\n",
    "\n",
    "score = round(float(input(\"Enter score: \")))\n",
    "\n",
    "if score < 5:\n",
    "    letter = 'F'\n",
    "    if score == 0: letter += '--'\n",
    "    if score == 1: letter += '-'\n",
    "    if score == 4: letter += '+'\n",
    "elif score < 8:\n",
    "    letter = \"E\"\n",
    "    if score == 5: letter += '-'\n",
    "    if score == 7: letter += '+'    \n",
    "elif score < 11:\n",
    "    letter ='D'\n",
    "    if score == 8: letter += '-'\n",
    "    if score == 10: letter += '+' \n",
    "elif score < 14:\n",
    "    letter = 'C'\n",
    "    if score == 11: letter += '-'\n",
    "    if score == 13: letter += '+' \n",
    "elif score < 17:\n",
    "    letter = 'B'\n",
    "    if score == 14: letter += '-'\n",
    "    if score == 16: letter += '+' \n",
    "else:\n",
    "    letter = 'A'\n",
    "    if score == 17: letter += '-'\n",
    "    if score == 19: letter += '+'\n",
    "    if score == 20: letter += '++'\n",
    "    \n",
    "print( \"Rounded score %d corresponds to letter qualification %s \" % (score, letter) )\n",
    "    "
   ]
  },
  {
   "cell_type": "markdown",
   "id": "ce9bc1d3",
   "metadata": {},
   "source": [
    "### Apendix"
   ]
  },
  {
   "cell_type": "markdown",
   "id": "4bc6099d",
   "metadata": {},
   "source": [
    "#### Logical operators"
   ]
  },
  {
   "cell_type": "raw",
   "id": "a6b8c0da",
   "metadata": {},
   "source": [
    "and         If both the operands are true then condition becomes true.\n",
    "or          If any of the two operands are non-zero then condition becomes true.\n",
    "not         Used to reverse the logical state of its operand."
   ]
  },
  {
   "cell_type": "markdown",
   "id": "25b99112",
   "metadata": {},
   "source": [
    "#### Membership"
   ]
  },
  {
   "cell_type": "raw",
   "id": "11f9eee3",
   "metadata": {},
   "source": [
    "in\t        Evaluates to true if it finds a variable in the specified sequence and \n",
    "                false otherwise.\n",
    "not in\t    Evaluates to true if it does not finds a variable in the specified sequence \n",
    "                and false otherwise."
   ]
  },
  {
   "cell_type": "markdown",
   "id": "12758f9c",
   "metadata": {},
   "source": [
    "#### Identity operators"
   ]
  },
  {
   "cell_type": "raw",
   "id": "6fed707c",
   "metadata": {},
   "source": [
    "is\t        Evaluates to true if the variables on either side of the operator \n",
    "                point to the same object and false otherwise.\t\n",
    "is not\t    Evaluates to false if the variables on either side of the operator \n",
    "                point to the same object and true otherwise."
   ]
  },
  {
   "cell_type": "markdown",
   "id": "3da7c1e0",
   "metadata": {},
   "source": [
    "#### Bitwise operators"
   ]
  },
  {
   "cell_type": "raw",
   "id": "0a8e9fae",
   "metadata": {},
   "source": [
    "&           Binary AND - Operator copies a bit to the result if it exists in both operands.\n",
    "|           Binary OR - It copies a bit if it exists in either operand.\n",
    "^           Binary XOR - It copies the bit if it is set in one operand but not both.\n",
    "~           Binary Ones Complement - It is unary and has the effect of 'flipping' bits.\n",
    "<<          Binary Left Shift - The left operands value is moved left by the number of bits \n",
    "                specified by the right operand.\n",
    ">>          Binary Right Shift - The left operands value is moved right by the number of bits \n",
    "                specified by the right operand."
   ]
  }
 ],
 "metadata": {
  "kernelspec": {
   "display_name": "Python 3 (ipykernel)",
   "language": "python",
   "name": "python3"
  },
  "language_info": {
   "codemirror_mode": {
    "name": "ipython",
    "version": 3
   },
   "file_extension": ".py",
   "mimetype": "text/x-python",
   "name": "python",
   "nbconvert_exporter": "python",
   "pygments_lexer": "ipython3",
   "version": "3.9.6"
  }
 },
 "nbformat": 4,
 "nbformat_minor": 5
}
