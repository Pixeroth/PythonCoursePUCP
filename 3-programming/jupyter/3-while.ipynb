{
 "cells": [
  {
   "cell_type": "markdown",
   "metadata": {},
   "source": [
    "# Iterations"
   ]
  },
  {
   "cell_type": "markdown",
   "metadata": {},
   "source": [
    "### While loop keywords"
   ]
  },
  {
   "cell_type": "code",
   "execution_count": null,
   "metadata": {},
   "outputs": [],
   "source": [
    "else:       code that is done only if the for loop exits normally (no breaks)\n",
    "\n",
    "continue:   goes straight to the next iteration of the for loop\n",
    "break:      causes Python to abandon the loop \n",
    "pass:       does nothing at all: it's only useful when you syntactically \n",
    "                need an indented suite, but don't want to do anything"
   ]
  },
  {
   "cell_type": "markdown",
   "metadata": {},
   "source": [
    "### Iterating over lists"
   ]
  },
  {
   "cell_type": "code",
   "execution_count": null,
   "metadata": {},
   "outputs": [],
   "source": [
    "lista = [2,4,6,8,10]\n",
    "index = 0\n",
    "while(index < len(lista)):\n",
    "    print(lista[index])\n",
    "    index += 1"
   ]
  },
  {
   "cell_type": "markdown",
   "metadata": {},
   "source": [
    "### Generating new lists"
   ]
  },
  {
   "cell_type": "code",
   "execution_count": null,
   "metadata": {},
   "outputs": [],
   "source": [
    "# createa list which its size is not known in advance \n",
    "lista2 = []\n",
    "\n",
    "from random import randint\n",
    "r = randint(0,9)\n",
    "print(r)\n",
    "\n",
    "while ( r >= 1 ):\n",
    "    lista2.append(r)\n",
    "    r = randint(0,9)\n",
    "    print(r)\n",
    "print(lista2)"
   ]
  },
  {
   "cell_type": "markdown",
   "metadata": {},
   "source": [
    "### Nested control structures"
   ]
  },
  {
   "cell_type": "code",
   "execution_count": null,
   "metadata": {},
   "outputs": [],
   "source": [
    "# Example: Check whether a number is prime. \n",
    "number = int(input (\"Enter integer to check: \"))\n",
    "\n",
    "if number%2 == 0: \n",
    "    if number == 2: \n",
    "        print(number, \"is a prime.\")\n",
    "    else:\n",
    "        print(number, \"is not a prime.\")\n",
    "else:\n",
    "    iterator = 3\n",
    "    while iterator < number :\n",
    "        if number%iterator == 0 :\n",
    "            print(number, \"is not a prime.\")\n",
    "            break\n",
    "        else:\n",
    "            iterator += 2\n",
    "    else:\n",
    "        print(number, \"is a prime.\")"
   ]
  },
  {
   "cell_type": "code",
   "execution_count": null,
   "metadata": {},
   "outputs": [],
   "source": [
    "# Example: Guess a computer generated random number\n",
    "import random\n",
    "\n",
    "NMAX = 20\n",
    "guess = 0\n",
    "\n",
    "computer_number = int(NMAX * random.random()) + 1\n",
    "\n",
    "while guess != computer_number:\n",
    "    guess = int(input(\"Enter your guess: \"))\n",
    "    if guess > 0:\n",
    "        if guess > computer_number:\n",
    "            print(\"Number too large\")\n",
    "        elif guess < computer_number:\n",
    "            print(\"Number too small\")\n",
    "    else:\n",
    "        print(\"Sorry that you're giving up!\")\n",
    "        break\n",
    "else:\n",
    "    print(\"Congratulation. You made it!\")"
   ]
  },
  {
   "cell_type": "markdown",
   "metadata": {},
   "source": [
    "### Appendix 1: Assignment operators"
   ]
  },
  {
   "cell_type": "raw",
   "metadata": {},
   "source": [
    "+=      c += a is equivalent to c = c + a\n",
    "-=      c -= a is equivalent to c = c - a\n",
    "*=      c *= a is equivalent to c = c * a\n",
    "/=      c /= a is equivalent to c = c / a\n",
    "%=      c %= a is equivalent to c = c % a\n",
    "**=     c **= a is equivalent to c = c ** a\n",
    "//=     c //= a is equivalent to c = c // a"
   ]
  },
  {
   "cell_type": "markdown",
   "metadata": {},
   "source": [
    "### Appendix 2: random module"
   ]
  },
  {
   "cell_type": "raw",
   "metadata": {},
   "source": [
    "choice(seq)             A random item from a list, tuple, or string.\n",
    "randrange([i,] e [,d])  A randomly selected element from range(i, e, d)\n",
    "random()                A random float r, such that 0 is less than or equal \n",
    "                            to r and r is less than 1\n",
    "seed([x])               Sets the integer starting value used in generating \n",
    "                            random numbers. \n",
    "shuffle(lst)            Randomizes the items of a list in place.\n",
    "uniform(x, y)           A random float r, such that x is less than or equal \n",
    "                            to r and r is less than y"
   ]
  },
  {
   "cell_type": "markdown",
   "metadata": {},
   "source": [
    "### Appendix 3: Generate random intergers with random"
   ]
  },
  {
   "cell_type": "raw",
   "metadata": {},
   "source": [
    "* {0, 1}    -> int(random.random() + 0.5)            \n",
    "* {-1, 1}   -> 2 * int(random.random() + 0.5) - 1\n",
    "* {1,...,N} -> int(N * random.random()) + 1"
   ]
  }
 ],
 "metadata": {
  "kernelspec": {
   "display_name": "Python 3 (Spyder)",
   "language": "python3",
   "name": "python3"
  },
  "language_info": {
   "codemirror_mode": {
    "name": "ipython",
    "version": 3
   },
   "file_extension": ".py",
   "mimetype": "text/x-python",
   "name": "python",
   "nbconvert_exporter": "python",
   "pygments_lexer": "ipython3",
   "version": "3.8.2"
  }
 },
 "nbformat": 4,
 "nbformat_minor": 5
}
