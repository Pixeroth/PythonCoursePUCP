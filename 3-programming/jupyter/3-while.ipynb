{
 "cells": [
  {
   "cell_type": "markdown",
   "id": "8c7ec6a8",
   "metadata": {},
   "source": [
    "# Iterations"
   ]
  },
  {
   "cell_type": "markdown",
   "id": "0b38b91a",
   "metadata": {},
   "source": [
    "### While loop keywords"
   ]
  },
  {
   "cell_type": "markdown",
   "id": "80447077-3a20-48fc-9974-5809454f13a3",
   "metadata": {},
   "source": [
    "else:       code that is done only if the for loop exits normally (no breaks)\n",
    "\n",
    "continue:   goes straight to the next iteration of the for loop\n",
    "break:      causes Python to abandon the loop \n",
    "pass:       does nothing at all: it's only useful when you syntactically \n",
    "            need an indented suite, but don't want to do anything"
   ]
  },
  {
   "cell_type": "markdown",
   "id": "13e88ec3",
   "metadata": {},
   "source": [
    "### Iterating over lists"
   ]
  },
  {
   "cell_type": "code",
   "execution_count": 1,
   "id": "e14ab6ae",
   "metadata": {},
   "outputs": [
    {
     "name": "stdout",
     "output_type": "stream",
     "text": [
      "2\n",
      "4\n",
      "6\n",
      "8\n",
      "10\n"
     ]
    }
   ],
   "source": [
    "lista = [2, 4, 6, 8, 10]\n",
    "i = 0\n",
    "\n",
    "while(i < len(lista)):\n",
    "    print(lista[i])\n",
    "    i += 1"
   ]
  },
  {
   "cell_type": "markdown",
   "id": "8f654a28",
   "metadata": {},
   "source": [
    "### Generating new lists"
   ]
  },
  {
   "cell_type": "code",
   "execution_count": 5,
   "id": "4a70f4ea",
   "metadata": {},
   "outputs": [
    {
     "name": "stdout",
     "output_type": "stream",
     "text": [
      "8\n",
      "7\n",
      "5\n",
      "5\n",
      "0\n",
      "[8, 7, 5, 5]\n"
     ]
    }
   ],
   "source": [
    "# createa list which its size is not known in advance \n",
    "from random import randint\n",
    "\n",
    "lista2 = []\n",
    "r = randint(0, 9)\n",
    "print(r)\n",
    "\n",
    "while ( r >= 1 ):\n",
    "    lista2.append(r)\n",
    "    r = randint(0, 9)\n",
    "    print(r)\n",
    "    \n",
    "print(lista2)"
   ]
  },
  {
   "cell_type": "markdown",
   "id": "a79b9b52",
   "metadata": {},
   "source": [
    "### Nested control structures"
   ]
  },
  {
   "cell_type": "code",
   "execution_count": 12,
   "id": "3bdf0ab8",
   "metadata": {},
   "outputs": [
    {
     "name": "stdin",
     "output_type": "stream",
     "text": [
      "Enter integer to check:  51\n"
     ]
    },
    {
     "name": "stdout",
     "output_type": "stream",
     "text": [
      "51 is not a prime.\n"
     ]
    }
   ],
   "source": [
    "# Example: Check whether a number is prime. \n",
    "number = int(input (\"Enter integer to check: \"))\n",
    "\n",
    "if number%2 == 0: \n",
    "    if number == 2: \n",
    "        print(number, \"is a prime.\")\n",
    "    else:\n",
    "        print(number, \"is not a prime.\")\n",
    "else:\n",
    "    iterator = 3\n",
    "    while iterator < number :\n",
    "        if number%iterator == 0 :\n",
    "            print(number, \"is not a prime.\")\n",
    "            break\n",
    "        else:\n",
    "            iterator += 2\n",
    "    else:\n",
    "        print(number, \"is a prime.\")"
   ]
  },
  {
   "cell_type": "code",
   "execution_count": 20,
   "id": "2ffe413e-f434-43e4-8406-abb23242b5cc",
   "metadata": {},
   "outputs": [
    {
     "name": "stdout",
     "output_type": "stream",
     "text": [
      "1\n"
     ]
    },
    {
     "name": "stdin",
     "output_type": "stream",
     "text": [
      "Enter your guess:  1000000\n"
     ]
    },
    {
     "name": "stdout",
     "output_type": "stream",
     "text": [
      "Number too large\n",
      "2\n"
     ]
    },
    {
     "name": "stdin",
     "output_type": "stream",
     "text": [
      "Enter your guess:  500000\n"
     ]
    },
    {
     "name": "stdout",
     "output_type": "stream",
     "text": [
      "Number too large\n",
      "3\n"
     ]
    },
    {
     "name": "stdin",
     "output_type": "stream",
     "text": [
      "Enter your guess:  250000\n"
     ]
    },
    {
     "name": "stdout",
     "output_type": "stream",
     "text": [
      "Number too large\n",
      "4\n"
     ]
    },
    {
     "name": "stdin",
     "output_type": "stream",
     "text": [
      "Enter your guess:  125000\n"
     ]
    },
    {
     "name": "stdout",
     "output_type": "stream",
     "text": [
      "Number too large\n",
      "5\n"
     ]
    },
    {
     "name": "stdin",
     "output_type": "stream",
     "text": [
      "Enter your guess:  62000\n"
     ]
    },
    {
     "name": "stdout",
     "output_type": "stream",
     "text": [
      "Number too small\n",
      "6\n"
     ]
    },
    {
     "name": "stdin",
     "output_type": "stream",
     "text": [
      "Enter your guess:  90000\n"
     ]
    },
    {
     "name": "stdout",
     "output_type": "stream",
     "text": [
      "Number too small\n",
      "7\n"
     ]
    },
    {
     "name": "stdin",
     "output_type": "stream",
     "text": [
      "Enter your guess:  105000\n"
     ]
    },
    {
     "name": "stdout",
     "output_type": "stream",
     "text": [
      "Number too large\n",
      "8\n"
     ]
    },
    {
     "name": "stdin",
     "output_type": "stream",
     "text": [
      "Enter your guess:  97000\n"
     ]
    },
    {
     "name": "stdout",
     "output_type": "stream",
     "text": [
      "Number too small\n",
      "9\n"
     ]
    },
    {
     "name": "stdin",
     "output_type": "stream",
     "text": [
      "Enter your guess:  102000\n"
     ]
    },
    {
     "name": "stdout",
     "output_type": "stream",
     "text": [
      "Number too large\n",
      "10\n"
     ]
    },
    {
     "name": "stdin",
     "output_type": "stream",
     "text": [
      "Enter your guess:  99000\n"
     ]
    },
    {
     "name": "stdout",
     "output_type": "stream",
     "text": [
      "Number too large\n",
      "11\n"
     ]
    },
    {
     "name": "stdin",
     "output_type": "stream",
     "text": [
      "Enter your guess:  98000\n"
     ]
    },
    {
     "name": "stdout",
     "output_type": "stream",
     "text": [
      "Number too large\n",
      "12\n"
     ]
    },
    {
     "name": "stdin",
     "output_type": "stream",
     "text": [
      "Enter your guess:  97500\n"
     ]
    },
    {
     "name": "stdout",
     "output_type": "stream",
     "text": [
      "Number too large\n",
      "13\n"
     ]
    },
    {
     "name": "stdin",
     "output_type": "stream",
     "text": [
      "Enter your guess:  97250\n"
     ]
    },
    {
     "name": "stdout",
     "output_type": "stream",
     "text": [
      "Number too large\n",
      "14\n"
     ]
    },
    {
     "name": "stdin",
     "output_type": "stream",
     "text": [
      "Enter your guess:  97125\n"
     ]
    },
    {
     "name": "stdout",
     "output_type": "stream",
     "text": [
      "Number too small\n",
      "15\n"
     ]
    },
    {
     "name": "stdin",
     "output_type": "stream",
     "text": [
      "Enter your guess:  97190\n"
     ]
    },
    {
     "name": "stdout",
     "output_type": "stream",
     "text": [
      "Number too small\n",
      "16\n"
     ]
    },
    {
     "name": "stdin",
     "output_type": "stream",
     "text": [
      "Enter your guess:  97220\n"
     ]
    },
    {
     "name": "stdout",
     "output_type": "stream",
     "text": [
      "Number too small\n",
      "17\n"
     ]
    },
    {
     "name": "stdin",
     "output_type": "stream",
     "text": [
      "Enter your guess:  97235\n"
     ]
    },
    {
     "name": "stdout",
     "output_type": "stream",
     "text": [
      "Number too large\n",
      "18\n"
     ]
    },
    {
     "name": "stdin",
     "output_type": "stream",
     "text": [
      "Enter your guess:  97228\n"
     ]
    },
    {
     "name": "stdout",
     "output_type": "stream",
     "text": [
      "Number too small\n",
      "19\n"
     ]
    },
    {
     "name": "stdin",
     "output_type": "stream",
     "text": [
      "Enter your guess:  97232\n"
     ]
    },
    {
     "name": "stdout",
     "output_type": "stream",
     "text": [
      "Number too small\n",
      "20\n"
     ]
    },
    {
     "name": "stdin",
     "output_type": "stream",
     "text": [
      "Enter your guess:  97234\n"
     ]
    },
    {
     "name": "stdout",
     "output_type": "stream",
     "text": [
      "Congratulation. You made it!\n"
     ]
    }
   ],
   "source": [
    "# Example: Guess a computer generated random number\n",
    "import random\n",
    "\n",
    "NMAX = 2000000\n",
    "guess = 0\n",
    "i = 0\n",
    "computer_number = int(NMAX * random.random()) + 1\n",
    "\n",
    "while guess != computer_number:\n",
    "    i+=1\n",
    "    print(i)\n",
    "    guess = int(input(\"Enter your guess: \"))\n",
    "    if guess > 0:\n",
    "        if guess > computer_number:\n",
    "            print(\"Number too large\")\n",
    "        elif guess < computer_number:\n",
    "            print(\"Number too small\")\n",
    "    else:\n",
    "        print(\"Sorry that you're giving up!\")\n",
    "        break\n",
    "else:\n",
    "    print(\"Congratulation. You made it!\")"
   ]
  },
  {
   "cell_type": "code",
   "execution_count": 15,
   "id": "49d42702-56f0-4bf6-9b67-fc4108453981",
   "metadata": {},
   "outputs": [
    {
     "data": {
      "text/plain": [
       "20.931568569324174"
      ]
     },
     "execution_count": 15,
     "metadata": {},
     "output_type": "execute_result"
    }
   ],
   "source": [
    "import math \n",
    "math.log2(2000000)"
   ]
  },
  {
   "cell_type": "markdown",
   "id": "a386cc93",
   "metadata": {},
   "source": [
    "### Appendix 1: Assignment operators"
   ]
  },
  {
   "cell_type": "raw",
   "id": "e98349ef",
   "metadata": {},
   "source": [
    "+=      c += a is equivalent to c = c + a\n",
    "-=      c -= a is equivalent to c = c - a\n",
    "*=      c *= a is equivalent to c = c * a\n",
    "/=      c /= a is equivalent to c = c / a\n",
    "%=      c %= a is equivalent to c = c % a\n",
    "**=     c **= a is equivalent to c = c ** a\n",
    "//=     c //= a is equivalent to c = c // a"
   ]
  },
  {
   "cell_type": "markdown",
   "id": "6d21e72b",
   "metadata": {},
   "source": [
    "### Appendix 2: random module"
   ]
  },
  {
   "cell_type": "raw",
   "id": "f9b21465",
   "metadata": {},
   "source": [
    "choice(seq)             A random item from a list, tuple, or string.\n",
    "randrange([i,] e [,d])  A randomly selected element from range(i, e, d)\n",
    "random()                A random float r, such that 0 is less than or equal \n",
    "                            to r and r is less than 1\n",
    "seed([x])               Sets the integer starting value used in generating \n",
    "                            random numbers. \n",
    "shuffle(lst)            Randomizes the items of a list in place.\n",
    "uniform(x, y)           A random float r, such that x is less than or equal \n",
    "                            to r and r is less than y"
   ]
  },
  {
   "cell_type": "markdown",
   "id": "f6f50d9b",
   "metadata": {},
   "source": [
    "### Appendix 3: Generate random intergers with random"
   ]
  },
  {
   "cell_type": "raw",
   "id": "328a4bd2",
   "metadata": {},
   "source": [
    "* {0, 1}    -> int(random.random() + 0.5)            \n",
    "* {-1, 1}   -> 2 * int(random.random() + 0.5) - 1\n",
    "* {1,...,N} -> int(N * random.random()) + 1"
   ]
  }
 ],
 "metadata": {
  "kernelspec": {
   "display_name": "Python 3 (ipykernel)",
   "language": "python",
   "name": "python3"
  },
  "language_info": {
   "codemirror_mode": {
    "name": "ipython",
    "version": 3
   },
   "file_extension": ".py",
   "mimetype": "text/x-python",
   "name": "python",
   "nbconvert_exporter": "python",
   "pygments_lexer": "ipython3",
   "version": "3.9.6"
  }
 },
 "nbformat": 4,
 "nbformat_minor": 5
}
