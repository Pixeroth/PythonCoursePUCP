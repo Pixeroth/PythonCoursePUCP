{
 "cells": [
  {
   "cell_type": "markdown",
   "id": "94929fc5",
   "metadata": {},
   "source": [
    "# Iterations"
   ]
  },
  {
   "cell_type": "markdown",
   "id": "ae4040e2",
   "metadata": {},
   "source": [
    "### For loop keywords"
   ]
  },
  {
   "cell_type": "raw",
   "id": "fbeae9bd",
   "metadata": {},
   "source": [
    "else:       code that is done only if the for loop exits normally (no breaks)\n",
    "\n",
    "continue:   goes straight to the next iteration of the for loop\n",
    "break:      causes Python to abandon the loop \n",
    "pass:       does nothing at all: it's only useful when you syntactically \n",
    "                need an indented suite, but don't want to do anything"
   ]
  },
  {
   "cell_type": "markdown",
   "id": "2fac82ca",
   "metadata": {},
   "source": [
    "### iterating over tuples and lists"
   ]
  },
  {
   "cell_type": "code",
   "execution_count": 1,
   "id": "b8bd1925-b04d-4b91-8b17-8f2feb958a65",
   "metadata": {},
   "outputs": [
    {
     "name": "stdout",
     "output_type": "stream",
     "text": [
      "1\n",
      "2\n",
      "3\n"
     ]
    }
   ],
   "source": [
    "for x in (1, 2, 3): print(x)"
   ]
  },
  {
   "cell_type": "code",
   "execution_count": 2,
   "id": "4909bc51-d69c-417f-8896-dc52454c744a",
   "metadata": {},
   "outputs": [
    {
     "name": "stdout",
     "output_type": "stream",
     "text": [
      "123"
     ]
    }
   ],
   "source": [
    "for x in (1, 2, 3): print(x, end='')"
   ]
  },
  {
   "cell_type": "code",
   "execution_count": 3,
   "id": "76739a67-f287-4f06-b291-d43be6c97466",
   "metadata": {},
   "outputs": [
    {
     "name": "stdout",
     "output_type": "stream",
     "text": [
      "1 2 3 "
     ]
    }
   ],
   "source": [
    "for x in [1, 2, 3]: print(x, end=' ') "
   ]
  },
  {
   "cell_type": "markdown",
   "id": "3dbdb3f4",
   "metadata": {},
   "source": [
    "### Iterate over range object"
   ]
  },
  {
   "cell_type": "code",
   "execution_count": 4,
   "id": "6021a246",
   "metadata": {},
   "outputs": [
    {
     "name": "stdout",
     "output_type": "stream",
     "text": [
      "0\n",
      "1\n",
      "2\n",
      "3\n",
      "4\n",
      "6\n",
      "7\n",
      "8\n",
      "9\n"
     ]
    }
   ],
   "source": [
    "# Using continue\n",
    "for j in range(10):\n",
    "    if j == 5:\n",
    "        continue\n",
    "    print(j)"
   ]
  },
  {
   "cell_type": "code",
   "execution_count": 5,
   "id": "3dbae4aa",
   "metadata": {},
   "outputs": [
    {
     "name": "stdout",
     "output_type": "stream",
     "text": [
      "1\n",
      "2\n",
      "3\n",
      "4\n"
     ]
    }
   ],
   "source": [
    "# Using break\n",
    "n = 10\n",
    "for j in range(1, n+1):\n",
    "    if j == 5:\n",
    "        break\n",
    "    print(j)"
   ]
  },
  {
   "cell_type": "code",
   "execution_count": 8,
   "id": "752c38a1",
   "metadata": {},
   "outputs": [
    {
     "name": "stdout",
     "output_type": "stream",
     "text": [
      "1\n",
      "2\n",
      "3\n",
      "4\n",
      "5\n",
      "6\n",
      "7\n",
      "8\n",
      "9\n",
      "10\n"
     ]
    }
   ],
   "source": [
    "# Using pass\n",
    "n = 10\n",
    "for j in range(1, n+1):\n",
    "    if j == 5:\n",
    "        # completar\n",
    "        pass\n",
    "    print(j)"
   ]
  },
  {
   "cell_type": "markdown",
   "id": "0a364fe9",
   "metadata": {},
   "source": [
    "### Generating new lists"
   ]
  },
  {
   "cell_type": "code",
   "execution_count": 4,
   "id": "cc8cbdef",
   "metadata": {},
   "outputs": [
    {
     "name": "stdout",
     "output_type": "stream",
     "text": [
      "[0.0]\n",
      "[0.0, 0.25]\n",
      "[0.0, 0.25, 0.5]\n",
      "[0.0, 0.25, 0.5, 0.75]\n",
      "[0.0, 0.25, 0.5, 0.75, 1.0]\n",
      "[0.0, 0.25, 0.5, 0.75, 1.0, 1.25]\n",
      "[0.0, 0.25, 0.5, 0.75, 1.0, 1.25, 1.5]\n",
      "[0.0, 0.25, 0.5, 0.75, 1.0, 1.25, 1.5, 1.75]\n",
      "[0.0, 0.25, 0.5, 0.75, 1.0, 1.25, 1.5, 1.75, 2.0]\n",
      "[0.0, 0.25, 0.5, 0.75, 1.0, 1.25, 1.5, 1.75, 2.0, 2.25]\n",
      "[0.0, 0.25, 0.5, 0.75, 1.0, 1.25, 1.5, 1.75, 2.0, 2.25]\n"
     ]
    }
   ],
   "source": [
    "# Generate a list from an empty list\n",
    "lista = []\n",
    "for i in range(10):\n",
    "    c = i*0.25\n",
    "    lista.append(c)\n",
    "    print(lista)\n",
    "print(lista)"
   ]
  },
  {
   "cell_type": "code",
   "execution_count": 2,
   "id": "7123c1fd",
   "metadata": {},
   "outputs": [
    {
     "name": "stdout",
     "output_type": "stream",
     "text": [
      "[0.0, 0.25, 0.5, 0.75, 1.0, 1.25, 1.5, 1.75, 2.0, 2.25]\n"
     ]
    }
   ],
   "source": [
    "# Allocating memory for a list\n",
    "N = 10\n",
    "lista = [None] * N   # Null contents\n",
    "\n",
    "for i in range(N):\n",
    "    lista[i] = i*0.25\n",
    "print(lista)"
   ]
  },
  {
   "cell_type": "markdown",
   "id": "4e255bd0",
   "metadata": {},
   "source": [
    "### Using enumerations"
   ]
  },
  {
   "cell_type": "code",
   "execution_count": 6,
   "id": "9ae357bb",
   "metadata": {},
   "outputs": [
    {
     "name": "stdout",
     "output_type": "stream",
     "text": [
      "<enumerate object at 0x000001C27A38E300>\n",
      "[(0, 3), (1, 6), (2, 9), (3, 12), (4, 15)]\n",
      "((0, 3), (1, 6), (2, 9), (3, 12), (4, 15))\n"
     ]
    }
   ],
   "source": [
    "# Convert to list or tuples\n",
    "lista2 = [3, 6, 9, 12, 15]\n",
    "print(enumerate(lista2))\n",
    "print(list(enumerate(lista2)))\n",
    "print(tuple(enumerate(lista2)))"
   ]
  },
  {
   "cell_type": "code",
   "execution_count": 7,
   "id": "a03dd0ef",
   "metadata": {},
   "outputs": [
    {
     "name": "stdout",
     "output_type": "stream",
     "text": [
      "[9, 36, 81, 144, 225]\n"
     ]
    }
   ],
   "source": [
    "# Modify a list using enumaration\n",
    "for (i, c) in enumerate(lista2):\n",
    "    # print(i,c)\n",
    "    lista2[i] = c * c\n",
    "print(lista2)"
   ]
  },
  {
   "cell_type": "markdown",
   "id": "4d7f973e",
   "metadata": {},
   "source": [
    "### Using zip"
   ]
  },
  {
   "cell_type": "code",
   "execution_count": 8,
   "id": "a96c52cb",
   "metadata": {},
   "outputs": [
    {
     "name": "stdout",
     "output_type": "stream",
     "text": [
      "1 3\n",
      "2 6\n",
      "3 9\n",
      "4 12\n",
      "5 15\n",
      "[4, 8, 12, 16, 20]\n"
     ]
    }
   ],
   "source": [
    "# loop over two pairs\n",
    "lista1 = [1, 2, 3, 4, 5]\n",
    "lista2 = [3, 6, 9, 12, 15]\n",
    "lista = []\n",
    "\n",
    "for (x, y) in zip(lista1, lista2):\n",
    "    print(x, y)\n",
    "    lista.append(x + y)    \n",
    "print(lista)"
   ]
  },
  {
   "cell_type": "markdown",
   "id": "8be6ef40",
   "metadata": {},
   "source": [
    "### Nested loops"
   ]
  },
  {
   "cell_type": "code",
   "execution_count": 11,
   "id": "0f412846-b2e3-4ec9-aadd-5616c2af9401",
   "metadata": {},
   "outputs": [
    {
     "name": "stdout",
     "output_type": "stream",
     "text": [
      "[(1, 3, 4), (1, 6, 7), (1, 9, 10), (1, 12, 13), (1, 15, 16), (2, 3, 5), (2, 6, 8), (2, 9, 11), (2, 12, 14), (2, 15, 17), (3, 3, 6), (3, 6, 9), (3, 9, 12), (3, 12, 15), (3, 15, 18), (4, 3, 7), (4, 6, 10), (4, 9, 13), (4, 12, 16), (4, 15, 19), (5, 3, 8), (5, 6, 11), (5, 9, 14), (5, 12, 17), (5, 15, 20)]\n"
     ]
    }
   ],
   "source": [
    "mainlist = []\n",
    "\n",
    "for x in lista1:\n",
    "    for y in lista2:\n",
    "        mainlist.append((x, y, x + y))\n",
    "    \n",
    "print(mainlist) "
   ]
  },
  {
   "cell_type": "code",
   "execution_count": 12,
   "id": "95c38a3e-9074-46ac-bd98-b8179d454d2d",
   "metadata": {},
   "outputs": [],
   "source": [
    "mainlist = []\n",
    "\n",
    "for x in lista1:\n",
    "    sublist = []\n",
    "    \n",
    "    for y in lista2:\n",
    "        sublist.append((x, y, x + y))\n",
    "        \n",
    "    mainlist.append(sublist)\n",
    "    \n",
    "print(mainlist) "
   ]
  },
  {
   "cell_type": "code",
   "execution_count": 13,
   "id": "a942f0aa-6b45-4284-89b0-f6fc8bc16bd4",
   "metadata": {},
   "outputs": [
    {
     "data": {
      "text/plain": [
       "[(2, 3, 5), (2, 6, 8), (2, 9, 11), (2, 12, 14), (2, 15, 17)]"
      ]
     },
     "execution_count": 13,
     "metadata": {},
     "output_type": "execute_result"
    }
   ],
   "source": [
    "mainlist[1]"
   ]
  },
  {
   "cell_type": "markdown",
   "id": "aca611fc",
   "metadata": {},
   "source": [
    "### Cummulative patterns"
   ]
  },
  {
   "cell_type": "code",
   "execution_count": 14,
   "id": "cde6fd1f",
   "metadata": {},
   "outputs": [
    {
     "name": "stdout",
     "output_type": "stream",
     "text": [
      "1\n",
      "3\n",
      "6\n",
      "10\n",
      "15\n",
      "21\n",
      "28\n",
      "36\n",
      "45\n",
      "55\n",
      "sum of 10 first integers is 55\n"
     ]
    }
   ],
   "source": [
    "# A cummulative sum\n",
    "n = 10\n",
    "sum = 0\n",
    "\n",
    "for j in range(1, n+1):\n",
    "    sum = sum + j\n",
    "    print(sum)\n",
    "    \n",
    "print(\"sum of\", n, \"first integers is\", sum)"
   ]
  },
  {
   "cell_type": "code",
   "execution_count": 15,
   "id": "be9fe4e1",
   "metadata": {},
   "outputs": [
    {
     "name": "stdout",
     "output_type": "stream",
     "text": [
      "partial prods: 1 2 6 24 120 \n",
      "fact( 5 ) = 120\n"
     ]
    }
   ],
   "source": [
    "# A cummulative product\n",
    "n = 5\n",
    "prod = 1\n",
    "\n",
    "print(\"partial prods:\", end=\" \")\n",
    "\n",
    "for j in range(1, n+1):\n",
    "    prod = prod * j\n",
    "    print(prod, end=\" \")\n",
    "    \n",
    "print(\"\\nfact(\", n, \") =\", prod)           "
   ]
  },
  {
   "cell_type": "markdown",
   "id": "c3e8fe05",
   "metadata": {},
   "source": [
    "### Nested control structures"
   ]
  },
  {
   "cell_type": "code",
   "execution_count": 18,
   "id": "5027138e",
   "metadata": {},
   "outputs": [
    {
     "name": "stdout",
     "output_type": "stream",
     "text": [
      "[2, 3, 5, 7, 11, 13, 17, 19, 23, 29, 31, 37, 41, 43, 47, 53, 59, 61, 67, 71, 73, 79, 83, 89, 97]\n"
     ]
    }
   ],
   "source": [
    "# Example: Compute prime numbers less than 100\n",
    "NMAX = 100\n",
    "primes = []\n",
    "\n",
    "for n in range(2, NMAX):\n",
    "    for x in range(2, n):\n",
    "        if n % x == 0:\n",
    "            #print( n, 'equals', x, '*', n/x)\n",
    "            break\n",
    "    else:\n",
    "        # loop fell through without finding a factor\n",
    "        # print(n, 'is a prime number')\n",
    "        primes.append(n)\n",
    "        \n",
    "print(primes)"
   ]
  },
  {
   "cell_type": "markdown",
   "id": "564e7870",
   "metadata": {},
   "source": [
    "### Traversing nested lists"
   ]
  },
  {
   "cell_type": "raw",
   "id": "e16586f2-3fb4-4fde-bf24-6dd4d3770dfa",
   "metadata": {},
   "source": [
    "1 iter -> [-, ....]\n",
    "2 iter -> [[-, ...], [-, ...], ...]\n",
    "3 iter -> [[[-, ...], [-, ...], ... ], [[-, ...], [-, ...], ... ], ...]\n",
    "....\n",
    "\n",
    "\n",
    "# loop over indexes\n",
    "for i1 in range(len(somelist)):\n",
    "    for i2 in range(len(somelist[i1])):\n",
    "        for i3 in range(len(somelist[i1][i2])):\n",
    "            for i4 in range(len(somelist[i1][i2][i3])):\n",
    "                value = somelist[i1][i2][i3][i4]\n",
    "                # work with value\n",
    "\n",
    "\n",
    "# loop over lists directly\n",
    "for sublist1 in somelist:\n",
    "    for sublist2 in sublist1:\n",
    "        for sublist3 in sublist2:\n",
    "            for sublist4 in sublist3:\n",
    "                value = sublist4\n",
    "                # work with value"
   ]
  },
  {
   "cell_type": "code",
   "execution_count": 19,
   "id": "f96bf735-c493-4df0-8284-57d7d73e521f",
   "metadata": {},
   "outputs": [
    {
     "name": "stdout",
     "output_type": "stream",
     "text": [
      "1\n",
      "2\n",
      "3\n",
      "4\n",
      "5\n",
      "6\n"
     ]
    }
   ],
   "source": [
    "listA = [[1,2,3], [4,5,6]]\n",
    "\n",
    "for i in range(len(listA)):\n",
    "    for j in range(len(listA[i])):\n",
    "        print(listA[i][j])"
   ]
  },
  {
   "cell_type": "code",
   "execution_count": 20,
   "id": "5979213a-b02c-4575-ad0f-ea54d4374db2",
   "metadata": {},
   "outputs": [
    {
     "name": "stdout",
     "output_type": "stream",
     "text": [
      "1\n",
      "2\n",
      "3\n",
      "4\n",
      "5\n",
      "6\n"
     ]
    }
   ],
   "source": [
    "for sublist in listA:\n",
    "    for elem in sublist:\n",
    "        print(elem)"
   ]
  },
  {
   "cell_type": "code",
   "execution_count": null,
   "id": "15226d25-8578-4acc-823d-8e626fb07576",
   "metadata": {},
   "outputs": [],
   "source": []
  }
 ],
 "metadata": {
  "kernelspec": {
   "display_name": "Python 3 (ipykernel)",
   "language": "python",
   "name": "python3"
  },
  "language_info": {
   "codemirror_mode": {
    "name": "ipython",
    "version": 3
   },
   "file_extension": ".py",
   "mimetype": "text/x-python",
   "name": "python",
   "nbconvert_exporter": "python",
   "pygments_lexer": "ipython3",
   "version": "3.9.6"
  }
 },
 "nbformat": 4,
 "nbformat_minor": 5
}
