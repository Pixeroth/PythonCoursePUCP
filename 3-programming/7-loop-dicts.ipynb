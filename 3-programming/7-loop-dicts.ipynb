{
 "cells": [
  {
   "cell_type": "markdown",
   "id": "da61052b-0f57-4b1e-a34d-83cbb8373c93",
   "metadata": {},
   "source": [
    "# Loop over dictionaries"
   ]
  },
  {
   "cell_type": "markdown",
   "id": "37c96c82-ec4d-4925-8f19-e49838f54b61",
   "metadata": {},
   "source": [
    "### Example: letter counts from a string"
   ]
  },
  {
   "cell_type": "code",
   "execution_count": 2,
   "id": "afaa5737-b638-4da4-a5a0-0b4e06181ccb",
   "metadata": {},
   "outputs": [],
   "source": [
    "txt = \"simple pleasures are the last resource of complex men\"\n",
    "\n",
    "# start empty dictionary\n",
    "x = {}    \n",
    "\n",
    "# accumulation main loop\n",
    "for c in txt:\n",
    "    if c not in x:\n",
    "        # new character, initialize counter\n",
    "        x[c] = 0\n",
    "\n",
    "    # increment counter\n",
    "    x[c] = x[c] + 1"
   ]
  },
  {
   "cell_type": "code",
   "execution_count": 3,
   "id": "ee14e3da-90d9-4fbe-b902-072cf3ec0c33",
   "metadata": {},
   "outputs": [
    {
     "name": "stdout",
     "output_type": "stream",
     "text": [
      "{'s': 5, 'i': 1, 'm': 3, 'p': 3, 'l': 4, 'e': 9, ' ': 8, 'a': 3, 'u': 2, 'r': 4, 't': 2, 'h': 1, 'o': 3, 'c': 2, 'f': 1, 'x': 1, 'n': 1}\n"
     ]
    }
   ],
   "source": [
    "print(x)"
   ]
  },
  {
   "cell_type": "code",
   "execution_count": 4,
   "id": "7c7d56d8-161a-437e-8ce7-0eb5c4c53168",
   "metadata": {},
   "outputs": [
    {
     "name": "stdout",
     "output_type": "stream",
     "text": [
      "[('s', 5), ('i', 1), ('m', 3), ('p', 3), ('l', 4), ('e', 9), (' ', 8), ('a', 3), ('u', 2), ('r', 4), ('t', 2), ('h', 1), ('o', 3), ('c', 2), ('f', 1), ('x', 1), ('n', 1)]\n"
     ]
    }
   ],
   "source": [
    "print(list(x.items()))"
   ]
  },
  {
   "cell_type": "markdown",
   "id": "724e100e-c085-4e42-b57a-19ccdb382fcc",
   "metadata": {},
   "source": [
    "### Example: Sorting a dictionary"
   ]
  },
  {
   "cell_type": "code",
   "execution_count": 5,
   "id": "5c56e6c5-3887-49d6-9d46-bd6433c8ade6",
   "metadata": {},
   "outputs": [
    {
     "name": "stdout",
     "output_type": "stream",
     "text": [
      "s appears 5 times\n",
      "i appears 1 times\n",
      "m appears 3 times\n",
      "p appears 3 times\n",
      "l appears 4 times\n",
      "e appears 9 times\n",
      "  appears 8 times\n",
      "a appears 3 times\n",
      "u appears 2 times\n",
      "r appears 4 times\n",
      "t appears 2 times\n",
      "h appears 1 times\n",
      "o appears 3 times\n",
      "c appears 2 times\n",
      "f appears 1 times\n",
      "x appears 1 times\n",
      "n appears 1 times\n"
     ]
    }
   ],
   "source": [
    "# Sorting by keys\n",
    "for k in x:     # loop over x == loop over x.keys()\n",
    "    print(\"{} appears {} times\".format(k, x[k]))"
   ]
  },
  {
   "cell_type": "code",
   "execution_count": 6,
   "id": "79691bbd-e314-432c-9eca-2bf1e7103166",
   "metadata": {},
   "outputs": [
    {
     "name": "stdout",
     "output_type": "stream",
     "text": [
      "  appears 8 times\n",
      "a appears 3 times\n",
      "c appears 2 times\n",
      "e appears 9 times\n",
      "f appears 1 times\n",
      "h appears 1 times\n",
      "i appears 1 times\n",
      "l appears 4 times\n",
      "m appears 3 times\n",
      "n appears 1 times\n",
      "o appears 3 times\n",
      "p appears 3 times\n",
      "r appears 4 times\n",
      "s appears 5 times\n",
      "t appears 2 times\n",
      "u appears 2 times\n",
      "x appears 1 times\n"
     ]
    }
   ],
   "source": [
    "# Sorting by keys\n",
    "for k in sorted(x):  \n",
    "    print(\"{} appears {} times\".format(k, x[k]))"
   ]
  },
  {
   "cell_type": "code",
   "execution_count": 7,
   "id": "5bd31d16-c665-4569-b5c9-7cd6a10375da",
   "metadata": {},
   "outputs": [
    {
     "name": "stdout",
     "output_type": "stream",
     "text": [
      "i appears 1 times\n",
      "h appears 1 times\n",
      "f appears 1 times\n",
      "x appears 1 times\n",
      "n appears 1 times\n",
      "u appears 2 times\n",
      "t appears 2 times\n",
      "c appears 2 times\n",
      "m appears 3 times\n",
      "p appears 3 times\n",
      "a appears 3 times\n",
      "o appears 3 times\n",
      "l appears 4 times\n",
      "r appears 4 times\n",
      "s appears 5 times\n",
      "  appears 8 times\n",
      "e appears 9 times\n"
     ]
    }
   ],
   "source": [
    "# Sorting by value\n",
    "for k in sorted(x, key=lambda k: x[k] ):\n",
    "    print(\"{} appears {} times\".format(k, x[k]))"
   ]
  },
  {
   "cell_type": "code",
   "execution_count": 8,
   "id": "075463a2-2d9b-4dac-a828-e906855f1393",
   "metadata": {},
   "outputs": [
    {
     "name": "stdout",
     "output_type": "stream",
     "text": [
      "e appears 9 times\n",
      "  appears 8 times\n",
      "s appears 5 times\n",
      "l appears 4 times\n",
      "r appears 4 times\n",
      "m appears 3 times\n",
      "p appears 3 times\n",
      "a appears 3 times\n",
      "o appears 3 times\n",
      "u appears 2 times\n",
      "t appears 2 times\n",
      "c appears 2 times\n",
      "i appears 1 times\n",
      "h appears 1 times\n",
      "f appears 1 times\n",
      "x appears 1 times\n",
      "n appears 1 times\n"
     ]
    }
   ],
   "source": [
    "# Sorting by value in reverse order   \n",
    "for k in sorted(x, key=lambda k: x[k], reverse=True ):\n",
    "    print(\"{} appears {} times\".format(k, x[k]))"
   ]
  },
  {
   "cell_type": "markdown",
   "id": "0b4c4dcd-b2a4-4e15-a5ca-9e1f269d6689",
   "metadata": {},
   "source": [
    "### Example: Find maximum frequency"
   ]
  },
  {
   "cell_type": "code",
   "execution_count": 9,
   "id": "bafe665d-de9b-4165-872b-7a31e19b7676",
   "metadata": {},
   "outputs": [
    {
     "name": "stdout",
     "output_type": "stream",
     "text": [
      "9\n"
     ]
    }
   ],
   "source": [
    "max_value = 0\n",
    "\n",
    "for key in x:\n",
    "    if (x[key] > max_value):\n",
    "        max_value = x[key]\n",
    "\n",
    "print(max_value)"
   ]
  },
  {
   "cell_type": "markdown",
   "id": "46841219-430c-4f54-bb8e-62c7a04510a3",
   "metadata": {},
   "source": [
    "### Example: Sorting tuples"
   ]
  },
  {
   "cell_type": "code",
   "execution_count": 10,
   "id": "e9a27081-6db8-4ed0-96c0-c7c97dd839c0",
   "metadata": {},
   "outputs": [
    {
     "name": "stdout",
     "output_type": "stream",
     "text": [
      "('A', 2, 4)\n",
      "('A', 3, 2)\n",
      "('B', 3, 1)\n",
      "('C', 1, 2)\n",
      "('C', 1, 4)\n"
     ]
    }
   ],
   "source": [
    "# Sort by first element, if can't decide, go to the second element, and so on ...\n",
    "\n",
    "tups = [('A', 3, 2), ('C', 1, 4), ('B', 3, 1), ('A', 2, 4), ('C', 1, 2)]\n",
    "\n",
    "for tup in sorted(tups):\n",
    "    print(tup)"
   ]
  },
  {
   "cell_type": "code",
   "execution_count": 11,
   "id": "561da888-00a1-4be0-a0a6-549ab7c08072",
   "metadata": {},
   "outputs": [
    {
     "name": "stdout",
     "output_type": "stream",
     "text": [
      "kiwi\n",
      "pear\n",
      "apple\n",
      "mango\n",
      "peach\n",
      "papaya\n",
      "blueberry\n"
     ]
    }
   ],
   "source": [
    "# Sort fruits first by length, and then lexicografically:\n",
    "\n",
    "fruits = ['peach', 'kiwi', 'apple', 'blueberry', 'papaya', 'mango', 'pear']\n",
    "\n",
    "new_order = sorted(fruits, key=lambda fruit_name: (len(fruit_name), fruit_name))\n",
    "\n",
    "for fruit in new_order:\n",
    "    print(fruit)"
   ]
  },
  {
   "cell_type": "code",
   "execution_count": 12,
   "id": "94851549-b843-46e4-a071-9dabfaa1637d",
   "metadata": {},
   "outputs": [
    {
     "name": "stdout",
     "output_type": "stream",
     "text": [
      "blueberry\n",
      "papaya\n",
      "apple\n",
      "mango\n",
      "peach\n",
      "kiwi\n",
      "pear\n"
     ]
    }
   ],
   "source": [
    "# print the lenght in reverse order!\n",
    "new_order = sorted(fruits, key=lambda fruit_name: (-len(fruit_name), fruit_name))\n",
    "\n",
    "for fruit in new_order:\n",
    "    print(fruit)"
   ]
  },
  {
   "cell_type": "markdown",
   "id": "7e6933dc-580c-456f-8577-d8e5eac34885",
   "metadata": {},
   "source": [
    "#### Example: More elaborate sorting"
   ]
  },
  {
   "cell_type": "code",
   "execution_count": 13,
   "id": "9b0d96a2-ef65-422f-b11a-cc5cbf62e16a",
   "metadata": {},
   "outputs": [],
   "source": [
    "# Here we have a dict, that for each state contains a list of \n",
    "# some of their cities:\n",
    "states = {\n",
    "            \"Minnesota\": [\"St. Paul\", \"Minneapolis\", \"Saint Cloud\", \"Stillwater\"],\n",
    "            \"Michigan\": [\"Ann Arbor\", \"Traverse City\", \"Lansing\", \"Kalamazoo\"],\n",
    "            \"Washington\": [\"Seattle\", \"Tacoma\", \"Olympia\", \"Vancouver\"]\n",
    "            }"
   ]
  },
  {
   "cell_type": "code",
   "execution_count": 14,
   "id": "84fca1f1-661f-4393-8db1-dc8a3a85689c",
   "metadata": {},
   "outputs": [
    {
     "name": "stdout",
     "output_type": "stream",
     "text": [
      "['Michigan', 'Minnesota', 'Washington']\n"
     ]
    }
   ],
   "source": [
    "# Default sorting: by keys            \n",
    "print(sorted(states))"
   ]
  },
  {
   "cell_type": "code",
   "execution_count": null,
   "id": "f82dd9dc-5b92-42bb-b1bb-f9c2a56707fb",
   "metadata": {},
   "outputs": [],
   "source": [
    "# Sort by the lenght of the first city string \n",
    "print(sorted(states, key=lambda state: len(states[state][0])))"
   ]
  },
  {
   "cell_type": "code",
   "execution_count": 15,
   "id": "26ad824d-5b91-4694-9be2-4ad41f448021",
   "metadata": {},
   "outputs": [
    {
     "name": "stdout",
     "output_type": "stream",
     "text": [
      "['Michigan', 'Washington', 'Minnesota']\n"
     ]
    }
   ],
   "source": [
    "# Sort by number of cities that begin with capital S\n",
    "def s_cities_count(cities_list):\n",
    "    '''return a count of how many cities begin with 'S' '''\n",
    "    ct = 0\n",
    "    for city in cities_list:\n",
    "        if city[0] == 'S':\n",
    "            ct = ct + 1\n",
    "    return ct\n",
    "    \n",
    "print(sorted(states, key=lambda state: s_cities_count(states[state])))"
   ]
  },
  {
   "cell_type": "code",
   "execution_count": null,
   "id": "c720d5fb-b9bc-4b36-8de7-8ea3e770fb70",
   "metadata": {},
   "outputs": [],
   "source": [
    "def s_cities_count_for_state(state):\n",
    "    cities_list = states[state]  \n",
    "    return s_cities_count(cities_list)\n",
    "    \n",
    "print(sorted(states, key=s_cities_count_for_state))"
   ]
  }
 ],
 "metadata": {
  "kernelspec": {
   "display_name": "Python 3 (ipykernel)",
   "language": "python",
   "name": "python3"
  },
  "language_info": {
   "codemirror_mode": {
    "name": "ipython",
    "version": 3
   },
   "file_extension": ".py",
   "mimetype": "text/x-python",
   "name": "python",
   "nbconvert_exporter": "python",
   "pygments_lexer": "ipython3",
   "version": "3.9.6"
  }
 },
 "nbformat": 4,
 "nbformat_minor": 5
}
