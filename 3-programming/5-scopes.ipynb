{
 "cells": [
  {
   "cell_type": "markdown",
   "id": "7ea280bc-eb37-445d-a2a1-11df4b05711c",
   "metadata": {},
   "source": [
    "# Scopes"
   ]
  },
  {
   "cell_type": "markdown",
   "id": "52426e87-e755-4153-936d-fecdb437716f",
   "metadata": {},
   "source": [
    "Given a variable name, Python first tries to look up the variable name among the local variables, then among global variables, and finally among built-in Python functions."
   ]
  },
  {
   "cell_type": "markdown",
   "id": "fefbe384-7afe-4891-a129-81c35e355c06",
   "metadata": {},
   "source": [
    "### global vars"
   ]
  },
  {
   "cell_type": "markdown",
   "id": "7361daae-3ff1-4947-872e-7c62fa672032",
   "metadata": {},
   "source": [
    "* Variables that are created outside of a function are known as global variables."
   ]
  },
  {
   "cell_type": "code",
   "execution_count": null,
   "id": "aa416868-aa8c-4aed-b4ac-98d9dbbf0d2c",
   "metadata": {},
   "outputs": [],
   "source": [
    "a = 4\n",
    "b = 5\n",
    "c = 6\n",
    "print(a*b)"
   ]
  },
  {
   "cell_type": "code",
   "execution_count": null,
   "id": "a41e6961-057d-4a34-82d5-7c7cd41e3a03",
   "metadata": {},
   "outputs": [],
   "source": [
    "dir()"
   ]
  },
  {
   "cell_type": "markdown",
   "id": "84cee0cd-89c2-48a2-8228-0282f7e76ff8",
   "metadata": {},
   "source": [
    "### local vars"
   ]
  },
  {
   "cell_type": "markdown",
   "id": "15dd4e7d-668d-45b5-aaa4-9cddf0806bb0",
   "metadata": {},
   "source": [
    "* Variables assigned inside functions are local variables\n",
    "* Local variables hide global variables.\n",
    "* Local variables are invisible outside functions."
   ]
  },
  {
   "cell_type": "code",
   "execution_count": null,
   "id": "40860aa9-d8d4-4025-9e46-af540bcd0120",
   "metadata": {},
   "outputs": [],
   "source": [
    "def foo():\n",
    "    p = 4\n",
    "    q = 5\n",
    "    r = 6\n",
    "    print(p*q*r)"
   ]
  },
  {
   "cell_type": "code",
   "execution_count": null,
   "id": "20ba1133-c1b1-459d-b8b3-2bf719aa7c07",
   "metadata": {},
   "outputs": [],
   "source": [
    "foo()"
   ]
  },
  {
   "cell_type": "code",
   "execution_count": null,
   "id": "2c446c3e-2b51-471e-a4a9-d8965e460fcd",
   "metadata": {},
   "outputs": [],
   "source": [
    "dir()"
   ]
  },
  {
   "cell_type": "markdown",
   "id": "91f64d29-1509-4b84-8a95-8cd4ce39e7e2",
   "metadata": {},
   "source": [
    "### global vars in functions"
   ]
  },
  {
   "cell_type": "markdown",
   "id": "1c975a47-6d3f-4303-b71f-9ec88f3c37e1",
   "metadata": {},
   "source": [
    "* Global variables can be accessed everywhere in a program, also inside a function\n",
    "* The values of global variables cannot be changed inside functions unless the variable is declared as global"
   ]
  },
  {
   "cell_type": "code",
   "execution_count": null,
   "id": "d01dbca0-a20c-42c7-808a-39164a2265fb",
   "metadata": {},
   "outputs": [],
   "source": [
    "def fn(a):  # a is dummy var\n",
    "    # global c\n",
    "    d = a   # d is local var\n",
    "    a = b   # b is global var\n",
    "    c = 9   # c is local var\n",
    "    return a, b, c, d\n",
    "\n",
    "print(a, b, c)\n",
    "\n",
    "print(fn(b))    # modifies only global c \n",
    "\n",
    "print(a, b, c)\n",
    "\n",
    "# print(d)  # error, since d scope is fn"
   ]
  },
  {
   "cell_type": "markdown",
   "id": "09e6f2f8-cb7a-4a32-a002-2be5eeca329b",
   "metadata": {},
   "source": [
    "##### Example: Define a constant"
   ]
  },
  {
   "cell_type": "code",
   "execution_count": null,
   "id": "ad29fd8f-ca79-4b41-9cf8-a62d8faeea34",
   "metadata": {},
   "outputs": [],
   "source": [
    "g = 9.81"
   ]
  },
  {
   "cell_type": "code",
   "execution_count": null,
   "id": "9bb32998-4fc4-436d-b45b-ea8b43fb9128",
   "metadata": {},
   "outputs": [],
   "source": [
    "def yfunc(t, v0):\n",
    "    return v0*t - 0.5*g*t**2"
   ]
  },
  {
   "cell_type": "code",
   "execution_count": null,
   "id": "f09e0117-e666-4d32-9be8-47fef01f999e",
   "metadata": {},
   "outputs": [],
   "source": [
    "y = yfunc(t = 0.1, v0 = 6)\n",
    "print(y)"
   ]
  },
  {
   "cell_type": "code",
   "execution_count": null,
   "id": "e1e8f488-de6a-4413-bd58-2dee2823ca54",
   "metadata": {},
   "outputs": [],
   "source": [
    "g = 0\n",
    "y = yfunc(t = 0.1, v0 = 6)\n",
    "print(y)"
   ]
  },
  {
   "cell_type": "markdown",
   "id": "6555c88e-1ae1-492b-adc4-1dd091fad87d",
   "metadata": {},
   "source": [
    "##### Example: Undefined globals in a function"
   ]
  },
  {
   "cell_type": "code",
   "execution_count": null,
   "id": "47ddbdb8-7dae-437b-84d9-d6f6d783c45d",
   "metadata": {},
   "outputs": [],
   "source": [
    "def yfunc(t):\n",
    "    g = 9.81\n",
    "    return x0 + v0*t - 0.5*g*t**2"
   ]
  },
  {
   "cell_type": "code",
   "execution_count": null,
   "id": "1d89ec17-579b-4aa8-b48b-7bee82258c60",
   "metadata": {},
   "outputs": [],
   "source": [
    "x0 = 1    \n",
    "v0 = 5\n",
    "print(yfunc(0.6))"
   ]
  },
  {
   "cell_type": "code",
   "execution_count": null,
   "id": "756881e9-2c9b-4395-8f85-4d5fdbb78e0a",
   "metadata": {},
   "outputs": [],
   "source": [
    "x0 = 0    \n",
    "v0 = 0\n",
    "print(yfunc(0.6))"
   ]
  }
 ],
 "metadata": {
  "kernelspec": {
   "display_name": "Python 3 (ipykernel)",
   "language": "python",
   "name": "python3"
  },
  "language_info": {
   "codemirror_mode": {
    "name": "ipython",
    "version": 3
   },
   "file_extension": ".py",
   "mimetype": "text/x-python",
   "name": "python",
   "nbconvert_exporter": "python",
   "pygments_lexer": "ipython3",
   "version": "3.9.6"
  }
 },
 "nbformat": 4,
 "nbformat_minor": 5
}
