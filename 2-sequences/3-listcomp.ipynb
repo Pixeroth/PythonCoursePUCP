{
 "cells": [
  {
   "cell_type": "markdown",
   "metadata": {},
   "source": [
    "# Range and List comprehensions"
   ]
  },
  {
   "cell_type": "markdown",
   "metadata": {},
   "source": [
    "### Range"
   ]
  },
  {
   "cell_type": "code",
   "execution_count": null,
   "metadata": {},
   "outputs": [],
   "source": [
    "# Range of integers: using range\n",
    "axis = range(10)\n",
    "print(axis)"
   ]
  },
  {
   "cell_type": "code",
   "execution_count": null,
   "metadata": {},
   "outputs": [],
   "source": [
    "print(\"axis list:\",end=\" \") \n",
    "print(list(axis))"
   ]
  },
  {
   "cell_type": "code",
   "execution_count": null,
   "metadata": {},
   "outputs": [],
   "source": [
    "print(\"axis tuple:\",end=\" \") \n",
    "print(tuple(axis))"
   ]
  },
  {
   "cell_type": "code",
   "execution_count": null,
   "metadata": {},
   "outputs": [],
   "source": [
    "# range third argument\n",
    "evens = range(6, 18, 2)\n",
    "print(\"evens list:\",end=\" \")\n",
    "print(list(evens))"
   ]
  },
  {
   "cell_type": "code",
   "execution_count": null,
   "metadata": {},
   "outputs": [],
   "source": [
    "print(\"evens tuple:\",end=\" \")\n",
    "print(tuple(evens))"
   ]
  },
  {
   "cell_type": "markdown",
   "metadata": {},
   "source": [
    "### List comprehensions"
   ]
  },
  {
   "cell_type": "markdown",
   "metadata": {},
   "source": [
    "Sintaxis: [ f(i) for i in list ]"
   ]
  },
  {
   "cell_type": "markdown",
   "metadata": {},
   "source": [
    "##### Example 1"
   ]
  },
  {
   "cell_type": "code",
   "execution_count": null,
   "metadata": {},
   "outputs": [],
   "source": [
    "axis = [ 0.5*i for i in range(10)]\n",
    "print(\"axis:\")\n",
    "print(axis)"
   ]
  },
  {
   "cell_type": "markdown",
   "metadata": {},
   "source": [
    "##### Example 2"
   ]
  },
  {
   "cell_type": "code",
   "execution_count": 1,
   "metadata": {},
   "outputs": [
    {
     "name": "stdout",
     "output_type": "stream",
     "text": [
      "metric:\n",
      "[5.3340000000000005, 8.128, 17.018, 13.716000000000001, 3.048]\n"
     ]
    }
   ],
   "source": [
    "data = [2.1, 3.2, 6.7, 5.4, 1.2]  # inches\n",
    "metric = [2.54 * measure for measure in data]\n",
    "print(\"metric:\")\n",
    "print(metric)"
   ]
  },
  {
   "cell_type": "markdown",
   "metadata": {},
   "source": [
    "##### Example 3: numpy arrays"
   ]
  },
  {
   "cell_type": "code",
   "execution_count": 2,
   "metadata": {},
   "outputs": [],
   "source": [
    "# set precision to 5 using numpy\n",
    "import numpy as np\n",
    "np.set_printoptions(precision=5)"
   ]
  },
  {
   "cell_type": "code",
   "execution_count": 3,
   "metadata": {},
   "outputs": [
    {
     "name": "stdout",
     "output_type": "stream",
     "text": [
      "metric:\n",
      "[ 5.334  8.128 17.018 13.716  3.048]\n"
     ]
    }
   ],
   "source": [
    "print(\"metric:\")\n",
    "print(np.array(metric))"
   ]
  },
  {
   "cell_type": "code",
   "execution_count": 4,
   "metadata": {},
   "outputs": [
    {
     "name": "stdout",
     "output_type": "stream",
     "text": [
      "axis:\n",
      "[ 0.       0.31211  0.62422  0.93634  1.24845  1.56056  1.87267  2.18478\n",
      "  2.4969   2.80901  3.12112  3.43323  3.74534  4.05746  4.36957  4.68168\n",
      "  4.99379  5.3059   5.61802  5.93013  6.24224  6.55435  6.86646  7.17858\n",
      "  7.49069  7.8028   8.11491  8.42702  8.73914  9.05125  9.36336  9.67547\n",
      "  9.98758 10.2997  10.61181 10.92392 11.23603 11.54814 11.86026 12.17237\n",
      " 12.48448 12.79659 13.1087  13.42082 13.73293 14.04504 14.35715 14.66926\n",
      " 14.98138 15.29349 15.6056  15.91771 16.22982 16.54194 16.85405 17.16616\n",
      " 17.47827 17.79038 18.1025  18.41461 18.72672 19.03883 19.35094 19.66306\n",
      " 19.97517 20.28728 20.59939 20.9115  21.22362 21.53573 21.84784 22.15995\n",
      " 22.47206 22.78418 23.09629 23.4084  23.72051 24.03262 24.34474 24.65685\n",
      " 24.96896 25.28107 25.59318 25.9053  26.21741 26.52952 26.84163 27.15374\n",
      " 27.46586 27.77797 28.09008 28.40219 28.7143  29.02642 29.33853 29.65064\n",
      " 29.96275 30.27486 30.58698 30.89909]\n"
     ]
    }
   ],
   "source": [
    "axis = [ 0.312112*i for i in range(100)]\n",
    "print(\"axis:\")\n",
    "print(np.array(axis))"
   ]
  },
  {
   "cell_type": "markdown",
   "metadata": {},
   "source": [
    "##### Example 4: Nested lists"
   ]
  },
  {
   "cell_type": "code",
   "execution_count": 6,
   "metadata": {},
   "outputs": [],
   "source": [
    "nested = [[1, 2], [2, 3], [3, 4], [4, 5]] "
   ]
  },
  {
   "cell_type": "code",
   "execution_count": 7,
   "metadata": {},
   "outputs": [
    {
     "name": "stdout",
     "output_type": "stream",
     "text": [
      "[[1, 4], [4, 9], [9, 16], [16, 25]]\n"
     ]
    }
   ],
   "source": [
    "sq_elems = [ [j**2 for j in i] for i in nested ]\n",
    "print(sq_elems)"
   ]
  },
  {
   "cell_type": "code",
   "execution_count": 8,
   "metadata": {},
   "outputs": [],
   "source": [
    "sum_pairs = [i + j for (i, j) in nested]\n",
    "print(sum_pairs)"
   ]
  },
  {
   "cell_type": "code",
   "execution_count": 9,
   "metadata": {},
   "outputs": [],
   "source": [
    "nested2 = [[1, 2, 3], [2, 3, 4], [3, 4, 5], [4, 5, 6]] "
   ]
  },
  {
   "cell_type": "code",
   "execution_count": 11,
   "metadata": {},
   "outputs": [
    {
     "name": "stdout",
     "output_type": "stream",
     "text": [
      "[6, 24, 60, 120]\n"
     ]
    }
   ],
   "source": [
    "mult = [i*j*k for (i, j, k) in nested2]\n",
    "print(mult)"
   ]
  },
  {
   "cell_type": "markdown",
   "metadata": {},
   "source": [
    "##### Example 5: Using zip"
   ]
  },
  {
   "cell_type": "code",
   "execution_count": 20,
   "metadata": {},
   "outputs": [
    {
     "name": "stdout",
     "output_type": "stream",
     "text": [
      "[0, 1, 2, 3, 4]\n",
      "[5, 4, 3, 2, 1]\n"
     ]
    }
   ],
   "source": [
    "list1 = range(5)\n",
    "list2 = range(5, 0, -1)\n",
    "\n",
    "print(list(list1))\n",
    "print(list(list2))"
   ]
  },
  {
   "cell_type": "code",
   "execution_count": 21,
   "metadata": {},
   "outputs": [
    {
     "name": "stdout",
     "output_type": "stream",
     "text": [
      "[(0, 5, 5), (1, 4, 5), (2, 3, 5), (3, 2, 5), (4, 1, 5)]\n"
     ]
    }
   ],
   "source": [
    "pairs = [(i, j, i + j) for (i, j) in zip(list1, list2)]\n",
    "print(pairs)"
   ]
  },
  {
   "cell_type": "code",
   "execution_count": null,
   "metadata": {},
   "outputs": [],
   "source": []
  }
 ],
 "metadata": {
  "kernelspec": {
   "display_name": "Python 3 (ipykernel)",
   "language": "python",
   "name": "python3"
  },
  "language_info": {
   "codemirror_mode": {
    "name": "ipython",
    "version": 3
   },
   "file_extension": ".py",
   "mimetype": "text/x-python",
   "name": "python",
   "nbconvert_exporter": "python",
   "pygments_lexer": "ipython3",
   "version": "3.9.6"
  }
 },
 "nbformat": 4,
 "nbformat_minor": 4
}
