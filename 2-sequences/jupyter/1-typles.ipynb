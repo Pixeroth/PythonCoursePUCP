{
 "cells": [
  {
   "cell_type": "markdown",
   "metadata": {},
   "source": [
    "# Tuples"
   ]
  },
  {
   "cell_type": "markdown",
   "metadata": {},
   "source": [
    "Tuples are indicated by parentheses: (). \n",
    "Items in tuples can be any other data type, including other tuples. \n",
    "Tuples are immutable, meaning that once defined their contents cannot change."
   ]
  },
  {
   "cell_type": "code",
   "execution_count": 2,
   "metadata": {},
   "outputs": [
    {
     "name": "stdout",
     "output_type": "stream",
     "text": [
      "('cesar', 'augusto', 12, 12.3, (2+4j))\n"
     ]
    }
   ],
   "source": [
    "# define tuple++\n",
    "mytup = ( \"cesar\", \"augusto\", 12, 12.3, 2+4j )\n",
    "print(mytup)"
   ]
  },
  {
   "cell_type": "code",
   "execution_count": 3,
   "metadata": {},
   "outputs": [
    {
     "name": "stdout",
     "output_type": "stream",
     "text": [
      "False\n",
      "5\n"
     ]
    }
   ],
   "source": [
    "# membership and lenght\n",
    "print(2 in mytup)\n",
    "print(len(mytup))"
   ]
  },
  {
   "cell_type": "code",
   "execution_count": 4,
   "metadata": {},
   "outputs": [
    {
     "name": "stdout",
     "output_type": "stream",
     "text": [
      "12\n",
      "(2+4j)\n"
     ]
    }
   ],
   "source": [
    "# extract elements (0 -> 1st, 1 -> 2nd, ...)\n",
    "print(mytup[2])\n",
    "print(mytup[-1])"
   ]
  },
  {
   "cell_type": "markdown",
   "metadata": {},
   "source": [
    "## Slicing"
   ]
  },
  {
   "cell_type": "code",
   "execution_count": 8,
   "metadata": {},
   "outputs": [
    {
     "name": "stdout",
     "output_type": "stream",
     "text": [
      "('cesar', 'augusto', 12)\n",
      "('cesar',)\n",
      "('cesar', (2+4j))\n",
      "('cesar',)\n"
     ]
    }
   ],
   "source": [
    "print(mytup[0:3])     # last item is not included, index 0 first elem, step 1\n",
    "print(mytup[0:3:3])   # last item is not included, index 0 first elem, step 3\n",
    "print(mytup[0::4])    # last item is included, index 0 first elem, step 3\n",
    "print(mytup[0:-1:4])    "
   ]
  },
  {
   "cell_type": "code",
   "execution_count": null,
   "metadata": {},
   "outputs": [],
   "source": [
    "# tuples can contain tuples\n",
    "mytup2 = (mytup, mytup)\n",
    "print(mytup2)\n",
    "print(mytup2[1])"
   ]
  },
  {
   "cell_type": "code",
   "execution_count": null,
   "metadata": {},
   "outputs": [],
   "source": [
    "# using multiple index\n",
    "print(mytup2[1][2])  "
   ]
  },
  {
   "cell_type": "code",
   "execution_count": null,
   "metadata": {},
   "outputs": [],
   "source": [
    "# concatenate tuples\n",
    "print((1, 2, 3) + (4, 5, 6))\n",
    "print(mytup + mytup2)"
   ]
  },
  {
   "cell_type": "code",
   "execution_count": null,
   "metadata": {},
   "outputs": [],
   "source": [
    "# repetition of tuples\n",
    "print (('mouse', )*4) # comma is neccessary\n",
    "print (('cat', 'dog')*4)"
   ]
  },
  {
   "cell_type": "code",
   "execution_count": null,
   "metadata": {},
   "outputs": [],
   "source": [
    "# deleting tuple\n",
    "print('mytup2' in globals())\n",
    "del(mytup2)   # also: del mytup2\n",
    "print('mytup2' in globals())"
   ]
  },
  {
   "cell_type": "code",
   "execution_count": null,
   "metadata": {},
   "outputs": [],
   "source": [
    "# swap\n",
    "a, b = b, a\n",
    "print(a, b)"
   ]
  },
  {
   "cell_type": "code",
   "execution_count": null,
   "metadata": {},
   "outputs": [],
   "source": [
    "# multi assigment with tuples\n",
    "a, b, c = 1, 2, 3\n",
    "print(a, b, c)"
   ]
  },
  {
   "cell_type": "code",
   "execution_count": null,
   "metadata": {},
   "outputs": [],
   "source": [
    "# internals\n",
    "_t = (1, 2, 3)\n",
    "a =_t[0]\n",
    "b =_t[1]\n",
    "c =_t[2]\n",
    "print(a, b, c)"
   ]
  },
  {
   "cell_type": "code",
   "execution_count": null,
   "metadata": {},
   "outputs": [],
   "source": [
    "# the * operator for unpacking\n",
    "a, b, *c = 1, 2, 3, 4, 5, 6, 7\n",
    "print(a, b, c)"
   ]
  }
 ],
 "metadata": {
  "kernelspec": {
   "display_name": "Python 3 (ipykernel)",
   "language": "python",
   "name": "python3"
  },
  "language_info": {
   "codemirror_mode": {
    "name": "ipython",
    "version": 3
   },
   "file_extension": ".py",
   "mimetype": "text/x-python",
   "name": "python",
   "nbconvert_exporter": "python",
   "pygments_lexer": "ipython3",
   "version": "3.9.6"
  }
 },
 "nbformat": 4,
 "nbformat_minor": 4
}
