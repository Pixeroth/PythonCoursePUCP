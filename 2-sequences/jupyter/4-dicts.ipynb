{
 "cells": [
  {
   "cell_type": "markdown",
   "id": "17d3c683-3ee8-44dc-a3dd-e7cf47d9ab79",
   "metadata": {},
   "source": [
    "# Dictionaries"
   ]
  },
  {
   "cell_type": "markdown",
   "id": "78eef2e8-4d55-42fc-8f0a-3fbf5e3349d4",
   "metadata": {},
   "source": [
    "### Create a dict"
   ]
  },
  {
   "cell_type": "code",
   "execution_count": null,
   "id": "d82826c6-6027-4cd0-9b4c-b86e8a7edf12",
   "metadata": {},
   "outputs": [],
   "source": [
    "emptyDictionary = {}\n",
    "print(\"The value of emptyDictionary is:\", emptyDictionary)"
   ]
  },
  {
   "cell_type": "code",
   "execution_count": null,
   "id": "9939aa35-c2e3-4fb8-b1fb-bd5aa0a62e4b",
   "metadata": {},
   "outputs": [],
   "source": [
    "# create and print a dictionary with initial values\n",
    "grades = { \"John\": 87, \"Steve\": 76, \"Laura\": 92, \"Edwin\": 89 }\n",
    "print(\"All grades:\", grades)"
   ]
  },
  {
   "cell_type": "markdown",
   "id": "20471d46-80a8-42ac-b82a-7c7272d4134e",
   "metadata": {},
   "source": [
    "### Access and modify elements"
   ]
  },
  {
   "cell_type": "code",
   "execution_count": null,
   "id": "42034428-3b6c-494e-9f9f-c99fcb287925",
   "metadata": {},
   "outputs": [],
   "source": [
    "print(\"Steve's current grade:\", grades[ \"Steve\" ])"
   ]
  },
  {
   "cell_type": "code",
   "execution_count": null,
   "id": "c839f378-d3a4-4a29-bd7b-ba06599264ef",
   "metadata": {},
   "outputs": [],
   "source": [
    "grades[ \"Steve\" ] = 90\n",
    "print(\"Steve's new grade:\", grades[ \"Steve\" ])"
   ]
  },
  {
   "cell_type": "code",
   "execution_count": null,
   "id": "7b47c969-4efd-4717-8867-22cab97e43cf",
   "metadata": {},
   "outputs": [],
   "source": [
    "print(\"All grades:\", grades)"
   ]
  },
  {
   "cell_type": "markdown",
   "id": "a5f845be-d952-480b-b648-8b042f37d8b5",
   "metadata": {},
   "source": [
    "### Add elements"
   ]
  },
  {
   "cell_type": "code",
   "execution_count": null,
   "id": "6cb3397a-602c-47dc-be09-3df32dc81724",
   "metadata": {},
   "outputs": [],
   "source": [
    "grades[ \"Michael\" ] = 93\n",
    "print(\"Dictionary grades after modification:\")\n",
    "print(grades)"
   ]
  },
  {
   "cell_type": "markdown",
   "id": "fb4cb4e4-af36-46ed-ae2b-44b9ec93408a",
   "metadata": {},
   "source": [
    "### Delete elements"
   ]
  },
  {
   "cell_type": "code",
   "execution_count": null,
   "id": "893363fc-5ce8-45c8-b324-4cb595984fbf",
   "metadata": {},
   "outputs": [],
   "source": [
    "del(grades[ \"John\" ])\n",
    "print(\"Dictionary grades after deletion:\")\n",
    "print(grades)"
   ]
  },
  {
   "cell_type": "markdown",
   "id": "1c185929-b268-4e40-9e11-2c202df7620f",
   "metadata": {},
   "source": [
    "### Dictionary methods"
   ]
  },
  {
   "cell_type": "code",
   "execution_count": 9,
   "id": "65883d3a-96f5-4507-9986-c63d3507b29b",
   "metadata": {},
   "outputs": [],
   "source": [
    "monthsDictionary = { \n",
    "    1 : \"January\", 2 : \"February\", 3 : \"March\", \n",
    "    4 : \"April\", 5 : \"May\", 6 : \"June\", 7 : \"July\", \n",
    "    8 : \"August\", 9 : \"September\", 10 : \"October\", \n",
    "    11 : \"November\", 12 : \"December\"}"
   ]
  },
  {
   "cell_type": "code",
   "execution_count": 10,
   "id": "2fcee67f-ff4d-45ab-92fe-56e7d6e342c5",
   "metadata": {},
   "outputs": [
    {
     "name": "stdout",
     "output_type": "stream",
     "text": [
      "The dictionary keys are:\n",
      "dict_keys([1, 2, 3, 4, 5, 6, 7, 8, 9, 10, 11, 12])\n"
     ]
    }
   ],
   "source": [
    "print(\"The dictionary keys are:\")\n",
    "print(monthsDictionary.keys())"
   ]
  },
  {
   "cell_type": "code",
   "execution_count": 11,
   "id": "6396cd5d-f459-47a9-9c39-59a21c21901c",
   "metadata": {},
   "outputs": [
    {
     "name": "stdout",
     "output_type": "stream",
     "text": [
      "The dictionary values are:\n",
      "dict_values(['January', 'February', 'March', 'April', 'May', 'June', 'July', 'August', 'September', 'October', 'November', 'December'])\n"
     ]
    }
   ],
   "source": [
    "print(\"The dictionary values are:\")\n",
    "print(monthsDictionary.values())"
   ]
  },
  {
   "cell_type": "code",
   "execution_count": 14,
   "id": "84f5a024-c9a1-471d-b4d2-b4ada7f9f2a5",
   "metadata": {},
   "outputs": [
    {
     "name": "stdout",
     "output_type": "stream",
     "text": [
      "The dictionary items are:\n",
      "dict_items([(1, 'January'), (2, 'February'), (3, 'March'), (4, 'April'), (5, 'May'), (6, 'June'), (7, 'July'), (8, 'August'), (9, 'September'), (10, 'October'), (11, 'November'), (12, 'December')])\n"
     ]
    }
   ],
   "source": [
    "print(\"The dictionary items are:\")\n",
    "print(monthsDictionary.items())"
   ]
  },
  {
   "cell_type": "markdown",
   "id": "7abce808-12a2-4dde-a06a-08332017ac00",
   "metadata": {},
   "source": [
    "### Other useful methods"
   ]
  },
  {
   "cell_type": "raw",
   "id": "3376a472-6ba9-4436-a48a-e23337b4b13e",
   "metadata": {},
   "source": [
    "clear()                             Deletes all items from the dictionary.\n",
    "\n",
    "copy()                              Creates and returns a shallow copy of the dictionary .\n",
    "\n",
    "get(key [, returnValue])            Returns the value associated with key. If key is not in the \n",
    "                                    dictionary and if returnValue is specified, returns the \n",
    "                                    specified value. If returnValue is not specified, returns None.\n",
    "\n",
    "has_key(key)                        Returns 1 if key is in the dictionary; returns 0 if key is not \n",
    "                                    in the dictionary.\n",
    "\n",
    "popitem()                           Removes and returns an arbitrary key-value pair as a tuple of \n",
    "                                    two elements. If dictionary is empty, a Key- Error exception \n",
    "                                    occurs.\n",
    "\n",
    "setdefault(key [, dummyValue])      Behaves similarly to method get. If key is not in the dictionary \n",
    "                                    and dummyValue is specified, inserts the key and the specified \n",
    "                                    value into dictionary. If dummyValue is not specified, value is \n",
    "                                    None.\n",
    "\n",
    "update(newDictionary)               Adds all key-value pairs from newDictionary to the current \n",
    "                                    dictionary and overrides the values for keys that already exist."
   ]
  },
  {
   "cell_type": "code",
   "execution_count": null,
   "id": "b0b1ba62-54f1-472e-853b-ea4a381ae957",
   "metadata": {},
   "outputs": [],
   "source": []
  }
 ],
 "metadata": {
  "kernelspec": {
   "display_name": "Python 3 (ipykernel)",
   "language": "python",
   "name": "python3"
  },
  "language_info": {
   "codemirror_mode": {
    "name": "ipython",
    "version": 3
   },
   "file_extension": ".py",
   "mimetype": "text/x-python",
   "name": "python",
   "nbconvert_exporter": "python",
   "pygments_lexer": "ipython3",
   "version": "3.9.6"
  }
 },
 "nbformat": 4,
 "nbformat_minor": 5
}
