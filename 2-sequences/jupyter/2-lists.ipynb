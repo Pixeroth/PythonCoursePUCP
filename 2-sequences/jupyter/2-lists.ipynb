{
 "cells": [
  {
   "cell_type": "markdown",
   "metadata": {},
   "source": [
    "# Lists"
   ]
  },
  {
   "cell_type": "markdown",
   "metadata": {},
   "source": [
    "Lists are indicated by square brackets: [ ]. Lists are pretty much the\n",
    "same as tuples, but they are mutable: individual items in a list may be\n",
    "changed. Lists can contain any other data type, including other lists."
   ]
  },
  {
   "cell_type": "code",
   "execution_count": 1,
   "metadata": {},
   "outputs": [
    {
     "name": "stdout",
     "output_type": "stream",
     "text": [
      "[1, 2, 3, 'a', 'b', (2, 3), ['2']]\n"
     ]
    }
   ],
   "source": [
    "# define a list\n",
    "lista = [1, 2, 3, 'a', 'b', (2, 3), ['2'] ]\n",
    "print(lista)"
   ]
  },
  {
   "cell_type": "code",
   "execution_count": 8,
   "metadata": {},
   "outputs": [
    {
     "name": "stdout",
     "output_type": "stream",
     "text": [
      "7\n",
      "\n",
      "True\n",
      "\n",
      "False\n",
      "\n"
     ]
    }
   ],
   "source": [
    "# len and membership\n",
    "print (len(lista), end='\\n\\n')          \n",
    "print (2 in lista, end='\\n\\n')\n",
    "print (2 not in lista, end='\\n\\n')              "
   ]
  },
  {
   "cell_type": "markdown",
   "metadata": {},
   "source": [
    "### Indexing"
   ]
  },
  {
   "cell_type": "code",
   "execution_count": 9,
   "metadata": {},
   "outputs": [
    {
     "name": "stdout",
     "output_type": "stream",
     "text": [
      "3\n",
      "\n",
      "['2']\n",
      "\n"
     ]
    }
   ],
   "source": [
    "# extract elements: 0 -> first element\n",
    "print (lista[2], end='\\n\\n')\n",
    "print (lista[-1], end='\\n\\n')"
   ]
  },
  {
   "cell_type": "code",
   "execution_count": 10,
   "metadata": {},
   "outputs": [
    {
     "name": "stdout",
     "output_type": "stream",
     "text": [
      "[1, 2, 3]\n",
      "\n"
     ]
    }
   ],
   "source": [
    "print (lista[0:3], end='\\n\\n')   # item 3 is not included"
   ]
  },
  {
   "cell_type": "code",
   "execution_count": 11,
   "metadata": {},
   "outputs": [
    {
     "name": "stdout",
     "output_type": "stream",
     "text": [
      "[1, 3, 'b']\n",
      "\n"
     ]
    }
   ],
   "source": [
    "print (lista[0:6:2], end='\\n\\n') # item 6 is not included"
   ]
  },
  {
   "cell_type": "code",
   "execution_count": 12,
   "metadata": {},
   "outputs": [
    {
     "name": "stdout",
     "output_type": "stream",
     "text": [
      "[3, 'a', 'b', (2, 3)]\n",
      "\n",
      "[3, 'a', 'b', (2, 3), ['2']]\n",
      "\n"
     ]
    }
   ],
   "source": [
    "# more about indexing\n",
    "print (lista[2:-1], end='\\n\\n')  # -1 is not included\n",
    "print (lista[2:], end='\\n\\n')    # -1 is included"
   ]
  },
  {
   "cell_type": "code",
   "execution_count": 13,
   "metadata": {},
   "outputs": [
    {
     "name": "stdout",
     "output_type": "stream",
     "text": [
      "[1, 2, 3, 'a', 'b', (2, 3), ['2']]\n",
      "\n",
      "[1, 'a', ['2']]\n",
      "\n"
     ]
    }
   ],
   "source": [
    "print (lista[:], end='\\n\\n')     # all the list\n",
    "print (lista[::3], end='\\n\\n')"
   ]
  },
  {
   "cell_type": "code",
   "execution_count": 14,
   "metadata": {},
   "outputs": [
    {
     "name": "stdout",
     "output_type": "stream",
     "text": [
      "[['2'], (2, 3), 'b', 'a', 3, 2, 1]\n",
      "\n"
     ]
    }
   ],
   "source": [
    "# reverse the list\n",
    "print (lista[::-1], end='\\n\\n')   "
   ]
  },
  {
   "cell_type": "markdown",
   "metadata": {},
   "source": [
    "### Shallow and deep copy"
   ]
  },
  {
   "cell_type": "code",
   "execution_count": 15,
   "metadata": {},
   "outputs": [],
   "source": [
    "# is: check if two objects are the same in mem\n",
    "# slicing always make a copy\n",
    "import copy\n",
    "\n",
    "A = [0, 5, [1, 2], [3, 4]]    \n",
    "B = A[:]               # shallow copy: B = A.copy() or B = list(A)  \n",
    "C = A                  # alias\n",
    "D = copy.deepcopy(A)   # deep copy"
   ]
  },
  {
   "cell_type": "code",
   "execution_count": 16,
   "metadata": {},
   "outputs": [
    {
     "name": "stdout",
     "output_type": "stream",
     "text": [
      "True\n",
      "True\n",
      "True\n"
     ]
    }
   ],
   "source": [
    "print(B == A)\n",
    "print(C == A)\n",
    "print(D == A)"
   ]
  },
  {
   "cell_type": "code",
   "execution_count": 17,
   "metadata": {},
   "outputs": [
    {
     "name": "stdout",
     "output_type": "stream",
     "text": [
      "False\n",
      "True\n",
      "False\n"
     ]
    }
   ],
   "source": [
    "print(B is A)\n",
    "print(C is A)\n",
    "print(D is A)"
   ]
  },
  {
   "cell_type": "code",
   "execution_count": 20,
   "metadata": {},
   "outputs": [
    {
     "name": "stdout",
     "output_type": "stream",
     "text": [
      "A:  [100, 5, [1, 10000], [3, 4]]\n",
      "B:  [0, 5, [1, 10000], [3, 4]]\n",
      "C:  [100, 5, [1, 10000], [3, 4]]\n",
      "D:  [0, 5, [1, 10], [3, 4]]\n"
     ]
    }
   ],
   "source": [
    "#%% testing (replace D -> B, C)\n",
    "A[2][1] = 10000\n",
    "print(\"A: \", A)\n",
    "print(\"B: \", B)\n",
    "print(\"C: \", C)\n",
    "print(\"D: \", D)"
   ]
  },
  {
   "cell_type": "markdown",
   "metadata": {},
   "source": [
    "### Update elements"
   ]
  },
  {
   "cell_type": "code",
   "execution_count": 21,
   "metadata": {},
   "outputs": [
    {
     "name": "stdout",
     "output_type": "stream",
     "text": [
      "['h', 2, 3, 'a', 'b', (2, 3), ['2']]\n",
      "\n"
     ]
    }
   ],
   "source": [
    "# updating a list\n",
    "lista[0] = 'h'\n",
    "print (lista, end='\\n\\n')"
   ]
  },
  {
   "cell_type": "code",
   "execution_count": 23,
   "metadata": {},
   "outputs": [
    {
     "name": "stdout",
     "output_type": "stream",
     "text": [
      "[10, 2, 3, 11, 'b', (2, 3), 12]\n"
     ]
    }
   ],
   "source": [
    "# update a slice\n",
    "lista[0:7:3] = [10,11,12]\n",
    "print (lista)"
   ]
  },
  {
   "cell_type": "code",
   "execution_count": 24,
   "metadata": {},
   "outputs": [
    {
     "name": "stdout",
     "output_type": "stream",
     "text": [
      "[10, 2, 1, 2, 3, 4, 3, 11, 'b', (2, 3), 12]\n"
     ]
    }
   ],
   "source": [
    "# extend and shrink a list\n",
    "lista[2:2] = [1,2,3,4]\n",
    "print(lista)"
   ]
  },
  {
   "cell_type": "code",
   "execution_count": 25,
   "metadata": {},
   "outputs": [
    {
     "name": "stdout",
     "output_type": "stream",
     "text": [
      "[10, 2, 1, 4, 3, 11, 'b', (2, 3), 12]\n"
     ]
    }
   ],
   "source": [
    "lista[3:5] = []\n",
    "print(lista)"
   ]
  },
  {
   "cell_type": "code",
   "execution_count": 26,
   "metadata": {},
   "outputs": [
    {
     "name": "stdout",
     "output_type": "stream",
     "text": [
      "[10, 2, 4, 3, 11, 'b', (2, 3), 12]\n"
     ]
    }
   ],
   "source": [
    "# deleting elements\n",
    "del (lista[2])\n",
    "print (lista)"
   ]
  },
  {
   "cell_type": "markdown",
   "metadata": {},
   "source": [
    "### Concatenation and repetition"
   ]
  },
  {
   "cell_type": "code",
   "execution_count": 27,
   "metadata": {},
   "outputs": [
    {
     "name": "stdout",
     "output_type": "stream",
     "text": [
      "[1, 2, 3, 4, 5, 6]\n",
      "\n"
     ]
    }
   ],
   "source": [
    "print ([1, 2, 3] + [4, 5, 6], end='\\n\\n') "
   ]
  },
  {
   "cell_type": "code",
   "execution_count": 28,
   "metadata": {},
   "outputs": [
    {
     "name": "stdout",
     "output_type": "stream",
     "text": [
      "['cesar', 'cesar', 'cesar', 'cesar']\n",
      "\n"
     ]
    }
   ],
   "source": [
    "print (['cesar'] * 4, end='\\n\\n')           "
   ]
  },
  {
   "cell_type": "markdown",
   "metadata": {},
   "source": [
    "### Mutating methods"
   ]
  },
  {
   "cell_type": "code",
   "execution_count": 29,
   "metadata": {},
   "outputs": [
    {
     "name": "stdout",
     "output_type": "stream",
     "text": [
      "[10, 2, 4, 3, 11, 'b', (2, 3), 12, 'x']\n",
      "\n"
     ]
    }
   ],
   "source": [
    "# append, insert, remove\n",
    "lista.append('x')                   # argument: elem\n",
    "print (lista, end='\\n\\n')"
   ]
  },
  {
   "cell_type": "code",
   "execution_count": 30,
   "metadata": {},
   "outputs": [
    {
     "name": "stdout",
     "output_type": "stream",
     "text": [
      "[10, 2, '0', 4, 3, 11, 'b', (2, 3), 12, 'x']\n",
      "\n"
     ]
    }
   ],
   "source": [
    "lista.insert(2,'0')                 # argument: pos, elem\n",
    "print (lista, end='\\n\\n')"
   ]
  },
  {
   "cell_type": "code",
   "execution_count": 31,
   "metadata": {},
   "outputs": [
    {
     "name": "stdout",
     "output_type": "stream",
     "text": [
      "[10, 2, '0', 4, 3, 11, (2, 3), 12, 'x']\n",
      "\n"
     ]
    }
   ],
   "source": [
    "lista.remove('b')                   # argument: elem\n",
    "print(lista, end='\\n\\n')"
   ]
  },
  {
   "cell_type": "markdown",
   "metadata": {},
   "source": [
    "##### Sorting"
   ]
  },
  {
   "cell_type": "code",
   "execution_count": 32,
   "metadata": {},
   "outputs": [
    {
     "name": "stdout",
     "output_type": "stream",
     "text": [
      "[0, 1, 2, 3, 3, 4, 5, 6, 10]\n",
      "\n"
     ]
    }
   ],
   "source": [
    "lista2 = [5, 4, 10, 6, 0, 3, 2, 3, 1]\n",
    "lista2.sort()\n",
    "print(lista2, end='\\n\\n')"
   ]
  },
  {
   "cell_type": "code",
   "execution_count": 33,
   "metadata": {},
   "outputs": [
    {
     "name": "stdout",
     "output_type": "stream",
     "text": [
      "[10, 6, 5, 4, 3, 3, 2, 1, 0]\n",
      "\n"
     ]
    }
   ],
   "source": [
    "lista2.sort(reverse=True)\n",
    "print(lista2, end='\\n\\n')"
   ]
  },
  {
   "cell_type": "markdown",
   "metadata": {},
   "source": [
    "### Non mutating methods"
   ]
  },
  {
   "cell_type": "code",
   "execution_count": 34,
   "metadata": {},
   "outputs": [
    {
     "name": "stdout",
     "output_type": "stream",
     "text": [
      "2\n",
      "\n"
     ]
    }
   ],
   "source": [
    "# count, index\n",
    "print(lista2.count(3), end='\\n\\n')      # argument: elem"
   ]
  },
  {
   "cell_type": "code",
   "execution_count": 35,
   "metadata": {},
   "outputs": [
    {
     "name": "stdout",
     "output_type": "stream",
     "text": [
      "4\n",
      "\n"
     ]
    }
   ],
   "source": [
    "print(lista2.index(3), end='\\n\\n')      # argument: elem"
   ]
  },
  {
   "cell_type": "markdown",
   "metadata": {},
   "source": [
    "### Math operations"
   ]
  },
  {
   "cell_type": "code",
   "execution_count": 36,
   "metadata": {},
   "outputs": [
    {
     "name": "stdout",
     "output_type": "stream",
     "text": [
      "0\n",
      "10\n",
      "34\n"
     ]
    }
   ],
   "source": [
    "# sum, max, min \n",
    "print(min(lista2))\n",
    "print(max(lista2))\n",
    "print(sum(lista2))"
   ]
  },
  {
   "cell_type": "markdown",
   "metadata": {},
   "source": [
    "### List of lists"
   ]
  },
  {
   "cell_type": "code",
   "execution_count": 37,
   "metadata": {},
   "outputs": [
    {
     "name": "stdout",
     "output_type": "stream",
     "text": [
      "4\n"
     ]
    }
   ],
   "source": [
    "# matrix?\n",
    "matrix = [ [ 1, 2, 3 ], [ 4, 5, 6 ], [ 7, 8, 9 ] ]\n",
    "print(matrix[1][0])"
   ]
  },
  {
   "cell_type": "code",
   "execution_count": 39,
   "metadata": {},
   "outputs": [
    {
     "name": "stdout",
     "output_type": "stream",
     "text": [
      "[[4, 5, 6], [7, 8, 9]]\n"
     ]
    }
   ],
   "source": [
    "# No good way for multiindex, no sum of matrices, etc.\n",
    "# The best way of doing matrices in Python is to use the SciPy \n",
    "# or NumPy packages.\n",
    "\n",
    "# this is ok\n",
    "print(matrix[1:])"
   ]
  },
  {
   "cell_type": "code",
   "execution_count": 41,
   "metadata": {},
   "outputs": [
    {
     "name": "stdout",
     "output_type": "stream",
     "text": [
      "[[7, 8, 9]]\n"
     ]
    }
   ],
   "source": [
    "# With \"section\" multi_index this should \n",
    "# output: [[5, 6], [8, 9]]\n",
    "print(matrix[1:][1:])"
   ]
  },
  {
   "cell_type": "code",
   "execution_count": 44,
   "metadata": {},
   "outputs": [
    {
     "name": "stdout",
     "output_type": "stream",
     "text": [
      "[[1, 2, 3], [4, 5, 6], [7, 8, 9], [1, 2, 3], [4, 5, 6], [7, 8, 9]]\n"
     ]
    }
   ],
   "source": [
    "# concatenation\n",
    "print(matrix + matrix)"
   ]
  },
  {
   "cell_type": "markdown",
   "metadata": {},
   "source": [
    "### Appendix: Lists methods"
   ]
  },
  {
   "cell_type": "raw",
   "metadata": {},
   "source": [
    "1\tlist.append(obj)            Appends object obj to list\n",
    "2\tlist.count(obj)             Returns count of how many times obj occurs in list\n",
    "3\tlist.extend(seq)            Appends the contents of seq to list\n",
    "4\tlist.index(obj)             Returns the lowest index in list that obj appears\n",
    "5\tlist.insert(index, obj)     Inserts object obj into list at offset index\n",
    "6\tlist.pop(obj=list[-1])      Removes and returns last object or obj from list\n",
    "7\tlist.remove(obj)            Removes object obj from list\n",
    "8\tlist.reverse()              Reverses objects of list in place\n",
    "9\tlist.sort([func])           Sorts objects of list, use compare func if given"
   ]
  }
 ],
 "metadata": {
  "kernelspec": {
   "display_name": "Python 3 (ipykernel)",
   "language": "python",
   "name": "python3"
  },
  "language_info": {
   "codemirror_mode": {
    "name": "ipython",
    "version": 3
   },
   "file_extension": ".py",
   "mimetype": "text/x-python",
   "name": "python",
   "nbconvert_exporter": "python",
   "pygments_lexer": "ipython3",
   "version": "3.9.6"
  }
 },
 "nbformat": 4,
 "nbformat_minor": 4
}
