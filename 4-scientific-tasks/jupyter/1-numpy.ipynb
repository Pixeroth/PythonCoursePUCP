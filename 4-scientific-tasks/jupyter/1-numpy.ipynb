{
 "cells": [
  {
   "cell_type": "markdown",
   "metadata": {},
   "source": [
    "# Numpy fast tutorial"
   ]
  },
  {
   "cell_type": "markdown",
   "metadata": {},
   "source": [
    "### Default behavour of lists"
   ]
  },
  {
   "cell_type": "code",
   "execution_count": 1,
   "metadata": {},
   "outputs": [
    {
     "name": "stdout",
     "output_type": "stream",
     "text": [
      "[[1, 2], [3, 4], [1, 2], [3, 4], [1, 2], [3, 4]]\n",
      "[[1, 2], [3, 4], [1, 2], [3, 4]]\n"
     ]
    }
   ],
   "source": [
    "# not quite useful multi-indexig\n",
    "# not optimized for numerical array computing\n",
    "# mutability has effects on performance in genera\n",
    "\n",
    "M = [[1 ,2], [3,4]]\n",
    "\n",
    "print( M * 3 )\n",
    "print( M + M )\n",
    "# print(M * M)    # give an error"
   ]
  },
  {
   "cell_type": "markdown",
   "metadata": {},
   "source": [
    "### Numpy array creation"
   ]
  },
  {
   "cell_type": "code",
   "execution_count": 2,
   "metadata": {},
   "outputs": [],
   "source": [
    "# numpy extends the functionality\n",
    "# also numpy arrays are faster and use less memory\n",
    "import numpy as np "
   ]
  },
  {
   "cell_type": "code",
   "execution_count": 3,
   "metadata": {},
   "outputs": [
    {
     "name": "stdout",
     "output_type": "stream",
     "text": [
      "1\n",
      "3\n",
      "(3,)\n",
      "int32\n",
      "4\n"
     ]
    }
   ],
   "source": [
    "# Define a 1-dim array\n",
    "M = np.array([1 ,2, 3])\n",
    "\n",
    "print(M.ndim)\n",
    "print(M.size)\n",
    "print(M.shape)\n",
    "print(M.dtype)\n",
    "print(M.itemsize)"
   ]
  },
  {
   "cell_type": "code",
   "execution_count": 8,
   "metadata": {},
   "outputs": [
    {
     "name": "stdout",
     "output_type": "stream",
     "text": [
      "2\n",
      "9\n",
      "(3, 3)\n",
      "complex128\n",
      "16\n",
      "[[1.+0.j 2.+1.j 3.+0.j]\n",
      " [3.+0.j 4.+0.j 5.+0.j]\n",
      " [4.+0.j 5.+0.j 6.+0.j]]\n"
     ]
    }
   ],
   "source": [
    "# Define a 2-dim array\n",
    "M = np.array([[1., 2 + 1j, 3], [3, 4, 5], [4, 5, 6]])\n",
    "\n",
    "print(M.ndim)\n",
    "print(M.size)\n",
    "print(M.shape)\n",
    "print(M.dtype)\n",
    "print(M.itemsize)\n",
    "print(M)"
   ]
  },
  {
   "cell_type": "code",
   "execution_count": null,
   "metadata": {},
   "outputs": [],
   "source": [
    "# Define a 3-dim array\n",
    "M = np.array( [ [ [1 ,2], [3, 0] ], [ [3, 4], [5, 0] ], [ [4, 5], [6, 0] ] ] )\n",
    "\n",
    "print(M.ndim)\n",
    "print(M.size)\n",
    "print(M.shape)\n",
    "print(M.dtype)\n",
    "print(M.itemsize)"
   ]
  },
  {
   "cell_type": "code",
   "execution_count": null,
   "metadata": {},
   "outputs": [],
   "source": [
    "# Change the type\n",
    "N = M.astype(np.int64)\n",
    "\n",
    "print(N.ndim)\n",
    "print(N.size)\n",
    "print(N.shape)\n",
    "print(N.dtype)\n",
    "print(N.itemsize)"
   ]
  },
  {
   "cell_type": "code",
   "execution_count": null,
   "metadata": {},
   "outputs": [],
   "source": [
    "# array argument to specify the type\n",
    "M = np.array([[1, 2, 3], [3, 4, 5], [4, 5, 6]], dtype=np.float64)\n",
    "\n",
    "print(M.ndim)\n",
    "print(M.size)\n",
    "print(M.shape)\n",
    "print(M.dtype)\n",
    "print(N.itemsize)"
   ]
  },
  {
   "cell_type": "markdown",
   "metadata": {},
   "source": [
    "### Array copy vs alias"
   ]
  },
  {
   "cell_type": "code",
   "execution_count": null,
   "metadata": {},
   "outputs": [],
   "source": [
    "M = np.array([[1 ,2, 3], [3, 4, 5], [4, 5, 6]])\n",
    "N = np.array([[0 ,0, 0], [0, 0, 0], [0, 0, 0]])\n",
    "\n",
    "P1 = M            # creates a reference (alias)\n",
    "print(P1 is M)\n",
    "\n",
    "N[:] = M          # copy contents of M into N\n",
    "print(N is M)     # N pre-exists and has same dims\n",
    "\n",
    "N3 = np.copy(M)   # copy contents of M into N3\n",
    "print(N3 is M)    # N3 is a new array"
   ]
  },
  {
   "cell_type": "markdown",
   "metadata": {},
   "source": [
    "### Convert input to array"
   ]
  },
  {
   "cell_type": "code",
   "execution_count": null,
   "metadata": {},
   "outputs": [],
   "source": [
    "# array (by default) will make a copy of the object, \n",
    "# while asarray will not unless necessary \n",
    "# (for example changing type)\n",
    "\n",
    "a = ((1, 2), (2, 3), (4, 5))\n",
    "print(np.asarray(a) is a)\n",
    "\n",
    "a = [[1, 2], [2, 3], [4, 5]]\n",
    "print(np.asarray(a) is a)\n",
    "\n",
    "a = np.array([[1, 2], [2, 3], [4, 5]])\n",
    "print(np.asarray(a) is a)\n",
    "\n",
    "a = np.array([[1, 2], [2, 3], [4, 5]])\n",
    "print(np.asarray(a, dtype=np.int64) is a)"
   ]
  },
  {
   "cell_type": "code",
   "execution_count": null,
   "metadata": {},
   "outputs": [],
   "source": [
    "m = np.array([1, 2, 3]);\n",
    "p = np.array(m)\n",
    "q = np.asarray(m)\n",
    "\n",
    "m[0] = 4             # change first element\n",
    "print(m, p, q)\n",
    "\n",
    "m = np.append(m, 4)  # append makes a copy\n",
    "print(m, p, q)"
   ]
  },
  {
   "cell_type": "markdown",
   "metadata": {},
   "source": [
    "### Reshaping an array"
   ]
  },
  {
   "cell_type": "code",
   "execution_count": null,
   "metadata": {},
   "outputs": [],
   "source": [
    "P = np.array([[1, 2, 3, 4], [5, 6, 7, 8], [9, 10, 11, 12]])\n",
    "\n",
    "# reshape: does not modify original array (shallow copy)\n",
    "m = P.reshape(6,2)\n",
    "print('-----', P, m, sep ='\\n')\n",
    "\n",
    "# resize: modify the original array\n",
    "n = P.resize(6,2)\n",
    "print('-----', P, n, sep ='\\n')\n",
    "\n",
    "P[0] = 100\n",
    "print('-----', P, m, n, sep ='\\n')"
   ]
  },
  {
   "cell_type": "markdown",
   "metadata": {},
   "source": [
    "### Flattening an array"
   ]
  },
  {
   "cell_type": "code",
   "execution_count": null,
   "metadata": {},
   "outputs": [],
   "source": [
    "P = np.array([[1, 2, 3, 4], [5, 6, 7, 8], [9, 10, 11, 12]])\n",
    "\n",
    "# flatten: makes a copy of the original (deep copy)\n",
    "f = P.flatten()\n",
    "print('-----', f, sep ='\\n')\n",
    "\n",
    "# ravel: shallow copy\n",
    "r = P.ravel()\n",
    "print('-----', r, sep ='\\n')\n",
    "\n",
    "P[0] = 100\n",
    "print('-----', P, f, r, sep='\\n')"
   ]
  },
  {
   "cell_type": "markdown",
   "metadata": {},
   "source": [
    "### Automatic construction"
   ]
  },
  {
   "cell_type": "code",
   "execution_count": null,
   "metadata": {},
   "outputs": [],
   "source": [
    "print (np.arange(0,1,0.25), end ='\\n\\n')\n",
    "print (np.arange (0,1.01,0.25), end ='\\n\\n')\n",
    "\n",
    "print (np.linspace(0,1,5), end ='\\n\\n')\n",
    "print (np.logspace(0,3,4), end ='\\n\\n')\n",
    "\n",
    "print (np.zeros([2,3], np.int), end ='\\n\\n')\n",
    "print (np.ones([2,3], np.int), end ='\\n\\n')\n",
    "\n",
    "print (np.zeros([2,3], np.double), end ='\\n\\n')\n",
    "print (np.ones([2,3], np.double), end ='\\n\\n')"
   ]
  },
  {
   "cell_type": "markdown",
   "metadata": {},
   "source": [
    "### Vectorization"
   ]
  },
  {
   "cell_type": "code",
   "execution_count": null,
   "metadata": {},
   "outputs": [],
   "source": [
    "# vectorizes other internal functions\n",
    "# vectorizes other internal functions\n",
    "M = np.array([[1, 2, 3], [3, 4, 5], [4, 5, 6]])\n",
    "\n",
    "print(3 * M, end ='\\n\\n')\n",
    "print(M + M, end ='\\n\\n')\n",
    "print(M * M, end ='\\n\\n') # array multiplication\n",
    "print(M**2,  end ='\\n\\n')\n",
    "print(M**M,  end ='\\n\\n')\n",
    "print(np.sin(M))      "
   ]
  },
  {
   "cell_type": "markdown",
   "metadata": {},
   "source": [
    "### Math operations"
   ]
  },
  {
   "cell_type": "code",
   "execution_count": null,
   "metadata": {},
   "outputs": [],
   "source": [
    "print(M.min(), end ='\\n\\n')\n",
    "print(M.max(), end ='\\n\\n')\n",
    "print(M.sum(), end ='\\n\\n')\n",
    "print(M.sum(axis=0), end ='\\n\\n')\n",
    "print(M.sum(axis=1), end ='\\n\\n')\n",
    "print(M.prod(), end ='\\n\\n')\n",
    "print(M.prod(axis=0), end ='\\n\\n')\n",
    "print(M.prod(axis=1), end ='\\n\\n')"
   ]
  },
  {
   "cell_type": "markdown",
   "metadata": {},
   "source": [
    "### Array indexing"
   ]
  },
  {
   "cell_type": "code",
   "execution_count": null,
   "metadata": {},
   "outputs": [],
   "source": [
    "M = np.array([[1, 2, 3], [4, 5, 6], [7, 8, 9]])\n",
    "\n",
    "print(M[1], end ='\\n\\n')\n",
    "print(M[1][2], end ='\\n\\n')\n",
    "print(M[1, 2], end ='\\n\\n')"
   ]
  },
  {
   "cell_type": "code",
   "execution_count": null,
   "metadata": {},
   "outputs": [],
   "source": [
    "# Colon operator: ini:end:step\n",
    "print(M)\n",
    "print(M[0:2, 2], end ='\\n\\n')\n",
    "print(M[0, :2], end ='\\n\\n')\n",
    "print(M[:, 2], end ='\\n\\n')\n",
    "print(M[::2, 2], end ='\\n\\n')\n",
    "print(M[:2, :2], end ='\\n\\n')"
   ]
  },
  {
   "cell_type": "code",
   "execution_count": null,
   "metadata": {},
   "outputs": [],
   "source": [
    "# Note that slices of arrays do not copy the internal array data but \n",
    "# only produce new views of the original data. This is different from list \n",
    "# or tuple slicing and an explicit copy() \n",
    "N = M[::2, ::2]\n",
    "print(N, end ='\\n\\n')\n",
    "M[0] = 100\n",
    "print(M, N, sep='\\n')"
   ]
  },
  {
   "cell_type": "code",
   "execution_count": null,
   "metadata": {},
   "outputs": [],
   "source": [
    "# Advanced indexing: with integer or boolean arrays\n",
    "\n",
    "# Advanced indexing always returns a copy of the data. \n",
    "# while as we saw the slicing (:) only presents a view.\n",
    "\n",
    "# Indexing with integer array\n",
    "v = np.array([0, 2, 0, 2])\n",
    "print(M)\n",
    "print(M[v, 2], end ='\\n\\n')\n",
    "print(M[2, v], end ='\\n\\n')\n",
    "print(M[v, v], end ='\\n\\n')"
   ]
  },
  {
   "cell_type": "code",
   "execution_count": null,
   "metadata": {},
   "outputs": [],
   "source": [
    "# In the last example M[v, v] don't produce a matrix as in other\n",
    "# languages. In numpy the sintaxis would be:  \n",
    "r = np.array([[0, 0], [2, 2]])\n",
    "c = np.array([[0, 2], [0, 2]])\n",
    "print(M)\n",
    "print(M[r, c], end ='\\n\\n')\n"
   ]
  },
  {
   "cell_type": "code",
   "execution_count": null,
   "metadata": {},
   "outputs": [],
   "source": [
    "# With booleans (masks)\n",
    "N = M > 2\n",
    "\n",
    "print(M, end ='\\n\\n')\n",
    "\n",
    "print(N, end ='\\n\\n')\n",
    "\n",
    "print(M[N], end ='\\n\\n')\n"
   ]
  },
  {
   "cell_type": "code",
   "execution_count": null,
   "metadata": {},
   "outputs": [],
   "source": [
    "x = np.array([[1., 2.], [np.nan, 3.], [np.nan, np.nan]])\n",
    "\n",
    "print(x, end ='\\n\\n')\n",
    "\n",
    "print(x[~np.isnan(x)], end ='\\n\\n')\n"
   ]
  },
  {
   "cell_type": "code",
   "execution_count": null,
   "metadata": {},
   "outputs": [],
   "source": [
    "# Assigning values to indexed arrays\n",
    "M[::2, 2] = 1\n",
    "print(M, end ='\\n\\n')\n",
    "\n",
    "M[r, c] = 0\n",
    "print(M, end ='\\n\\n')\n",
    "\n",
    "M[r, c] = np.array([[5, 4], [4,5]])\n",
    "print(M, end ='\\n\\n')\n"
   ]
  },
  {
   "cell_type": "markdown",
   "metadata": {},
   "source": [
    "### Linear algebra operations"
   ]
  },
  {
   "cell_type": "code",
   "execution_count": null,
   "metadata": {},
   "outputs": [],
   "source": [
    "print(M)\n",
    "print (np.dot(M, M))      # linear algebra multiplication\n",
    "print ( np.cross(M, M) )  # Multiple cross-products (vector1 * vector-1, ...)\n",
    "print (np.transpose(M))\n",
    "print (np.linalg.inv(M))  # from numpy import linalg -> linalg.inv(M)\n",
    "print (np.linalg.det(M))\n",
    "print (np.linalg.eig(M))"
   ]
  },
  {
   "cell_type": "code",
   "execution_count": null,
   "metadata": {},
   "outputs": [],
   "source": [
    "print ( np.cross(M, np.transpose(M)) )"
   ]
  },
  {
   "cell_type": "code",
   "execution_count": null,
   "metadata": {},
   "outputs": [],
   "source": [
    "#%% solve matrix eq A X = B\n",
    "A = np.matrix([ [-13,2,4], [2,-11,6], [4,6,-15] ])\n",
    "\n",
    "B = np.array([5,-10,5])\n",
    "\n",
    "print (np.linalg.solve(A,B))"
   ]
  },
  {
   "cell_type": "markdown",
   "metadata": {},
   "source": [
    "### Array printing"
   ]
  },
  {
   "cell_type": "code",
   "execution_count": null,
   "metadata": {},
   "outputs": [],
   "source": [
    "# set precision using numpy (5 decimals)\n",
    "np.set_printoptions(precision=5)\n"
   ]
  },
  {
   "cell_type": "code",
   "execution_count": null,
   "metadata": {},
   "outputs": [],
   "source": [
    "data = [2.1, 3.2, 6.7, 5.4, 1.2]\n",
    "metric = [2.54 * measure for measure in data]\n",
    "print(\"\\nmetric:\", np.array(metric), end ='\\n\\n')\n"
   ]
  },
  {
   "cell_type": "code",
   "execution_count": null,
   "metadata": {},
   "outputs": [],
   "source": [
    "axis = [ 0.312112*i for i in range(100)]\n",
    "print(\"axis:\")\n",
    "print(np.array(axis), end ='\\n\\n')\n"
   ]
  },
  {
   "cell_type": "code",
   "execution_count": null,
   "metadata": {},
   "outputs": [],
   "source": [
    "np.set_printoptions(linewidth=80, formatter={'float_kind': \"{:>10.3f}\".format})\n",
    "print(\"axis 2:\")\n",
    "print(np.array(axis))"
   ]
  }
 ],
 "metadata": {
  "kernelspec": {
   "display_name": "Python 3 (ipykernel)",
   "language": "python",
   "name": "python3"
  },
  "language_info": {
   "codemirror_mode": {
    "name": "ipython",
    "version": 3
   },
   "file_extension": ".py",
   "mimetype": "text/x-python",
   "name": "python",
   "nbconvert_exporter": "python",
   "pygments_lexer": "ipython3",
   "version": "3.9.6"
  }
 },
 "nbformat": 4,
 "nbformat_minor": 4
}
