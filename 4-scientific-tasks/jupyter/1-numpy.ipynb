{
 "cells": [
  {
   "cell_type": "markdown",
   "metadata": {},
   "source": [
    "# Numpy fast tutorial"
   ]
  },
  {
   "cell_type": "code",
   "execution_count": null,
   "metadata": {},
   "outputs": [],
   "source": [
    "import numpy as np "
   ]
  },
  {
   "cell_type": "markdown",
   "metadata": {},
   "source": [
    "### Default behavour of lists"
   ]
  },
  {
   "cell_type": "markdown",
   "metadata": {},
   "source": [
    "* not quite useful multi-indexig\n",
    "* not optimized for numerical array computing\n",
    "* mutability has effects on performance in general"
   ]
  },
  {
   "cell_type": "code",
   "execution_count": null,
   "metadata": {},
   "outputs": [],
   "source": [
    "# use list as matrices?\n",
    "M = [[1, 2], [3, 4]]\n",
    "\n",
    "print( M * 3 )\n",
    "print( M + M )\n",
    "# print(M * M)    # give an error"
   ]
  },
  {
   "cell_type": "markdown",
   "metadata": {},
   "source": [
    "### Numpy array creation"
   ]
  },
  {
   "cell_type": "markdown",
   "metadata": {},
   "source": [
    "numpy extends the functionality also numpy arrays are faster and use less memory"
   ]
  },
  {
   "cell_type": "code",
   "execution_count": null,
   "metadata": {},
   "outputs": [],
   "source": [
    "# Define a 1-dim array\n",
    "M = np.array([1 ,2, 3])\n",
    "\n",
    "print(M.ndim)\n",
    "print(M.size)\n",
    "print(M.shape)\n",
    "print(M.dtype)\n",
    "print(M.itemsize)"
   ]
  },
  {
   "cell_type": "code",
   "execution_count": null,
   "metadata": {},
   "outputs": [],
   "source": [
    "# Define a 2-dim array\n",
    "M = np.array([[1, 2, 3], [3, 4, 5], [4, 5, 6]])\n",
    "\n",
    "print(M.ndim)\n",
    "print(M.size)\n",
    "print(M.shape)\n",
    "print(M.dtype)\n",
    "print(M.itemsize)\n",
    "print(M)"
   ]
  },
  {
   "cell_type": "code",
   "execution_count": null,
   "metadata": {},
   "outputs": [],
   "source": [
    "# Define a 3-dim array\n",
    "M = np.array([[[1, 2], [3, 0]], [[3, 4], [5, 0]], [[4, 5], [6, 0]]])\n",
    "\n",
    "print(M.ndim)\n",
    "print(M.size)\n",
    "print(M.shape)\n",
    "print(M.dtype)\n",
    "print(M.itemsize)"
   ]
  },
  {
   "cell_type": "code",
   "execution_count": null,
   "metadata": {},
   "outputs": [],
   "source": [
    "# Copy the array, casting to a given type.\n",
    "N = M.astype(np.int64)\n",
    "\n",
    "print(N.ndim)\n",
    "print(N.size)\n",
    "print(N.shape)\n",
    "print(N.dtype)\n",
    "print(N.itemsize)"
   ]
  },
  {
   "cell_type": "code",
   "execution_count": null,
   "metadata": {},
   "outputs": [],
   "source": [
    "# Use dtype argument to specify the type\n",
    "M = np.array([[1, 2, 3], [3, 4, 5], [4, 5, 6]], dtype=np.float64)\n",
    "\n",
    "print(M.ndim)\n",
    "print(M.size)\n",
    "print(M.shape)\n",
    "print(M.dtype)\n",
    "print(N.itemsize)"
   ]
  },
  {
   "cell_type": "markdown",
   "metadata": {},
   "source": [
    "### Array copy vs alias"
   ]
  },
  {
   "cell_type": "code",
   "execution_count": null,
   "metadata": {},
   "outputs": [],
   "source": [
    "M = np.array([[1 ,2, 3], [3, 4, 5], [4, 5, 6]])\n",
    "N2 = np.array([[0 ,0, 0], [0, 0, 0], [0, 0, 0]])"
   ]
  },
  {
   "cell_type": "code",
   "execution_count": null,
   "metadata": {},
   "outputs": [],
   "source": [
    "# Alias: same array\n",
    "N1 = M            \n",
    "print(N1 is M)"
   ]
  },
  {
   "cell_type": "code",
   "execution_count": null,
   "metadata": {},
   "outputs": [],
   "source": [
    "# Views: similar to \"shallow copy\" for lists\n",
    "N2 = M[:]         \n",
    "print(N2 is M)    # N2 is a new array, with shared content\n",
    "\n",
    "N3 = M.view()     \n",
    "print(N3 is M)    # N3 is a new array, with shared content"
   ]
  },
  {
   "cell_type": "code",
   "execution_count": null,
   "metadata": {},
   "outputs": [],
   "source": [
    "# Copies: similar to \"deep copy\" for lists\n",
    "# See example about object type in doc:\n",
    "# https://numpy.org/doc/stable/reference/generated/numpy.copy.html\n",
    "\n",
    "N4[:] = M         # copy contents of M into N4\n",
    "print(N4 is M)     # N4 pre-exists and has same dims\n",
    "\n",
    "N5 = np.copy(M)   \n",
    "print(N5 is M)    # N5 is a new array, with copied elements\n",
    "\n",
    "N6 = M.copy()     \n",
    "print(N6 is M)    # N6 is a new array, with copied elements"
   ]
  },
  {
   "cell_type": "code",
   "execution_count": null,
   "metadata": {},
   "outputs": [],
   "source": [
    "# Do changes and print output:\n",
    "N2.shape = (1,9)\n",
    "N2[0, 0] = 100\n",
    "N5[1, 1] = 200\n",
    "\n",
    "print('alias:')\n",
    "print(M, N1, sep='\\n\\n')\n",
    "\n",
    "print('\\nviews: ')\n",
    "print(N2, N3, sep='\\n\\n')\n",
    "\n",
    "print('\\ncopies: ')\n",
    "print(N4, N5, N6, sep='\\n\\n')"
   ]
  },
  {
   "cell_type": "markdown",
   "metadata": {},
   "source": [
    "### Convert input to array"
   ]
  },
  {
   "cell_type": "markdown",
   "metadata": {},
   "source": [
    "* array: by default will make a copy of the object \n",
    "* asarray: will not unless necessary (for example changing type)"
   ]
  },
  {
   "cell_type": "code",
   "execution_count": null,
   "metadata": {},
   "outputs": [],
   "source": [
    "# For tuples and list asarray make a copy\n",
    "a = ((1, 2), (2, 3), (4, 5))\n",
    "print(np.asarray(a) is a) \n",
    "\n",
    "a = [[1, 2], [2, 3], [4, 5]]\n",
    "print(np.asarray(a) is a)"
   ]
  },
  {
   "cell_type": "code",
   "execution_count": null,
   "metadata": {},
   "outputs": [],
   "source": [
    "# For ndarrays asarray make a copy when necessary\n",
    "a = np.array([[1, 2], [2, 3], [4, 5]])\n",
    "print(np.asarray(a) is a)\n",
    "\n",
    "a = np.array([[1, 2], [2, 3], [4, 5]])\n",
    "print(np.asarray(a, dtype=np.int64) is a)"
   ]
  },
  {
   "cell_type": "markdown",
   "metadata": {},
   "source": [
    "##### Example"
   ]
  },
  {
   "cell_type": "code",
   "execution_count": null,
   "metadata": {},
   "outputs": [],
   "source": [
    "m = np.array([1, 2, 3]);\n",
    "p = np.array(m)\n",
    "q = np.asarray(m)\n",
    "\n",
    "m[0] = 400             # change first element\n",
    "print(m, p, q, sep='\\n\\n')"
   ]
  },
  {
   "cell_type": "code",
   "execution_count": null,
   "metadata": {},
   "outputs": [],
   "source": [
    "m = np.append(m, 4)    # append makes a copy\n",
    "print(m, p, q, sep='\\n\\n')"
   ]
  },
  {
   "cell_type": "markdown",
   "metadata": {},
   "source": [
    "### Reshaping an array"
   ]
  },
  {
   "cell_type": "code",
   "execution_count": null,
   "metadata": {},
   "outputs": [],
   "source": [
    "P = np.array([[1, 2, 3, 4], [5, 6, 7, 8], [9, 10, 11, 12]])\n",
    "\n",
    "# reshape: does not modify original array\n",
    "m = P.reshape(6,2)\n",
    "print(P, m, sep ='\\n')"
   ]
  },
  {
   "cell_type": "code",
   "execution_count": null,
   "metadata": {},
   "outputs": [],
   "source": [
    "# resize: modify the original array\n",
    "n = P.resize(6,2)\n",
    "print(P, n, sep ='\\n')"
   ]
  },
  {
   "cell_type": "code",
   "execution_count": null,
   "metadata": {},
   "outputs": [],
   "source": [
    "P[0] = 100\n",
    "print(P, m, n, sep ='\\n')"
   ]
  },
  {
   "cell_type": "markdown",
   "metadata": {},
   "source": [
    "### Flattening an array"
   ]
  },
  {
   "cell_type": "code",
   "execution_count": null,
   "metadata": {},
   "outputs": [],
   "source": [
    "P = np.array([[1, 2, 3, 4], [5, 6, 7, 8], [9, 10, 11, 12]])\n",
    "\n",
    "# flatten makes a copy of the original\n",
    "f = P.flatten()\n",
    "print(f, sep ='\\n')"
   ]
  },
  {
   "cell_type": "code",
   "execution_count": null,
   "metadata": {},
   "outputs": [],
   "source": [
    "# ravel makes a view\n",
    "r = P.ravel()\n",
    "print(r, sep ='\\n')"
   ]
  },
  {
   "cell_type": "code",
   "execution_count": null,
   "metadata": {},
   "outputs": [],
   "source": [
    "P[0] = 100\n",
    "print(P, f, r, sep='\\n')"
   ]
  },
  {
   "cell_type": "markdown",
   "metadata": {},
   "source": [
    "### Automatic construction"
   ]
  },
  {
   "cell_type": "code",
   "execution_count": null,
   "metadata": {},
   "outputs": [],
   "source": [
    "print (np.arange(0, 1, 0.25), end ='\\n\\n')\n",
    "print (np.arange (0, 1.01, 0.25), end ='\\n\\n')"
   ]
  },
  {
   "cell_type": "code",
   "execution_count": null,
   "metadata": {},
   "outputs": [],
   "source": [
    "print (np.linspace(0, 1, 5), end ='\\n\\n')\n",
    "print (np.logspace(0, 3, 4), end ='\\n\\n')"
   ]
  },
  {
   "cell_type": "code",
   "execution_count": null,
   "metadata": {},
   "outputs": [],
   "source": [
    "print (np.zeros([2, 3], np.int64), end ='\\n\\n')\n",
    "print (np.ones([2, 3], np.int64), end ='\\n\\n')"
   ]
  },
  {
   "cell_type": "code",
   "execution_count": null,
   "metadata": {},
   "outputs": [],
   "source": [
    "print (np.zeros([2, 3], np.double), end ='\\n\\n')\n",
    "print (np.ones([2, 3], np.double), end ='\\n\\n')"
   ]
  },
  {
   "cell_type": "markdown",
   "metadata": {},
   "source": [
    "### Vectorization"
   ]
  },
  {
   "cell_type": "code",
   "execution_count": null,
   "metadata": {},
   "outputs": [],
   "source": [
    "# vectorizes other internal functions\n",
    "# vectorizes other internal functions\n",
    "M = np.array([[1, 2, 3], [3, 4, 5], [4, 5, 6]])\n",
    "\n",
    "print(3 * M, end ='\\n\\n')\n",
    "print(M + M, end ='\\n\\n')\n",
    "print(M * M, end ='\\n\\n') # array multiplication\n",
    "print(M**2,  end ='\\n\\n')\n",
    "print(M**M,  end ='\\n\\n')\n",
    "print(np.sin(M))      "
   ]
  },
  {
   "cell_type": "markdown",
   "metadata": {},
   "source": [
    "### Math operations"
   ]
  },
  {
   "cell_type": "code",
   "execution_count": null,
   "metadata": {},
   "outputs": [],
   "source": [
    "print(M.min(), end ='\\n\\n')\n",
    "print(M.max(), end ='\\n\\n')"
   ]
  },
  {
   "cell_type": "code",
   "execution_count": null,
   "metadata": {},
   "outputs": [],
   "source": [
    "print(M.sum(), end ='\\n\\n')\n",
    "print(M.sum(axis=0), end ='\\n\\n')\n",
    "print(M.sum(axis=1), end ='\\n\\n')"
   ]
  },
  {
   "cell_type": "code",
   "execution_count": null,
   "metadata": {},
   "outputs": [],
   "source": [
    "print(M.prod(), end ='\\n\\n')\n",
    "print(M.prod(axis=0), end ='\\n\\n')\n",
    "print(M.prod(axis=1), end ='\\n\\n')"
   ]
  },
  {
   "cell_type": "markdown",
   "metadata": {},
   "source": [
    "### Array indexing"
   ]
  },
  {
   "cell_type": "code",
   "execution_count": null,
   "metadata": {},
   "outputs": [],
   "source": [
    "M = np.array([[1, 2, 3], [4, 5, 6], [7, 8, 9]])\n",
    "\n",
    "print(M[1], end ='\\n\\n')\n",
    "print(M[1][2], end ='\\n\\n')\n",
    "print(M[1, 2], end ='\\n\\n')"
   ]
  },
  {
   "cell_type": "markdown",
   "metadata": {},
   "source": [
    "##### Colon operator: ini:end:step"
   ]
  },
  {
   "cell_type": "code",
   "execution_count": null,
   "metadata": {},
   "outputs": [],
   "source": [
    "print(M)\n",
    "print(M[0:2, 2], end ='\\n\\n')\n",
    "print(M[0, :2], end ='\\n\\n')\n",
    "print(M[:, 2], end ='\\n\\n')\n",
    "print(M[::2, 2], end ='\\n\\n')\n",
    "print(M[:2, :2], end ='\\n\\n')"
   ]
  },
  {
   "cell_type": "code",
   "execution_count": null,
   "metadata": {},
   "outputs": [],
   "source": [
    "# Slices of arrays returns views of the original data. \n",
    "# Different from list or tuple slicing\n",
    "\n",
    "N = M[::2, ::2]\n",
    "print(N, end ='\\n\\n')\n",
    "\n",
    "M[0] = 100\n",
    "print(M, N, sep='\\n')"
   ]
  },
  {
   "cell_type": "markdown",
   "metadata": {},
   "source": [
    "##### Advanced indexing: with integer arrays or boolean arrays"
   ]
  },
  {
   "cell_type": "code",
   "execution_count": null,
   "metadata": {},
   "outputs": [],
   "source": [
    "# Advanced indexing always returns a copy of the data. "
   ]
  },
  {
   "cell_type": "code",
   "execution_count": null,
   "metadata": {},
   "outputs": [],
   "source": [
    "# Indexing with integer array\n",
    "v = np.array([0, 2, 0, 2])\n",
    "print(M)\n",
    "print(M[v, 2], end ='\\n\\n')\n",
    "print(M[2, v], end ='\\n\\n')\n",
    "print(M[v, v], end ='\\n\\n')"
   ]
  },
  {
   "cell_type": "code",
   "execution_count": null,
   "metadata": {},
   "outputs": [],
   "source": [
    "# In the last example M[v, v] don't produce a matrix as in other\n",
    "# languages. In numpy the sintaxis would be:  \n",
    "r = np.array([[0, 0], [2, 2]])\n",
    "c = np.array([[0, 2], [0, 2]])\n",
    "print(M)\n",
    "print(M[r, c], end ='\\n\\n')\n"
   ]
  },
  {
   "cell_type": "code",
   "execution_count": null,
   "metadata": {},
   "outputs": [],
   "source": [
    "# Indexing with boolean array\n",
    "N = M > 2\n",
    "print(M, end ='\\n\\n')\n",
    "print(N, end ='\\n\\n')\n",
    "print(M[N], end ='\\n\\n')"
   ]
  },
  {
   "cell_type": "code",
   "execution_count": null,
   "metadata": {},
   "outputs": [],
   "source": [
    "# Example\n",
    "x = np.array([[1., 2.], [np.nan, 3.], [np.nan, np.nan]])\n",
    "print(x, end ='\\n\\n')\n",
    "print(x[~np.isnan(x)], end ='\\n\\n')"
   ]
  },
  {
   "cell_type": "code",
   "execution_count": null,
   "metadata": {},
   "outputs": [],
   "source": [
    "# Assigning values to indexed arrays\n",
    "M[::2, 2] = 1\n",
    "print(M, end ='\\n\\n')\n",
    "\n",
    "M[r, c] = 0\n",
    "print(M, end ='\\n\\n')\n",
    "\n",
    "M[r, c] = np.array([[5, 4], [4,5]])\n",
    "print(M, end ='\\n\\n')"
   ]
  },
  {
   "cell_type": "markdown",
   "metadata": {},
   "source": [
    "### Basic linear algebra"
   ]
  },
  {
   "cell_type": "code",
   "execution_count": null,
   "metadata": {},
   "outputs": [],
   "source": [
    "# Transposition\n",
    "M = np.array([[0, 2, 3], [3, 4, 0], [4, 0, 6]])\n",
    "print(np.transpose(M))\n",
    "print(M.T)"
   ]
  },
  {
   "cell_type": "code",
   "execution_count": null,
   "metadata": {},
   "outputs": [],
   "source": [
    "# Matrix multiplication\n",
    "print(np.matmul(M, M))\n",
    "print(M @ M)             # equivalent to matmul\n",
    "print(np.dot(M, M))      # Also valid with scalars\n",
    "print(M.dot(M))"
   ]
  },
  {
   "cell_type": "code",
   "execution_count": null,
   "metadata": {},
   "outputs": [],
   "source": [
    "# Cross products\n",
    "print(np.cross(M, M))  # Multiple cross-products (vector1 * vector-1, ...)\n",
    "print(np.cross(M, M.T))"
   ]
  },
  {
   "cell_type": "code",
   "execution_count": null,
   "metadata": {},
   "outputs": [],
   "source": [
    "# inverse, det and eig\n",
    "# from numpy import linalg -> linalg.inv(M)\n",
    "print(np.linalg.inv(M), end='\\n\\n')  \n",
    "print(np.linalg.det(M), end='\\n\\n')\n",
    "print(np.linalg.eig(M), end='\\n\\n')"
   ]
  },
  {
   "cell_type": "code",
   "execution_count": null,
   "metadata": {},
   "outputs": [],
   "source": [
    "# Solve matrix eq A X = B\n",
    "\n",
    "# Matrix of coefficients\n",
    "A = np.array([[-13, 2, 4], [2, -11, 6], [4, 6, -15]])\n",
    "\n",
    "# inhomogeneous vector\n",
    "B = np.array([5, -10, 5])\n",
    "\n",
    "# solution\n",
    "print (np.linalg.solve(A,B))"
   ]
  },
  {
   "cell_type": "markdown",
   "metadata": {},
   "source": [
    "### Array printing"
   ]
  },
  {
   "cell_type": "code",
   "execution_count": null,
   "metadata": {},
   "outputs": [],
   "source": [
    "# set precision using numpy (5 decimals)\n",
    "np.set_printoptions(precision=5)"
   ]
  },
  {
   "cell_type": "code",
   "execution_count": null,
   "metadata": {},
   "outputs": [],
   "source": [
    "data = [2.1, 3.2, 6.7, 5.4, 1.2]\n",
    "metric = [2.54 * measure for measure in data]\n",
    "print(\"\\nmetric:\", np.array(metric), end ='\\n\\n')"
   ]
  },
  {
   "cell_type": "code",
   "execution_count": null,
   "metadata": {},
   "outputs": [],
   "source": [
    "axis = [ 0.312112*i for i in range(100)]\n",
    "\n",
    "print(\"axis:\")\n",
    "print(np.array(axis), end ='\\n\\n')"
   ]
  },
  {
   "cell_type": "code",
   "execution_count": null,
   "metadata": {},
   "outputs": [],
   "source": [
    "# formatter: using format method\n",
    "np.set_printoptions(linewidth=80, formatter={'float_kind': \"{:>15.3f}\".format})\n",
    "\n",
    "print(\"axis 2:\")\n",
    "print(np.array(axis))"
   ]
  },
  {
   "cell_type": "code",
   "execution_count": null,
   "metadata": {},
   "outputs": [],
   "source": [
    "# formatter: using % \n",
    "np.set_printoptions(linewidth=80, formatter={'float_kind': lambda x: \"%15.2f\"%(x) })\n",
    "\n",
    "print(\"axis 2:\")\n",
    "print(np.array(axis))"
   ]
  },
  {
   "cell_type": "code",
   "execution_count": null,
   "metadata": {},
   "outputs": [],
   "source": [
    "# formatter: using f string \n",
    "np.set_printoptions(linewidth=80, formatter={'float_kind': lambda x: f'{x:>15.2f}'})\n",
    "\n",
    "print(\"axis 2:\")\n",
    "print(np.array(axis))"
   ]
  },
  {
   "cell_type": "code",
   "execution_count": null,
   "metadata": {},
   "outputs": [],
   "source": []
  }
 ],
 "metadata": {
  "kernelspec": {
   "display_name": "Python 3 (ipykernel)",
   "language": "python",
   "name": "python3"
  },
  "language_info": {
   "codemirror_mode": {
    "name": "ipython",
    "version": 3
   },
   "file_extension": ".py",
   "mimetype": "text/x-python",
   "name": "python",
   "nbconvert_exporter": "python",
   "pygments_lexer": "ipython3",
   "version": "3.9.6"
  }
 },
 "nbformat": 4,
 "nbformat_minor": 4
}
