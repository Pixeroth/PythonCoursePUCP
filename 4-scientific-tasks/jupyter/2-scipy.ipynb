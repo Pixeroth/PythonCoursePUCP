{
 "cells": [
  {
   "cell_type": "markdown",
   "metadata": {},
   "source": [
    "# Scipy basic tutorial"
   ]
  },
  {
   "cell_type": "markdown",
   "metadata": {},
   "source": [
    "- SciPy is a scientific ibrary for mathematics, science and engineering. \n",
    "\n",
    "- The SciPy library depends on NumPy, which provides convenient and fast N-dimensional array manipulation. "
   ]
  },
  {
   "cell_type": "markdown",
   "metadata": {},
   "source": [
    "### Scipy subpackages"
   ]
  },
  {
   "cell_type": "markdown",
   "metadata": {},
   "source": [
    "https://docs.scipy.org/doc/scipy/reference/index.html"
   ]
  },
  {
   "cell_type": "raw",
   "metadata": {},
   "source": [
    "scipy.cluster      Vector quantization / Kmeans\n",
    "scipy.constants    Physical and mathematical constants\n",
    "scipy.fftpack      Fourier transform\n",
    "scipy.integrate    Integration routines\n",
    "scipy.interpolate  Interpolation\n",
    "scipy.io           Data input and output\n",
    "scipy.linalg       Linear algebra routines\n",
    "scipy.ndimage      n-dimensional image package\n",
    "scipy.odr          Orthogonal distance regression\n",
    "scipy.optimize     Optimization\n",
    "scipy.signal       Signal processing\n",
    "scipy.sparse       Sparse matrices\n",
    "scipy.spatial      Spatial data structures and algorithms\n",
    "scipy.special      Any special mathematical functions\n",
    "scipy.stats        Statistics"
   ]
  },
  {
   "cell_type": "markdown",
   "metadata": {},
   "source": [
    "### Optimization"
   ]
  },
  {
   "cell_type": "code",
   "execution_count": 2,
   "metadata": {},
   "outputs": [
    {
     "name": "stdout",
     "output_type": "stream",
     "text": [
      "3.141592653589793 0.0\n"
     ]
    }
   ],
   "source": [
    "# Example: finding roots\n",
    "import numpy as np\n",
    "from scipy.optimize import brentq\n",
    "\n",
    "x = brentq(np.sin,2,4) \n",
    "print (x, x-np.pi)"
   ]
  },
  {
   "cell_type": "markdown",
   "metadata": {},
   "source": [
    "### Integration"
   ]
  },
  {
   "cell_type": "code",
   "execution_count": 3,
   "metadata": {},
   "outputs": [
    {
     "name": "stdout",
     "output_type": "stream",
     "text": [
      "sin(x) integral:  0.9999999999998385\n",
      "exp(-x) integral:  (1.0000000000000002, 5.842606703608969e-11)\n"
     ]
    }
   ],
   "source": [
    "# Example: integration\n",
    "# import numpy as np\n",
    "from scipy.integrate import simps, quad\n",
    "\n",
    "# integrate from array using simpson\n",
    "x = np.linspace(0, np.pi/2, 10000)\n",
    "y = np.sin(x)\n",
    "print( \"sin(x) integral: \", simps(y,x) )\n",
    "\n",
    "# integrate a function using gaussia quadrature\n",
    "print( \"exp(-x) integral: \", quad(lambda x: np.exp(-x), 0, np.inf) )"
   ]
  },
  {
   "cell_type": "markdown",
   "metadata": {},
   "source": [
    "### Statistics"
   ]
  },
  {
   "cell_type": "code",
   "execution_count": 4,
   "metadata": {},
   "outputs": [
    {
     "name": "stdout",
     "output_type": "stream",
     "text": [
      "gmean:  7.928946844865149\n",
      "hmean:  5.355522624593338\n"
     ]
    }
   ],
   "source": [
    "# Example: geometric and harmonic means\n",
    "# import numpy as np\n",
    "from scipy import stats\n",
    "\n",
    "range20 = np.arange(1,20)\n",
    "\n",
    "print( \"gmean: \", stats.gmean(range20) )\n",
    "print( \"hmean: \", stats.hmean(range20) )"
   ]
  },
  {
   "cell_type": "markdown",
   "metadata": {},
   "source": [
    "### Linear Algebra"
   ]
  },
  {
   "cell_type": "markdown",
   "metadata": {},
   "source": [
    "- scipy.linalg contains all the functions in numpy.linalg. plus some other more advanced ones not contained in numpy.linalg.\n",
    "\n",
    "- scipy.linalg is compiled with BLAS/LAPACK support. \n",
    "\n",
    "- The scipy version might be faster depending on how numpy was installed."
   ]
  },
  {
   "cell_type": "code",
   "execution_count": 7,
   "metadata": {},
   "outputs": [
    {
     "name": "stdout",
     "output_type": "stream",
     "text": [
      "inverse:\n",
      "\n",
      " [[ 1.00000000e+00 -1.11022302e-16  4.85722573e-17]\n",
      " [ 3.05311332e-16  1.00000000e+00  7.63278329e-17]\n",
      " [ 2.22044605e-16 -1.11022302e-16  1.00000000e+00]]\n",
      "\n",
      "determinant:\n",
      "\n",
      " 0.9999999999999999\n"
     ]
    }
   ],
   "source": [
    "# Example: find the inverse\n",
    "# import numpy as np\n",
    "from scipy import linalg\n",
    "\n",
    "A = np.array([[1,3,5],[2,5,1],[2,3,8]])\n",
    "B = linalg.inv(A)\n",
    "C = A.dot(B)\n",
    "\n",
    "print( \"inverse:\\n\\n\", C, end=\"\\n\\n\" )\n",
    "print( \"determinant:\\n\\n\", linalg.det(C) )"
   ]
  },
  {
   "cell_type": "code",
   "execution_count": 6,
   "metadata": {},
   "outputs": [
    {
     "name": "stdout",
     "output_type": "stream",
     "text": [
      "[-0.28624535  0.81040892 -0.08550186]\n"
     ]
    }
   ],
   "source": [
    "# Example solve matrix eq A X = B\n",
    "A = np.array([ [-13,2,4], [2,-11,6], [4,6,-15] ])\n",
    "B = np.array([5,-10,5])\n",
    "print (linalg.solve(A,B))"
   ]
  }
 ],
 "metadata": {
  "kernelspec": {
   "display_name": "Python 3 (ipykernel)",
   "language": "python",
   "name": "python3"
  },
  "language_info": {
   "codemirror_mode": {
    "name": "ipython",
    "version": 3
   },
   "file_extension": ".py",
   "mimetype": "text/x-python",
   "name": "python",
   "nbconvert_exporter": "python",
   "pygments_lexer": "ipython3",
   "version": "3.9.6"
  }
 },
 "nbformat": 4,
 "nbformat_minor": 4
}
