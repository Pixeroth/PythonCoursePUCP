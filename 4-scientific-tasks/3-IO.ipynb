{
 "cells": [
  {
   "cell_type": "markdown",
   "metadata": {},
   "source": [
    "# IO operations"
   ]
  },
  {
   "cell_type": "markdown",
   "metadata": {},
   "source": [
    "__Open modes__\n",
    "\n",
    "Sintaxis\n",
    "\n",
    "```Python\n",
    "f = open(file, mode)\n",
    "\n",
    "# file operations\n",
    "# ...\n",
    "\n",
    "f.close()\n",
    "```\n",
    "\n",
    "Modes\n",
    "* 'r': Read mode allows you to read the fille. You can't change it, only read it.\n",
    "\n",
    "* 'w': Write mode will create the file if it does not exist. If the file does exist,\n",
    "opening it in 'w' mode will re-write it, destroying the current contents.\n",
    "\n",
    "* 'a': Append mode allows you to write onto the end of a previously-existing\n",
    "file without destroying what was there already.\n",
    "\n",
    "\n",
    "__Reading methods__\n",
    "\n",
    "* read the file contents into a single string\n",
    "\n",
    "```Python\n",
    "string = FileHandle.read( ) \n",
    "```\n",
    "\n",
    "* read the current line of the file into a string and advance the cursor to next line\n",
    "\n",
    "```Python\n",
    "line = FileHandle.readline( )\n",
    "```\n",
    "\n",
    "* read the file contents into a list of strings, one string for each line.\n",
    "\n",
    "```Python\n",
    "lines = FileHandle.readlines( )\n",
    "```"
   ]
  },
  {
   "cell_type": "markdown",
   "metadata": {},
   "source": [
    "### read and write"
   ]
  },
  {
   "cell_type": "code",
   "execution_count": 23,
   "metadata": {},
   "outputs": [],
   "source": [
    "import numpy as np"
   ]
  },
  {
   "cell_type": "code",
   "execution_count": 24,
   "metadata": {},
   "outputs": [],
   "source": [
    "sum = np.pi + np.e\n",
    "\n",
    "fileH = open(\"./data/pi-e.txt\", 'w')\n",
    "\n",
    "fileH.write(\"pi = %6.4f \\t e=%6.4f \\n\" % (np.pi, np.e))\n",
    "fileH.write(\"pi + e = %6.4f \\n\" % sum)\n",
    "\n",
    "fileH.close( )"
   ]
  },
  {
   "cell_type": "code",
   "execution_count": 25,
   "metadata": {},
   "outputs": [
    {
     "name": "stdout",
     "output_type": "stream",
     "text": [
      "pi = 3.1416 \t e=2.7183 \n",
      "pi + e = 5.8599 \n",
      "\n"
     ]
    }
   ],
   "source": [
    "fileH = open(\"./data/pi-e.txt\", 'r')\n",
    "\n",
    "string = fileH.read()\n",
    "print(string)\n",
    "\n",
    "fileH.close( )"
   ]
  },
  {
   "cell_type": "markdown",
   "metadata": {},
   "source": [
    "### Read a numerical table"
   ]
  },
  {
   "cell_type": "markdown",
   "metadata": {},
   "source": [
    "##### Read all file as a string"
   ]
  },
  {
   "cell_type": "code",
   "execution_count": 41,
   "metadata": {},
   "outputs": [
    {
     "data": {
      "text/plain": [
       "['12', '13', '14', '15', '16', '17']"
      ]
     },
     "execution_count": 41,
     "metadata": {},
     "output_type": "execute_result"
    }
   ],
   "source": [
    "\"12 13 14 \\n 15 16 17\".split()"
   ]
  },
  {
   "cell_type": "code",
   "execution_count": 26,
   "metadata": {},
   "outputs": [
    {
     "name": "stdout",
     "output_type": "stream",
     "text": [
      "[[-5.          0.77107376  2.60662643 ... -1.39100345 -1.67\n",
      "  -0.13831508]\n",
      " [-1.38967683 -1.66       -0.12416305 ... -0.06391766  0.71463459\n",
      "   1.67      ]\n",
      " [-0.07091871  0.7125332   1.68       ...  5.          0.10435349\n",
      "  -0.35276853]]\n",
      "[[-5.          0.77107376  2.60662643]\n",
      " [-4.99        0.74348093  2.60898352]\n",
      " [-4.98        0.71592108  2.61106041]\n",
      " ...\n",
      " [ 4.98        0.09766761 -0.35620689]\n",
      " [ 4.99        0.10102249 -0.3545027 ]\n",
      " [ 5.          0.10435349 -0.35276853]]\n"
     ]
    }
   ],
   "source": [
    "# Example: read a three-column numerical data\n",
    "import numpy as np\n",
    "fileH = open(\"./data/data-3-col.dat\", 'r')\n",
    "\n",
    "# all line a string\n",
    "str1 = fileH.read()  \n",
    "\n",
    "# split at each: space, \\n, \\t\n",
    "str2 = str1.split() \n",
    "\n",
    "numbers1 = np.array([float(str_num) for str_num in str2])\n",
    "numbers2 = np.reshape(numbers1, (3, numbers1.size//3))\n",
    "numbers3 = np.reshape(numbers1, (numbers1.size//3, 3))\n",
    "\n",
    "print(numbers2)\n",
    "print(numbers3)\n",
    "\n",
    "fileH.close( )"
   ]
  },
  {
   "cell_type": "markdown",
   "metadata": {},
   "source": [
    "##### Read separated lines as strings"
   ]
  },
  {
   "cell_type": "code",
   "execution_count": 27,
   "metadata": {},
   "outputs": [],
   "source": [
    "fileH = open(\"./data/data-3-col.dat\", 'r')\n",
    "\n",
    "# read all lines, each line is a string\n",
    "lines_str = fileH.readlines() \n",
    "\n",
    "# line_str: each string line\n",
    "# number_str: each string number in line_str\n",
    "numbers1 = np.array([[float(number_str) for number_str in line_str.split()] for line_str in lines_str])\n",
    "numbers2 = numbers1.transpose()\n",
    "\n",
    "print(numbers1)\n",
    "print(numbers2)\n",
    "\n",
    "fileH.close( )"
   ]
  },
  {
   "cell_type": "markdown",
   "metadata": {},
   "source": [
    "##### Using with to open and process file"
   ]
  },
  {
   "cell_type": "code",
   "execution_count": 28,
   "metadata": {},
   "outputs": [
    {
     "name": "stdout",
     "output_type": "stream",
     "text": [
      "[[-5.          0.77107376  2.60662643]\n",
      " [-4.99        0.74348093  2.60898352]\n",
      " [-4.98        0.71592108  2.61106041]\n",
      " ...\n",
      " [ 4.98        0.09766761 -0.35620689]\n",
      " [ 4.99        0.10102249 -0.3545027 ]\n",
      " [ 5.          0.10435349 -0.35276853]]\n",
      "[[-5.         -4.99       -4.98       ...  4.98        4.99\n",
      "   5.        ]\n",
      " [ 0.77107376  0.74348093  0.71592108 ...  0.09766761  0.10102249\n",
      "   0.10435349]\n",
      " [ 2.60662643  2.60898352  2.61106041 ... -0.35620689 -0.3545027\n",
      "  -0.35276853]]\n"
     ]
    }
   ],
   "source": [
    "with open(\"./data/data-3-col.dat\", 'r') as file:\n",
    "    # no need to read all lines first\n",
    "    numbers1 = np.array([[float(number_str) for number_str in line_str.split()] for line_str in file])\n",
    "\n",
    "numbers2 = numbers1.transpose()\n",
    "\n",
    "print(numbers1)\n",
    "print(numbers2)\n",
    "\n",
    "# no need to close the file"
   ]
  },
  {
   "cell_type": "markdown",
   "metadata": {},
   "source": [
    "### Save numerical table to a file"
   ]
  },
  {
   "cell_type": "code",
   "execution_count": 33,
   "metadata": {},
   "outputs": [],
   "source": [
    "# import numpy as np\n",
    "fileH = open(\"./data/data3C-output.dat\", 'w')\n",
    "\n",
    "# numbers1 = ...\n",
    "\n",
    "for row in numbers1:\n",
    "    for column in row:\n",
    "        fileH.write('%14.8f' % column)\n",
    "    fileH.write('\\n')\n",
    "\n",
    "fileH.close()"
   ]
  },
  {
   "cell_type": "code",
   "execution_count": 37,
   "metadata": {},
   "outputs": [
    {
     "data": {
      "text/plain": [
       "array([[-5.        , -4.99      , -4.98      , ...,  4.98      ,\n",
       "         4.99      ,  5.        ],\n",
       "       [ 0.77107376,  0.74348093,  0.71592108, ...,  0.09766761,\n",
       "         0.10102249,  0.10435349],\n",
       "       [ 2.60662643,  2.60898352,  2.61106041, ..., -0.35620689,\n",
       "        -0.3545027 , -0.35276853]])"
      ]
     },
     "execution_count": 37,
     "metadata": {},
     "output_type": "execute_result"
    }
   ],
   "source": [
    "numbers2"
   ]
  },
  {
   "cell_type": "code",
   "execution_count": 38,
   "metadata": {},
   "outputs": [],
   "source": [
    "# import numpy as np\n",
    "fileH = open(\"./data/data3C-output2.dat\", 'w')\n",
    "\n",
    "# numbers1 = ...\n",
    "\n",
    "for row in numbers1.T:\n",
    "    for column in row:\n",
    "        fileH.write('%14.8f' % column)\n",
    "    fileH.write('\\n')\n",
    "\n",
    "fileH.close()"
   ]
  },
  {
   "cell_type": "markdown",
   "metadata": {},
   "source": [
    "### Numpy: loadtxt and savetxt"
   ]
  },
  {
   "cell_type": "code",
   "execution_count": 1,
   "metadata": {},
   "outputs": [],
   "source": [
    "import numpy as np"
   ]
  },
  {
   "cell_type": "markdown",
   "metadata": {},
   "source": [
    "##### Read numerical table"
   ]
  },
  {
   "cell_type": "code",
   "execution_count": 7,
   "metadata": {},
   "outputs": [
    {
     "name": "stdout",
     "output_type": "stream",
     "text": [
      "[[-5.          0.77107376  2.60662643]\n",
      " [-4.99        0.74348093  2.60898352]\n",
      " [-4.98        0.71592108  2.61106041]\n",
      " ...\n",
      " [ 4.98        0.09766761 -0.35620689]\n",
      " [ 4.99        0.10102249 -0.3545027 ]\n",
      " [ 5.          0.10435349 -0.35276853]]\n"
     ]
    },
    {
     "data": {
      "text/plain": [
       "-4.8"
      ]
     },
     "execution_count": 7,
     "metadata": {},
     "output_type": "execute_result"
    }
   ],
   "source": [
    "a = np.loadtxt('./data/data-3-col.dat')\n",
    "print(a)\n",
    "a[20, 0]"
   ]
  },
  {
   "cell_type": "code",
   "execution_count": 20,
   "metadata": {},
   "outputs": [
    {
     "name": "stdout",
     "output_type": "stream",
     "text": [
      "[[-5.         -4.99       -4.98       ...  4.98        4.99\n",
      "   5.        ]\n",
      " [ 0.77107376  0.74348093  0.71592108 ...  0.09766761  0.10102249\n",
      "   0.10435349]\n",
      " [ 2.60662643  2.60898352  2.61106041 ... -0.35620689 -0.3545027\n",
      "  -0.35276853]]\n"
     ]
    },
    {
     "data": {
      "text/plain": [
       "-4.8"
      ]
     },
     "execution_count": 20,
     "metadata": {},
     "output_type": "execute_result"
    }
   ],
   "source": [
    "a = np.loadtxt('./data/data-3-col.dat', unpack = True)\n",
    "print(a)\n",
    "a[0, 20]"
   ]
  },
  {
   "cell_type": "code",
   "execution_count": 10,
   "metadata": {},
   "outputs": [
    {
     "name": "stdout",
     "output_type": "stream",
     "text": [
      "[-5.   -4.99 -4.98 ...  4.98  4.99  5.  ]\n",
      "[0.77107376 0.74348093 0.71592108 ... 0.09766761 0.10102249 0.10435349]\n",
      "[ 2.60662643  2.60898352  2.61106041 ... -0.35620689 -0.3545027\n",
      " -0.35276853]\n"
     ]
    },
    {
     "data": {
      "text/plain": [
       "-4.8"
      ]
     },
     "execution_count": 10,
     "metadata": {},
     "output_type": "execute_result"
    }
   ],
   "source": [
    "x, y, z = np.loadtxt('./data/data-3-col.dat', unpack=True, delimiter='\\t')\n",
    "print(x, y, z, sep='\\n')\n",
    "x[20]"
   ]
  },
  {
   "cell_type": "markdown",
   "metadata": {},
   "source": [
    "##### Save numerical table"
   ]
  },
  {
   "cell_type": "code",
   "execution_count": 16,
   "metadata": {},
   "outputs": [],
   "source": [
    "numbers1 = x[19:50]\n",
    "np.savetxt(\"./data/numbers1.dat\", numbers1, fmt=\"%14.8f\")"
   ]
  },
  {
   "cell_type": "code",
   "execution_count": 17,
   "metadata": {},
   "outputs": [],
   "source": [
    "numbers2 = y[y<1]\n",
    "np.savetxt(\"./data/numbers2.dat\", numbers2, fmt=\"%14.8f\")"
   ]
  },
  {
   "cell_type": "code",
   "execution_count": 22,
   "metadata": {},
   "outputs": [],
   "source": [
    "numbers3 = a[:, 0]\n",
    "np.savetxt(\"./data/numbers3.dat\", numbers3, fmt=\"%14.8f\")"
   ]
  }
 ],
 "metadata": {
  "kernelspec": {
   "display_name": "Python 3 (ipykernel)",
   "language": "python",
   "name": "python3"
  },
  "language_info": {
   "codemirror_mode": {
    "name": "ipython",
    "version": 3
   },
   "file_extension": ".py",
   "mimetype": "text/x-python",
   "name": "python",
   "nbconvert_exporter": "python",
   "pygments_lexer": "ipython3",
   "version": "3.9.6"
  }
 },
 "nbformat": 4,
 "nbformat_minor": 4
}
