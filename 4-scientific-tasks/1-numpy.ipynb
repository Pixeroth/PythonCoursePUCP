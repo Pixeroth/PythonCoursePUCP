{
 "cells": [
  {
   "cell_type": "markdown",
   "metadata": {},
   "source": [
    "# Numpy fast tutorial"
   ]
  },
  {
   "cell_type": "code",
   "execution_count": 1,
   "metadata": {},
   "outputs": [],
   "source": [
    "import numpy as np "
   ]
  },
  {
   "cell_type": "markdown",
   "metadata": {},
   "source": [
    "### Default behavour of lists"
   ]
  },
  {
   "cell_type": "markdown",
   "metadata": {},
   "source": [
    "* not quite useful multi-indexig\n",
    "* not optimized for numerical array computing\n",
    "* mutability has effects on performance in general"
   ]
  },
  {
   "cell_type": "code",
   "execution_count": null,
   "metadata": {},
   "outputs": [],
   "source": [
    "# use list as matrices?\n",
    "M = [[1, 2], [3, 4]]\n",
    "\n",
    "print( M * 3 )\n",
    "print( M + M )\n",
    "# print(M * M)    # give an error"
   ]
  },
  {
   "cell_type": "markdown",
   "metadata": {},
   "source": [
    "### Numpy array creation"
   ]
  },
  {
   "cell_type": "markdown",
   "metadata": {},
   "source": [
    "numpy extends the functionality also numpy arrays are faster and use less memory"
   ]
  },
  {
   "cell_type": "code",
   "execution_count": null,
   "metadata": {},
   "outputs": [],
   "source": [
    "# Define a 1-dim array\n",
    "M = np.array([1, 2, 3])\n",
    "\n",
    "print(M.ndim)\n",
    "print(M.size)\n",
    "print(M.shape)\n",
    "print(M.dtype)\n",
    "print(M.itemsize)"
   ]
  },
  {
   "cell_type": "code",
   "execution_count": null,
   "metadata": {},
   "outputs": [],
   "source": [
    "# Define a 2-dim array\n",
    "M = np.array([[1, 2, 3], [3, 4, 5], [4, 5, 6]])\n",
    "\n",
    "print(M.ndim)\n",
    "print(M.size)\n",
    "print(M.shape)\n",
    "print(M.dtype)\n",
    "print(M.itemsize)\n",
    "print(M)"
   ]
  },
  {
   "cell_type": "code",
   "execution_count": null,
   "metadata": {},
   "outputs": [],
   "source": [
    "# Define a 3-dim array\n",
    "M = np.array([[[1, 2], [3, 0]], [[3, 4], [5, 0]], [[4, 5], [6, 0]]])\n",
    "\n",
    "print(M.ndim)\n",
    "print(M.size)\n",
    "print(M.shape)\n",
    "print(M.dtype)\n",
    "print(M.itemsize)"
   ]
  },
  {
   "cell_type": "code",
   "execution_count": null,
   "metadata": {},
   "outputs": [],
   "source": [
    "# Copy the array, casting to a given type.\n",
    "N = M.astype(np.int64)\n",
    "\n",
    "print(N.ndim)\n",
    "print(N.size)\n",
    "print(N.shape)\n",
    "print(N.dtype)\n",
    "print(N.itemsize)"
   ]
  },
  {
   "cell_type": "code",
   "execution_count": null,
   "metadata": {},
   "outputs": [],
   "source": [
    "# Use dtype argument to specify the type\n",
    "M = np.array([[1, 2, 3], [3, 4, 5], [4, 5, 6]], dtype=np.float64)\n",
    "\n",
    "print(M.ndim)\n",
    "print(M.size)\n",
    "print(M.shape)\n",
    "print(M.dtype)\n",
    "print(N.itemsize)"
   ]
  },
  {
   "cell_type": "markdown",
   "metadata": {},
   "source": [
    "### Array copy vs alias"
   ]
  },
  {
   "cell_type": "code",
   "execution_count": null,
   "metadata": {},
   "outputs": [],
   "source": [
    "M = np.array([[1, 2, 3], [3, 4, 5], [4, 5, 6]])\n",
    "N4 = np.array([[0 ,0, 0], [0, 0, 0], [0, 0, 0]])"
   ]
  },
  {
   "cell_type": "code",
   "execution_count": null,
   "metadata": {},
   "outputs": [],
   "source": [
    "# Alias: same array\n",
    "N1 = M            \n",
    "print(N1 is M)"
   ]
  },
  {
   "cell_type": "code",
   "execution_count": null,
   "metadata": {},
   "outputs": [],
   "source": [
    "# Views: similar to \"shallow copy\" for lists\n",
    "N2 = M[:]         \n",
    "print(N2 is M)    # N2 is a new array, with shared content\n",
    "\n",
    "N3 = M.view()     \n",
    "print(N3 is M)    # N3 is a new array, with shared content"
   ]
  },
  {
   "cell_type": "code",
   "execution_count": null,
   "metadata": {},
   "outputs": [],
   "source": [
    "# Copies: similar to \"deep copy\" for lists\n",
    "# See example about object type in doc:\n",
    "# https://numpy.org/doc/stable/reference/generated/numpy.copy.html\n",
    "\n",
    "N4[:] = M          # copy contents of M into N4\n",
    "print(N4 is M)     # N4 pre-exists and has same dims\n",
    "\n",
    "N5 = np.copy(M)   \n",
    "print(N5 is M)    # N5 is a new array, with copied elements\n",
    "\n",
    "N6 = M.copy()     \n",
    "print(N6 is M)    # N6 is a new array, with copied elements"
   ]
  },
  {
   "cell_type": "code",
   "execution_count": null,
   "metadata": {},
   "outputs": [],
   "source": [
    "# Do changes and print output:\n",
    "N2.shape = (1,9)\n",
    "N2[0, 0] = 100\n",
    "N5[1, 1] = 200\n",
    "\n",
    "print('alias:')\n",
    "print(M, N1, sep='\\n\\n')\n",
    "\n",
    "print('\\nviews: ')\n",
    "print(N2, N3, sep='\\n\\n')\n",
    "\n",
    "print('\\ncopies: ')\n",
    "print(N4, N5, N6, sep='\\n\\n')"
   ]
  },
  {
   "cell_type": "markdown",
   "metadata": {},
   "source": [
    "### Convert input to array"
   ]
  },
  {
   "cell_type": "markdown",
   "metadata": {},
   "source": [
    "* array: by default will make a copy of the object \n",
    "* asarray: will not unless necessary (for example changing type)"
   ]
  },
  {
   "cell_type": "code",
   "execution_count": null,
   "metadata": {},
   "outputs": [],
   "source": [
    "# For tuples and list asarray make a copy\n",
    "a = ((1, 2), (2, 3), (4, 5))\n",
    "print(np.asarray(a) is a) \n",
    "\n",
    "a = [[1, 2], [2, 3], [4, 5]]\n",
    "print(np.asarray(a) is a)"
   ]
  },
  {
   "cell_type": "code",
   "execution_count": null,
   "metadata": {},
   "outputs": [],
   "source": [
    "# For ndarrays asarray make a copy when necessary\n",
    "a = np.array([[1, 2], [2, 3], [4, 5]])\n",
    "print(np.asarray(a) is a)\n",
    "\n",
    "a = np.array([[1, 2], [2, 3], [4, 5]])\n",
    "print(np.asarray(a, dtype=np.int64) is a)"
   ]
  },
  {
   "cell_type": "markdown",
   "metadata": {},
   "source": [
    "##### Example"
   ]
  },
  {
   "cell_type": "code",
   "execution_count": null,
   "metadata": {},
   "outputs": [],
   "source": [
    "m = np.array([1, 2, 3]);\n",
    "p = np.array(m)\n",
    "q = np.asarray(m)\n",
    "\n",
    "m[0] = 400             # change first element\n",
    "print(m, p, q, sep='\\n\\n')"
   ]
  },
  {
   "cell_type": "code",
   "execution_count": null,
   "metadata": {},
   "outputs": [],
   "source": [
    "m = np.append(m, 4)    # append makes a copy\n",
    "print(m, p, q, sep='\\n\\n')"
   ]
  },
  {
   "cell_type": "markdown",
   "metadata": {},
   "source": [
    "### Reshaping an array"
   ]
  },
  {
   "cell_type": "code",
   "execution_count": null,
   "metadata": {},
   "outputs": [],
   "source": [
    "P = np.array([[1, 2, 3, 4], [5, 6, 7, 8], [9, 10, 11, 12]])\n",
    "\n",
    "# reshape: does not modify original array\n",
    "m = P.reshape(6,2)\n",
    "print(P, m, sep ='\\n')"
   ]
  },
  {
   "cell_type": "code",
   "execution_count": null,
   "metadata": {},
   "outputs": [],
   "source": [
    "# resize: modify the original array\n",
    "n = P.resize(6,2)\n",
    "print(P, n, sep ='\\n')"
   ]
  },
  {
   "cell_type": "code",
   "execution_count": null,
   "metadata": {},
   "outputs": [],
   "source": [
    "P[0] = 100\n",
    "print(P, m, n, sep ='\\n')"
   ]
  },
  {
   "cell_type": "markdown",
   "metadata": {},
   "source": [
    "### Flattening an array"
   ]
  },
  {
   "cell_type": "code",
   "execution_count": null,
   "metadata": {},
   "outputs": [],
   "source": [
    "P = np.array([[1, 2, 3, 4], [5, 6, 7, 8], [9, 10, 11, 12]])\n",
    "\n",
    "# flatten makes a copy of the original\n",
    "f = P.flatten()\n",
    "print(f, sep ='\\n')"
   ]
  },
  {
   "cell_type": "code",
   "execution_count": null,
   "metadata": {},
   "outputs": [],
   "source": [
    "# ravel makes a view\n",
    "r = P.ravel()\n",
    "print(r, sep ='\\n')"
   ]
  },
  {
   "cell_type": "code",
   "execution_count": null,
   "metadata": {},
   "outputs": [],
   "source": [
    "P[0] = 100\n",
    "print(P, f, r, sep='\\n')"
   ]
  },
  {
   "cell_type": "markdown",
   "metadata": {},
   "source": [
    "### Automatic construction"
   ]
  },
  {
   "cell_type": "code",
   "execution_count": null,
   "metadata": {},
   "outputs": [],
   "source": [
    "print (np.arange(0, 1, 0.25), end ='\\n\\n')\n",
    "print (np.arange (0, 1.01, 0.25), end ='\\n\\n')"
   ]
  },
  {
   "cell_type": "code",
   "execution_count": null,
   "metadata": {},
   "outputs": [],
   "source": [
    "print (np.linspace(0, 1, 5), end ='\\n\\n')\n",
    "print (np.logspace(0, 3, 4), end ='\\n\\n')"
   ]
  },
  {
   "cell_type": "code",
   "execution_count": null,
   "metadata": {},
   "outputs": [],
   "source": [
    "print (np.zeros([2, 3], np.int64), end ='\\n\\n')\n",
    "print (np.ones([2, 3], np.int64), end ='\\n\\n')"
   ]
  },
  {
   "cell_type": "code",
   "execution_count": null,
   "metadata": {},
   "outputs": [],
   "source": [
    "print (np.zeros([2, 3], np.double), end ='\\n\\n')\n",
    "print (np.ones([2, 3], np.double), end ='\\n\\n')"
   ]
  },
  {
   "cell_type": "markdown",
   "metadata": {},
   "source": [
    "### Vectorization"
   ]
  },
  {
   "cell_type": "code",
   "execution_count": null,
   "metadata": {},
   "outputs": [],
   "source": [
    "# vectorizes other internal functions\n",
    "# vectorizes other internal functions\n",
    "M = np.array([[1, 2, 3], [3, 4, 5], [4, 5, 6]])\n",
    "\n",
    "print(3 * M, end ='\\n\\n')\n",
    "print(M + M, end ='\\n\\n')\n",
    "print(M * M, end ='\\n\\n') # array multiplication\n",
    "print(M**2,  end ='\\n\\n')\n",
    "print(M**M,  end ='\\n\\n')\n",
    "print(np.sin(M))  "
   ]
  },
  {
   "cell_type": "markdown",
   "metadata": {},
   "source": [
    "##### Example 1"
   ]
  },
  {
   "cell_type": "code",
   "execution_count": null,
   "metadata": {},
   "outputs": [],
   "source": [
    "# vectorized 1d function\n",
    "def f(x):\n",
    "    x = np.asarray(x)\n",
    "    return np.exp(-x)*np.cos(x)"
   ]
  },
  {
   "cell_type": "code",
   "execution_count": null,
   "metadata": {},
   "outputs": [],
   "source": [
    "[f(0), f(1), f(2)]"
   ]
  },
  {
   "cell_type": "code",
   "execution_count": null,
   "metadata": {},
   "outputs": [],
   "source": [
    "f([2, 3])"
   ]
  },
  {
   "cell_type": "code",
   "execution_count": null,
   "metadata": {},
   "outputs": [],
   "source": [
    "f(np.array([0, 1]))"
   ]
  },
  {
   "cell_type": "code",
   "execution_count": null,
   "metadata": {},
   "outputs": [],
   "source": [
    "f(np.array([[2, 1], [1, 0]]))"
   ]
  },
  {
   "cell_type": "markdown",
   "metadata": {},
   "source": [
    "##### Example 2"
   ]
  },
  {
   "cell_type": "code",
   "execution_count": null,
   "metadata": {},
   "outputs": [],
   "source": [
    "# vectorized 2d function\n",
    "def g(x, y):\n",
    "    x = np.asarray(x)\n",
    "    y = np.asarray(y)\n",
    "    return x**2 + y**2"
   ]
  },
  {
   "cell_type": "code",
   "execution_count": null,
   "metadata": {},
   "outputs": [],
   "source": [
    "[g(0,0), g(1,1), g(0,1)]"
   ]
  },
  {
   "cell_type": "code",
   "execution_count": null,
   "metadata": {},
   "outputs": [],
   "source": [
    "g([0, 1], [1, 1])"
   ]
  },
  {
   "cell_type": "code",
   "execution_count": null,
   "metadata": {},
   "outputs": [],
   "source": [
    "g([[0, 1], [1, 1]], [[1, 2], [0, 1]])"
   ]
  },
  {
   "cell_type": "code",
   "execution_count": null,
   "metadata": {},
   "outputs": [],
   "source": [
    "x = np.linspace(-3, 3, 7)\n",
    "y = np.linspace(-3, 3, 7)\n",
    "xx, yy = np.meshgrid(x, y)\n",
    "g(xx,yy)"
   ]
  },
  {
   "cell_type": "markdown",
   "metadata": {},
   "source": [
    "### Math operations"
   ]
  },
  {
   "cell_type": "code",
   "execution_count": 48,
   "metadata": {},
   "outputs": [],
   "source": [
    "M = np.array([[1, 2, 3], [3, 4, 5], [4, 5, 6]])"
   ]
  },
  {
   "cell_type": "code",
   "execution_count": null,
   "metadata": {},
   "outputs": [],
   "source": [
    "print(M.min(), end ='\\n\\n')\n",
    "print(M.max(), end ='\\n\\n')"
   ]
  },
  {
   "cell_type": "code",
   "execution_count": null,
   "metadata": {},
   "outputs": [],
   "source": [
    "print(M.sum(), end ='\\n\\n')\n",
    "print(M.sum(axis=0), end ='\\n\\n')\n",
    "print(M.sum(axis=1), end ='\\n\\n')"
   ]
  },
  {
   "cell_type": "code",
   "execution_count": null,
   "metadata": {},
   "outputs": [],
   "source": [
    "print(M.prod(), end ='\\n\\n')\n",
    "print(M.prod(axis=0), end ='\\n\\n')\n",
    "print(M.prod(axis=1), end ='\\n\\n')"
   ]
  },
  {
   "cell_type": "code",
   "execution_count": 49,
   "metadata": {},
   "outputs": [],
   "source": [
    "print(M.cumsum())\n",
    "print(M.cumprod())\n",
    "print(np.diff(M))"
   ]
  },
  {
   "cell_type": "markdown",
   "metadata": {},
   "source": [
    "##### numpy vs python"
   ]
  },
  {
   "cell_type": "code",
   "execution_count": null,
   "metadata": {},
   "outputs": [],
   "source": [
    "sum([1, 2, 3])"
   ]
  },
  {
   "cell_type": "code",
   "execution_count": null,
   "metadata": {},
   "outputs": [],
   "source": [
    "sum(np.array([1, 2, 3]))"
   ]
  },
  {
   "cell_type": "code",
   "execution_count": null,
   "metadata": {},
   "outputs": [],
   "source": [
    "np.sum(np.array([1, 2, 3]))"
   ]
  },
  {
   "cell_type": "markdown",
   "metadata": {},
   "source": [
    "### Array indexing"
   ]
  },
  {
   "cell_type": "code",
   "execution_count": null,
   "metadata": {},
   "outputs": [],
   "source": [
    "M = np.array([[1, 2, 3], [4, 5, 6], [7, 8, 9]])\n",
    "\n",
    "print(M[1], end ='\\n\\n')\n",
    "print(M[1][2], end ='\\n\\n')\n",
    "print(M[1, 2], end ='\\n\\n')"
   ]
  },
  {
   "cell_type": "markdown",
   "metadata": {},
   "source": [
    "##### Colon operator: ini:end:step"
   ]
  },
  {
   "cell_type": "markdown",
   "metadata": {},
   "source": [
    "* Slices of arrays returns views of the original data (opposed to list or tuple slicing)"
   ]
  },
  {
   "cell_type": "code",
   "execution_count": null,
   "metadata": {},
   "outputs": [],
   "source": [
    "print(M, end ='\\n\\n')\n",
    "print(M[0:2, 2], end ='\\n\\n')\n",
    "print(M[0, :2], end ='\\n\\n')\n",
    "print(M[:, 2], end ='\\n\\n')\n",
    "print(M[::2, 2], end ='\\n\\n')\n",
    "print(M[:2, :2], end ='\\n\\n')"
   ]
  },
  {
   "cell_type": "markdown",
   "metadata": {},
   "source": [
    "##### Ejemplo"
   ]
  },
  {
   "cell_type": "code",
   "execution_count": null,
   "metadata": {},
   "outputs": [],
   "source": [
    "# Extract the corners\n",
    "N = M[::2, ::2]\n",
    "print(N, end ='\\n\\n')\n",
    "\n",
    "M[0] = 100\n",
    "print(M, N, sep='\\n')"
   ]
  },
  {
   "cell_type": "markdown",
   "metadata": {},
   "source": [
    "##### Advanced indexing: with integer arrays or boolean arrays"
   ]
  },
  {
   "cell_type": "markdown",
   "metadata": {},
   "source": [
    "* Advanced indexing always returns a copy of the data. "
   ]
  },
  {
   "cell_type": "code",
   "execution_count": null,
   "metadata": {},
   "outputs": [],
   "source": [
    "# Indexing with integer array\n",
    "v = np.array([0, 2, 0, 2])\n",
    "M = np.array([[1, 2, 3], [4, 5, 6], [7, 8, 9]])\n",
    "print(M, end ='\\n\\n')\n",
    "print(M[v, 2], end ='\\n\\n')\n",
    "print(M[2, v], end ='\\n\\n')\n",
    "print(M[v, v], end ='\\n\\n')"
   ]
  },
  {
   "cell_type": "code",
   "execution_count": null,
   "metadata": {},
   "outputs": [],
   "source": [
    "# In the last example M[v, v] don't produce a matrix as in other\n",
    "# languages. In numpy the sintaxis would be:  \n",
    "r = np.array([[0, 0], [2, 2]])\n",
    "c = np.array([[0, 2], [0, 2]])\n",
    "print(M)\n",
    "print(M[r, c], end ='\\n\\n')\n"
   ]
  },
  {
   "cell_type": "code",
   "execution_count": null,
   "metadata": {},
   "outputs": [],
   "source": [
    "# Indexing with boolean array\n",
    "N = M > 2\n",
    "print(M, end ='\\n\\n')\n",
    "print(N, end ='\\n\\n')\n",
    "print(M[N], end ='\\n\\n')"
   ]
  },
  {
   "cell_type": "code",
   "execution_count": null,
   "metadata": {},
   "outputs": [],
   "source": [
    "# Example: filter nan\n",
    "np.array([0., 1., 2.])/0.\n",
    "x = np.array([[1., 2.], [np.nan, 3.], [np.nan, np.nan]])\n",
    "print(x, end ='\\n\\n')"
   ]
  },
  {
   "cell_type": "code",
   "execution_count": null,
   "metadata": {},
   "outputs": [],
   "source": [
    "print(np.isnan(x), end ='\\n\\n')\n",
    "print(x[~np.isnan(x)], end ='\\n\\n')"
   ]
  },
  {
   "cell_type": "code",
   "execution_count": null,
   "metadata": {},
   "outputs": [],
   "source": [
    "# Assigning values to indexed arrays\n",
    "print(M, end ='\\n\\n')\n",
    "\n",
    "M[::2, 2] = 1\n",
    "print(M, end ='\\n\\n')\n",
    "\n",
    "M[r, c] = 0\n",
    "print(M, end ='\\n\\n')\n",
    "\n",
    "M[r, c] = np.array([[5, 4], [4,5]])\n",
    "print(M, end ='\\n\\n')"
   ]
  },
  {
   "cell_type": "markdown",
   "metadata": {},
   "source": [
    "### Basic linear algebra"
   ]
  },
  {
   "cell_type": "code",
   "execution_count": null,
   "metadata": {},
   "outputs": [],
   "source": [
    "# Transposition\n",
    "M = np.array([[0, 2, 3], [3, 4, 0], [4, 0, 6]])\n",
    "print(np.transpose(M))\n",
    "print(M.T)"
   ]
  },
  {
   "cell_type": "code",
   "execution_count": null,
   "metadata": {},
   "outputs": [],
   "source": [
    "# Matrix multiplication\n",
    "print(np.matmul(M, M))\n",
    "print(M @ M)             # equivalent to matmul\n",
    "\n",
    "print(np.dot(M, M))      # Also valid with scalars\n",
    "print(M.dot(M))"
   ]
  },
  {
   "cell_type": "code",
   "execution_count": null,
   "metadata": {},
   "outputs": [],
   "source": [
    "# Multiple cross-products (by rows: vector1 * vector-1, ...)\n",
    "print(np.cross(M, M))  \n",
    "print(np.cross(M, M.T))"
   ]
  },
  {
   "cell_type": "code",
   "execution_count": null,
   "metadata": {},
   "outputs": [],
   "source": [
    "# inverse, det and eig\n",
    "# from numpy import linalg -> linalg.inv(M)\n",
    "print(np.linalg.inv(M), end='\\n\\n')  \n",
    "print(np.linalg.det(M), end='\\n\\n')\n",
    "print(np.linalg.eig(M), end='\\n\\n')"
   ]
  },
  {
   "cell_type": "code",
   "execution_count": null,
   "metadata": {},
   "outputs": [],
   "source": [
    "# Solve matrix eq A X = B\n",
    "\n",
    "# Matrix of coefficients\n",
    "A = np.array([[-13, 2, 4], [2, -11, 6], [4, 6, -15]])\n",
    "\n",
    "# inhomogeneous vector\n",
    "B = np.array([5, -10, 5])\n",
    "\n",
    "# solution\n",
    "print (np.linalg.solve(A, B))"
   ]
  },
  {
   "cell_type": "markdown",
   "metadata": {},
   "source": [
    "### Array printing"
   ]
  },
  {
   "cell_type": "code",
   "execution_count": null,
   "metadata": {},
   "outputs": [],
   "source": [
    "# set precision using numpy (5 decimals)\n",
    "np.set_printoptions(precision=5)"
   ]
  },
  {
   "cell_type": "code",
   "execution_count": null,
   "metadata": {},
   "outputs": [],
   "source": [
    "data = [2.1, 3.2, 6.7, 5.4, 1.2]\n",
    "metric = [2.54 * measure for measure in data]\n",
    "print(\"\\nmetric:\", np.array(metric), end ='\\n\\n')"
   ]
  },
  {
   "cell_type": "code",
   "execution_count": 2,
   "metadata": {},
   "outputs": [
    {
     "name": "stdout",
     "output_type": "stream",
     "text": [
      "axis:\n",
      "[ 0.        0.312112  0.624224  0.936336  1.248448  1.56056   1.872672\n",
      "  2.184784  2.496896  2.809008  3.12112   3.433232  3.745344  4.057456\n",
      "  4.369568  4.68168   4.993792  5.305904  5.618016  5.930128  6.24224\n",
      "  6.554352  6.866464  7.178576  7.490688  7.8028    8.114912  8.427024\n",
      "  8.739136  9.051248  9.36336   9.675472  9.987584 10.299696 10.611808\n",
      " 10.92392  11.236032 11.548144 11.860256 12.172368 12.48448  12.796592\n",
      " 13.108704 13.420816 13.732928 14.04504  14.357152 14.669264 14.981376\n",
      " 15.293488 15.6056   15.917712 16.229824 16.541936 16.854048 17.16616\n",
      " 17.478272 17.790384 18.102496 18.414608 18.72672  19.038832 19.350944\n",
      " 19.663056 19.975168 20.28728  20.599392 20.911504 21.223616 21.535728\n",
      " 21.84784  22.159952 22.472064 22.784176 23.096288 23.4084   23.720512\n",
      " 24.032624 24.344736 24.656848 24.96896  25.281072 25.593184 25.905296\n",
      " 26.217408 26.52952  26.841632 27.153744 27.465856 27.777968 28.09008\n",
      " 28.402192 28.714304 29.026416 29.338528 29.65064  29.962752 30.274864\n",
      " 30.586976 30.899088]\n",
      "\n"
     ]
    }
   ],
   "source": [
    "axis = [ 0.312112*i for i in range(100)]\n",
    "\n",
    "print(\"axis:\")\n",
    "print(np.array(axis), end ='\\n\\n')"
   ]
  },
  {
   "cell_type": "code",
   "execution_count": 6,
   "metadata": {},
   "outputs": [
    {
     "name": "stdout",
     "output_type": "stream",
     "text": [
      "axis 2:\n",
      "[     0.000           0.312           0.624           0.936\n",
      "      1.248           1.561           1.873           2.185\n",
      "      2.497           2.809           3.121           3.433\n",
      "      3.745           4.057           4.370           4.682\n",
      "      4.994           5.306           5.618           5.930\n",
      "      6.242           6.554           6.866           7.179\n",
      "      7.491           7.803           8.115           8.427\n",
      "      8.739           9.051           9.363           9.675\n",
      "      9.988          10.300          10.612          10.924\n",
      "     11.236          11.548          11.860          12.172\n",
      "     12.484          12.797          13.109          13.421\n",
      "     13.733          14.045          14.357          14.669\n",
      "     14.981          15.293          15.606          15.918\n",
      "     16.230          16.542          16.854          17.166\n",
      "     17.478          17.790          18.102          18.415\n",
      "     18.727          19.039          19.351          19.663\n",
      "     19.975          20.287          20.599          20.912\n",
      "     21.224          21.536          21.848          22.160\n",
      "     22.472          22.784          23.096          23.408\n",
      "     23.721          24.033          24.345          24.657\n",
      "     24.969          25.281          25.593          25.905\n",
      "     26.217          26.530          26.842          27.154\n",
      "     27.466          27.778          28.090          28.402\n",
      "     28.714          29.026          29.339          29.651\n",
      "     29.963          30.275          30.587          30.899     ]\n"
     ]
    }
   ],
   "source": [
    "# formatter: using format method\n",
    "np.set_printoptions(linewidth=80, formatter={'float_kind': \"{:^15.3f}\".format})\n",
    "\n",
    "print(\"axis 2:\")\n",
    "print(np.array(axis))"
   ]
  },
  {
   "cell_type": "code",
   "execution_count": null,
   "metadata": {},
   "outputs": [],
   "source": [
    "# formatter: using % \n",
    "np.set_printoptions(linewidth=80, formatter={'float_kind': lambda x: \"%<15.2f\"%(x) })\n",
    "\n",
    "print(\"axis 2:\")\n",
    "print(np.array(axis))"
   ]
  },
  {
   "cell_type": "code",
   "execution_count": null,
   "metadata": {},
   "outputs": [],
   "source": [
    "# formatter: using f string \n",
    "np.set_printoptions(linewidth=80, formatter={'float_kind': lambda x: f'{x:>15.2f}'})\n",
    "\n",
    "print(\"axis 2:\")\n",
    "print(np.array(axis))"
   ]
  },
  {
   "cell_type": "code",
   "execution_count": null,
   "metadata": {},
   "outputs": [],
   "source": []
  }
 ],
 "metadata": {
  "kernelspec": {
   "display_name": "Python 3 (ipykernel)",
   "language": "python",
   "name": "python3"
  },
  "language_info": {
   "codemirror_mode": {
    "name": "ipython",
    "version": 3
   },
   "file_extension": ".py",
   "mimetype": "text/x-python",
   "name": "python",
   "nbconvert_exporter": "python",
   "pygments_lexer": "ipython3",
   "version": "3.9.6"
  }
 },
 "nbformat": 4,
 "nbformat_minor": 4
}
