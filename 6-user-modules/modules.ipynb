{
 "cells": [
  {
   "cell_type": "markdown",
   "id": "b550482b-f301-4b57-beda-988e181b00b7",
   "metadata": {},
   "source": [
    "# Modules y Packages"
   ]
  },
  {
   "cell_type": "markdown",
   "id": "8857b5a7-1ac1-41d7-92ad-3fcff29336e5",
   "metadata": {},
   "source": [
    "### Simple modules"
   ]
  },
  {
   "cell_type": "markdown",
   "id": "a246c104-13c4-49d1-927e-c2ca940ac5bf",
   "metadata": {},
   "source": [
    "##### Load the module"
   ]
  },
  {
   "cell_type": "code",
   "execution_count": null,
   "id": "cb1f694d-2a1d-4a86-abce-9e4a7eb08fc4",
   "metadata": {},
   "outputs": [],
   "source": [
    "import moduleA"
   ]
  },
  {
   "cell_type": "code",
   "execution_count": null,
   "id": "0ac40793-8d21-4010-8be3-cc4e429e6d67",
   "metadata": {},
   "outputs": [],
   "source": [
    "moduleA.var"
   ]
  },
  {
   "cell_type": "code",
   "execution_count": null,
   "id": "e6228785-453a-41fc-ab60-f2a6ce07ee5e",
   "metadata": {},
   "outputs": [],
   "source": [
    "moduleA.foo()"
   ]
  },
  {
   "cell_type": "code",
   "execution_count": null,
   "id": "af2e611b-c343-4ba2-90bb-c0679ed3a7a7",
   "metadata": {},
   "outputs": [],
   "source": [
    "moduleA.main()"
   ]
  },
  {
   "cell_type": "code",
   "execution_count": null,
   "id": "42254f1f-ce6a-48a7-ae03-f48dc202e882",
   "metadata": {},
   "outputs": [],
   "source": [
    "print(dir())"
   ]
  },
  {
   "cell_type": "code",
   "execution_count": null,
   "id": "267ff23c-2262-416a-a0de-53c7c6fddfc9",
   "metadata": {},
   "outputs": [],
   "source": [
    "print(dir(moduleA))"
   ]
  },
  {
   "cell_type": "code",
   "execution_count": null,
   "id": "5579aa71-ed3a-4879-a47a-fce3578718b2",
   "metadata": {},
   "outputs": [],
   "source": [
    "print(moduleA.__doc__)"
   ]
  },
  {
   "cell_type": "code",
   "execution_count": null,
   "id": "bcd2da82-745a-4184-b2d0-358c203d24ce",
   "metadata": {},
   "outputs": [],
   "source": [
    "print(moduleA.__name__)"
   ]
  },
  {
   "cell_type": "code",
   "execution_count": null,
   "id": "4c9f3654-98f1-44bf-959d-6fe941960026",
   "metadata": {},
   "outputs": [],
   "source": [
    "%reset"
   ]
  },
  {
   "cell_type": "markdown",
   "id": "1a5447cd-314b-49ee-a7b9-92e54d6edc92",
   "metadata": {},
   "source": [
    "##### Run the module as a script"
   ]
  },
  {
   "cell_type": "code",
   "execution_count": null,
   "id": "f6fcda4e-2058-4735-93e7-cf733241d71f",
   "metadata": {},
   "outputs": [],
   "source": [
    "%run moduleA"
   ]
  },
  {
   "cell_type": "code",
   "execution_count": null,
   "id": "7df5d1af-8f86-4671-8067-98d7c050020a",
   "metadata": {},
   "outputs": [],
   "source": [
    "# From the command line try\n",
    "## >> python moduleA.py"
   ]
  },
  {
   "cell_type": "code",
   "execution_count": null,
   "id": "3721f7fa-ed48-4594-88b6-be3930973d90",
   "metadata": {},
   "outputs": [],
   "source": [
    "var"
   ]
  },
  {
   "cell_type": "code",
   "execution_count": null,
   "id": "3eab8bc4-6916-4c08-b81d-36a99c232797",
   "metadata": {},
   "outputs": [],
   "source": [
    "print(dir())"
   ]
  },
  {
   "cell_type": "code",
   "execution_count": null,
   "id": "5ad85f43-3f02-4d89-8348-5c7d03a6b2b8",
   "metadata": {},
   "outputs": [],
   "source": [
    "'moduleA' in dir()"
   ]
  },
  {
   "cell_type": "code",
   "execution_count": null,
   "id": "cda1a39b-b364-4a7a-a633-b5f679c9b7d6",
   "metadata": {},
   "outputs": [],
   "source": [
    "%reset -f "
   ]
  },
  {
   "cell_type": "markdown",
   "id": "4063d391-2855-4611-b5e2-21bf372b2a8c",
   "metadata": {},
   "source": [
    "##### Put the module in a separate directory"
   ]
  },
  {
   "cell_type": "markdown",
   "id": "bd83ff54-f0ad-41ac-b817-d71fde2db7b0",
   "metadata": {},
   "source": [
    "* Create a directory and add it to the enviroment variable PYTHONPATH\n",
    "\n",
    "* Inside this directory, put the module:\n",
    "  - as a python file _module_name.py_ or better\n",
    "  - inside a subdirectory _subdir/module_name.py_  \n",
    "  \n",
    "* The namespace when importing the module will be _module_name_ and _dir.module_name_ respectively  "
   ]
  },
  {
   "cell_type": "code",
   "execution_count": null,
   "id": "fdd1f2da-aa31-4828-ab5a-7e9c83b6c99f",
   "metadata": {},
   "outputs": [],
   "source": [
    "# Check PYTHONPATH\n",
    "# Directory addeed: path_name/packages\n",
    "import sys\n",
    "print(sys.path)"
   ]
  },
  {
   "cell_type": "code",
   "execution_count": null,
   "id": "da855d56-79bd-4d2a-8f58-8d53e86881e5",
   "metadata": {},
   "outputs": [],
   "source": [
    "print(dir())"
   ]
  },
  {
   "cell_type": "code",
   "execution_count": null,
   "id": "fae21d32-220b-42d8-b6d7-19e228426269",
   "metadata": {},
   "outputs": [],
   "source": [
    "# Module: packages/modtest/moduleA\n",
    "from modtest import moduleA"
   ]
  },
  {
   "cell_type": "code",
   "execution_count": null,
   "id": "30a3dff2-1874-4725-af8a-6df750b14011",
   "metadata": {},
   "outputs": [],
   "source": [
    "print(dir())"
   ]
  },
  {
   "cell_type": "code",
   "execution_count": null,
   "id": "f1ab47b5-6260-42ff-a0a1-d7a90bbce371",
   "metadata": {},
   "outputs": [],
   "source": [
    "print(dir(moduleA))"
   ]
  },
  {
   "cell_type": "code",
   "execution_count": null,
   "id": "b0972794-fac1-432f-bdde-15d3e0cbaae3",
   "metadata": {},
   "outputs": [],
   "source": [
    "moduleA.var"
   ]
  },
  {
   "cell_type": "code",
   "execution_count": null,
   "id": "40f2c6ff-4cec-467f-9ab1-10d991cc3568",
   "metadata": {},
   "outputs": [],
   "source": [
    "%reset -f"
   ]
  },
  {
   "cell_type": "markdown",
   "id": "4056db80-d079-4967-987f-1610543ea26a",
   "metadata": {},
   "source": [
    "### Packages or collection of Python modules"
   ]
  },
  {
   "cell_type": "markdown",
   "id": "d16c0f84-e8c4-4d50-b0ce-0a4f67d60e1a",
   "metadata": {},
   "source": [
    "* It is preferable to put the package in a directory added to the PYTHONPATH \n",
    "  \n",
    "* Inside this directory, the module is placed inside a subdirectory _package_name_\n",
    "\n",
    "* This subdirectory can contain any number of python files and any number of directories containing python files \n",
    "\n",
    "* Inside each subdirectory an \\_\\_ini\\_\\_.py file can be used to put initialization code."
   ]
  },
  {
   "cell_type": "raw",
   "id": "6c334d6b-b772-40c7-af96-dba488440848",
   "metadata": {},
   "source": [
    " + packages                # directory in PYTHONPATH\n",
    "   |\n",
    "   |__+ moduleA            # package name\n",
    "   |  |__+ __init__.py\n",
    "   |  |__+ modfile.py      # python file\n",
    "   |  |    [*] fun1        # definitions inside\n",
    "   |  |    [*] fun2\n",
    "   |  |__+ ...             # more python files\n",
    "   |  |\n",
    "   |  |__+ moddir          # subdirectory\n",
    "   |     |__+ __init__.py\n",
    "   |     |__+ modfileA.py  # pytho files\n",
    "   |     |    [*] fun1     # definitions inside\n",
    "   |     |\t  [*] fun2\n",
    "   |     |__+ modfileB.py  # more pytho file\n",
    "   |   ...                 # more subdirectories\n",
    "   |\n",
    "   |__+ ...                # another package\n",
    "      |__ ..."
   ]
  },
  {
   "cell_type": "markdown",
   "id": "7aa97189-cfaa-43f5-a75e-5a606136b0ec",
   "metadata": {},
   "source": [
    "### Loading modules"
   ]
  },
  {
   "cell_type": "markdown",
   "id": "63bd60dd-1b8c-44c7-a3f6-cf730d6fdd9f",
   "metadata": {},
   "source": [
    "##### From files *.py in moduleA"
   ]
  },
  {
   "cell_type": "markdown",
   "id": "f8c62b33-8282-446c-8c34-edfdc76cd639",
   "metadata": {},
   "source": [
    "###### Example 1"
   ]
  },
  {
   "cell_type": "code",
   "execution_count": null,
   "id": "edbbd033-ccce-49eb-84b2-8e3f5fb71051",
   "metadata": {},
   "outputs": [],
   "source": [
    "# from moduleA import modfile\n",
    "# modfile.fun1()\n",
    "\n",
    "%reset -f\n",
    "from numerics import utils\n",
    "print(utils.sort_list([4, 3, 2, 1]))"
   ]
  },
  {
   "cell_type": "markdown",
   "id": "5c2c543a-91e6-4e75-b30c-b8b9e678e1ca",
   "metadata": {},
   "source": [
    "###### Ejemplo 2"
   ]
  },
  {
   "cell_type": "code",
   "execution_count": null,
   "id": "69e90c8e-09ac-46a6-8d41-63df9eecfb2f",
   "metadata": {},
   "outputs": [],
   "source": [
    "# from moduleA.modfile import fun2\n",
    "# fun2()\n",
    "\n",
    "%reset -f\n",
    "from numerics.utils import sort_list\n",
    "print(sort_list([4, 3, 2, 1]))"
   ]
  },
  {
   "cell_type": "markdown",
   "id": "21c84fad-338f-49e1-b7ad-49fef8d83eef",
   "metadata": {},
   "source": [
    "##### From directories in moduleA"
   ]
  },
  {
   "cell_type": "markdown",
   "id": "0a7a62a6-b725-44eb-bb91-7232df3b1ed9",
   "metadata": {},
   "source": [
    "###### Ejemplo 1"
   ]
  },
  {
   "cell_type": "code",
   "execution_count": null,
   "id": "7ccd625f-2e1d-4596-ae1a-3c3732cc203a",
   "metadata": {},
   "outputs": [],
   "source": [
    "# from moduleA.moddir import modfileA\n",
    "# modfileA.fun1()\n",
    "\n",
    "%reset -f\n",
    "from numerics.rootfinding import poly_solver\n",
    "print(poly_solver.eq2solve(1, 2, 1))"
   ]
  },
  {
   "cell_type": "markdown",
   "id": "631c16a0-599b-4876-b33d-dc7bdd658729",
   "metadata": {},
   "source": [
    "###### Ejemplo 2"
   ]
  },
  {
   "cell_type": "code",
   "execution_count": null,
   "id": "f0198044-cf4f-4e25-af09-0fce36b17f1d",
   "metadata": {},
   "outputs": [],
   "source": [
    "# from moduleA.moddir.modfileA import fun2\n",
    "# fun2()\n",
    "\n",
    "%reset -f\n",
    "from numerics.rootfinding.poly_solver import eq2solve\n",
    "print(eq2solve(1, 2, 1))"
   ]
  },
  {
   "cell_type": "markdown",
   "id": "09c00c9c-422b-4b70-9c12-6c404f480b8b",
   "metadata": {},
   "source": [
    "##### Using \\_\\_init\\_\\_.py file to load python files and skip their namespaces"
   ]
  },
  {
   "cell_type": "markdown",
   "id": "5fffb676-8357-4215-aa4e-644a6e6085f7",
   "metadata": {},
   "source": [
    "- Create the \\_\\_init\\_\\_.py inside the subdirectory _moddir_.\n",
    "- Inside this file put the code: `from .modfileA import *` to load modfileA and skip its namespace"
   ]
  },
  {
   "cell_type": "markdown",
   "id": "785a991d-2a5f-4558-991d-09eb15c2e5ce",
   "metadata": {},
   "source": [
    "###### Ejemplo 1"
   ]
  },
  {
   "cell_type": "code",
   "execution_count": null,
   "id": "6998b317-9476-45ff-af81-4505258bd792",
   "metadata": {},
   "outputs": [],
   "source": [
    "# from moduleA import moddir\n",
    "# moddir.fun1()\n",
    "\n",
    "# skip poly_solver\n",
    "%reset -f\n",
    "from numerics import rootfinding\n",
    "print(rootfinding.eq2solve(1, 2, 1))"
   ]
  },
  {
   "cell_type": "markdown",
   "id": "19b0dccc-89bb-4b2e-bbdc-9a6ded91c52d",
   "metadata": {},
   "source": [
    "###### Example 2"
   ]
  },
  {
   "cell_type": "code",
   "execution_count": null,
   "id": "96fdc5b5-7cb7-47bf-b2df-2f11afce8a2d",
   "metadata": {},
   "outputs": [],
   "source": [
    "# skip poly_solver\n",
    "%reset -f\n",
    "from numerics import rootfinding as rf2\n",
    "print(rf2.eq2solve(1, 2, 1))"
   ]
  },
  {
   "cell_type": "code",
   "execution_count": null,
   "id": "d7f2a9b4-c59d-4243-aee2-685372566482",
   "metadata": {},
   "outputs": [],
   "source": [
    "# skip poly_solver\n",
    "%reset -f\n",
    "from numerics.rootfinding import eq2solve\n",
    "print(eq2solve(1, 2, 1))"
   ]
  },
  {
   "cell_type": "code",
   "execution_count": null,
   "id": "48ddf699-0c80-4c84-93a2-304bbda39a69",
   "metadata": {},
   "outputs": [],
   "source": [
    "# skip poly_solver\n",
    "%reset -f\n",
    "import numerics.rootfinding as rf\n",
    "print(rf.eq2solve(1, 2, 1))"
   ]
  },
  {
   "cell_type": "markdown",
   "id": "46768341-d512-45e2-81c7-c856b1970ef2",
   "metadata": {},
   "source": [
    "##### Using \\_\\_init\\_\\_.py file to load complete subdirectories and skip their namespaces"
   ]
  },
  {
   "cell_type": "markdown",
   "id": "a7d65834-c00c-4024-8c55-78c26010b55e",
   "metadata": {},
   "source": [
    "- Create the \\_\\_init\\_\\_.py inside the main directory _moduleA_.\n",
    "- Inside this file put the code: `from . import moddir` to read the \\_\\_init\\_\\_.py located inside _moddir_\n",
    "- Inside the main \\_\\_init\\_\\_.py put the code: `from .moddir import *` to skip the namespace _moddir_"
   ]
  },
  {
   "cell_type": "markdown",
   "id": "2499b890-a8af-45e4-b013-b344abed693f",
   "metadata": {},
   "source": [
    "###### Example 3"
   ]
  },
  {
   "cell_type": "code",
   "execution_count": null,
   "id": "e17b461c-a98c-4796-a386-76f6a4f96743",
   "metadata": {},
   "outputs": [],
   "source": [
    "# import moduleA\n",
    "# moduleA.moddir.fun1()\n",
    "# moduleA.fun1()  \n",
    "\n",
    "%reset -f\n",
    "import numerics\n",
    "print(numerics.rootfinding.eq2solve(1, 2, 1))"
   ]
  },
  {
   "cell_type": "code",
   "execution_count": null,
   "id": "94ab719b-a39b-4961-b473-7522ad228a53",
   "metadata": {},
   "outputs": [],
   "source": [
    "# if there is code to skip the namespace \"rootfinding\"\n",
    "%reset -f\n",
    "import numerics\n",
    "print(numerics.eq2solve(1, 2, 1))"
   ]
  },
  {
   "cell_type": "markdown",
   "id": "80172a24-30bd-4a67-8c58-a07be28329c0",
   "metadata": {},
   "source": [
    "###### Example 4"
   ]
  },
  {
   "cell_type": "code",
   "execution_count": null,
   "id": "b44b730b-15d0-4795-bcd2-ba6f4ed22cde",
   "metadata": {},
   "outputs": [],
   "source": [
    "%reset -f\n",
    "import numerics as nm\n",
    "print(nm.rootfinding.eq2solve(1, 2, 1))"
   ]
  },
  {
   "cell_type": "code",
   "execution_count": null,
   "id": "3f9a01f5-4323-4303-98b5-a42a5b382362",
   "metadata": {},
   "outputs": [],
   "source": [
    "# if there is code to skip the namespace \"rootfinding\"\n",
    "%reset -f\n",
    "import numerics as nm\n",
    "print(nm.eq2solve(1, 2, 1))"
   ]
  },
  {
   "cell_type": "markdown",
   "id": "9c5c449b-700d-4caf-94b9-fde33b1ad150",
   "metadata": {},
   "source": [
    "###### Example 5"
   ]
  },
  {
   "cell_type": "code",
   "execution_count": null,
   "id": "c3ed883d-211a-477c-ae6c-0e7c878f2688",
   "metadata": {},
   "outputs": [],
   "source": [
    "%reset -f\n",
    "from numerics import *\n",
    "print(rootfinding.eq2solve(1, 2, 1))"
   ]
  },
  {
   "cell_type": "code",
   "execution_count": null,
   "id": "0f6609f7-c38e-43dc-83dd-ba2d0a3b517a",
   "metadata": {},
   "outputs": [],
   "source": [
    "# if there is code to skip the namespace \"rootfinding\"\n",
    "%reset -f\n",
    "from numerics import *\n",
    "print(eq2solve(1, 2, 1))"
   ]
  }
 ],
 "metadata": {
  "kernelspec": {
   "display_name": "Python 3 (ipykernel)",
   "language": "python",
   "name": "python3"
  },
  "language_info": {
   "codemirror_mode": {
    "name": "ipython",
    "version": 3
   },
   "file_extension": ".py",
   "mimetype": "text/x-python",
   "name": "python",
   "nbconvert_exporter": "python",
   "pygments_lexer": "ipython3",
   "version": "3.9.6"
  }
 },
 "nbformat": 4,
 "nbformat_minor": 5
}
